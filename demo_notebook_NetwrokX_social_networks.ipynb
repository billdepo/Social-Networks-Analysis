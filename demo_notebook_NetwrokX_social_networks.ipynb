{
 "cells": [
  {
   "cell_type": "markdown",
   "metadata": {},
   "source": [
    "# Social Network Analysis with Python and NetworkX\n",
    "\n",
    "Social Network Analysis (SNA) has a wide applicability in many scientific fields and industries. \n",
    "This is a gentle introduction to SNA using Python and NetworkX, a powerful and mature python library for the study of the structure, dynamics, and functions of complex networks."
   ]
  },
  {
   "cell_type": "markdown",
   "metadata": {},
   "source": [
    "## Outline\n",
    "\n",
    "1. Brief Introduction to Graph Theory\n",
    "    * Mathematical foundation of Social Network Analysis.    \n",
    "2. Creating and Manipulating Graphs\n",
    "    * Data Structures: Graphs\n",
    "    * Adding nodes and edges.\n",
    "    * Adding and updating node and edge attributes.\n",
    "    * Graph generators.\n",
    "    * Visualizing graphs using Matplotlib.\n",
    "    * Common formats for reading and writing Graphs. \n",
    "3. Network Analysis\n",
    "    * Basic concepts: Degree.\n",
    "    * Distance measures: paths, simple paths, and shortest paths.\n",
    "    * Node centrality analysis: measures and their relation.\n",
    "    * Analyzing groups and subgroups: Cliques, k-cores, components, and k-components."
   ]
  },
  {
   "cell_type": "markdown",
   "metadata": {},
   "source": [
    "## Brief Introduction to Graph Theory\n",
    "\n",
    "Social Network Analysis is an analytical approach to investigate social structures and phenomena which is based on Graph Theory. This approach is essentially relational and structural because it focuses on the patterns of relations between entities in a social system modeling them as **networked structures**.\n",
    "\n",
    "These networked structures are characterized in terms of **nodes** or **vertices** (individual actors, people, or things within the network) and the **edges** or **links** (relationships or interactions) that connect them. From a mathematical point of view, these networked structures are modeled as **Graphs**."
   ]
  },
  {
   "cell_type": "markdown",
   "metadata": {},
   "source": [
    "\n",
    "* A **Graph** $G=(V,E)$ consists of a set $V(G)$ of $n$ nodes and a set $E(G)$ of $m$ edges, each one linking a pair of nodes. The **order** of $G$ is its number of nodes $n$ and the **size** of $G$ is its number of edges $m$. Two nodes are adjacent if there is an edge that links them, and this edge is said to be incident with the two nodes it links. \n",
    "\n",
    "* A **subgraph** of $G$ is a graph whose nodes and edges are all in $G$. An **induced subgraph** $G[U]$ is a subgraph defined by a subset of nodes $U \\subseteq V(G)$ with all the edges in $G$ that link nodes in $U$. A subgraph is **maximal** in respect to some property if the addition of more nodes to the subgraph will cause the loss of that property.\n",
    "\n",
    "* A **path** is an alternating sequence of distinct nodes and edges in which each edge is incident with its preceding and following nodes. The length of a path is the number of edges it contains. A graph is connected if every pair of nodes is joined at least by one path.\n",
    "\n",
    "* The **shortest path** between two nodes is a path with the minimum number of edges. The **distance** between any two nodes $u$ and $v$ of $G$, denoted $d_{G}(u,v)$, is the length of the shortest path between them. The **diameter** of a graph $G$, denoted $diam(G)$, is the length of the longest shortest path between any pair of nodes of $G$.\n",
    "\n",
    "* **Node independent paths** are paths between two nodes that share no nodes in common other than their starting and ending nodes.\n",
    "\n",
    "* A **component** of a graph $G$ is a maximal connected subgraph, which means that there is at least one path between any two nodes in that subgraph.\n",
    "\n",
    "* The **density** of a graph $G$, denoted $\\varrho(G)$, measures how many edges are in set $E(G)$ compared to the maximum possible number of edges among nodes in $V(G)$. Thus, density is calculated as $\\varrho(G) = \\frac{2m}{n(n-1)}$.\n",
    "\n",
    "* A **complete graph** is a graph in which all possible edges are present, so its density is 1. A **clique** is an induced subgraph $G[U]$ formed by a subset of nodes $U \\subseteq V(G)$ if, and only if, the induced subgraph $G[U]$ is a complete graph. Thus, there is an edge that links each pair of nodes in a clique. \n",
    "\n",
    "* The **degree** of a node $v$, denoted $deg(v)$, is the number of edges that are incident with $v$. The minimum degree of a graph $G$ is denoted $\\delta(G)$ and it is the smallest degree of a node in $G$.\n",
    "\n",
    "* A $k$-core of $G$ is a maximal subgraph in which all nodes have degree greater or equal than $k$; which means that a $k$-core is a maximal subgraph with the property $\\delta \\ge k$. The **core number** of a node is the largest value $k$ of a $k$-core containing that node.\n",
    "\n",
    "* The removal of a node $v$ from $G$ results in a subgraph $G - v$ that does not contain $v$ nor any of its incident edges.\n",
    "\n",
    "* The **node connectivity** of a graph $G$ is denoted $\\kappa(G)$ and is defined as the minimum number of nodes that must be removed in order to disconnect the graph $G$. Those nodes that must be removed to disconnect $G$ form a **node cut-set**. If it is only necessary to remove one node to disconnect $G$, this node is called an **articulation point**.\n",
    "\n",
    "* We can also define the **local node connectivity** for two nodes $u$ and $v$, denoted $\\kappa_{G}(u,v)$, as the minimum number of nodes that must be removed in order to destroy all paths that join $u$ and $v$ in $G$. Then the **node connectivity** of $G$ is equal to $min{\\{\\kappa_{G}(u,v):u,v \\in V(G)\\}}$.\n",
    "\n",
    "* Similarly, the **edge connectivity** of a graph $G$ is denoted $\\lambda(G)$ and is defined as the minimum number of edges that must be removed in order to disconnect the graph $G$. The edges that must be removed to disconnect $G$ form an **edge cut-set**.\n",
    "\n",
    "* A **$k$-component** is a maximal subgraph of a graph $G$ that has, at least, node connectivity $k$: we need to remove at least $k$ nodes to break it into more components. The **component number** of a node is the largest value $k$ of a $k$-component containing that node. Notice that $k$-components have an inherent hierarchical structure because they are nested in terms of connectivity: a connected graph can contain several 2-components, each of which can contain one or more tricomponents, and so forth. \n"
   ]
  },
  {
   "cell_type": "markdown",
   "metadata": {},
   "source": [
    "## Creating and Manipulating Graphs using NetworkX\n",
    "\n",
    "NetworkX is a python package for the creation, manipulation, and study of the structure, dynamics, and functions of complex networks."
   ]
  },
  {
   "cell_type": "code",
   "execution_count": 1,
   "metadata": {},
   "outputs": [],
   "source": [
    "import networkx as nx\n",
    "import matplotlib.pyplot as plt\n",
    "%matplotlib inline"
   ]
  },
  {
   "cell_type": "markdown",
   "metadata": {},
   "source": [
    "### Data Structures: Graphs\n",
    "\n",
    "\n",
    "* **Graph**: Undirected graph, allows self-loops"
   ]
  },
  {
   "cell_type": "code",
   "execution_count": 2,
   "metadata": {},
   "outputs": [],
   "source": [
    "G = nx.Graph()"
   ]
  },
  {
   "cell_type": "markdown",
   "metadata": {},
   "source": [
    "#### Internal Graph representation\n",
    "Common graph representations, for instance of a complete undirected graph of 3 nodes (i.e. a triangle):"
   ]
  },
  {
   "cell_type": "code",
   "execution_count": 3,
   "metadata": {},
   "outputs": [
    {
     "data": {
      "image/png": "[encoded data removed]",
      "text/plain": [
       "<Figure size 432x288 with 1 Axes>"
      ]
     },
     "metadata": {},
     "output_type": "display_data"
    }
   ],
   "source": [
    "G = nx.Graph()\n",
    "G.add_edges_from([('1', '2'), ('1', '3'), ('2', '3'), ('3','4')])\n",
    "nx.draw(G, node_size=900, node_color='red', with_labels=True)"
   ]
  },
  {
   "cell_type": "markdown",
   "metadata": {},
   "source": [
    "\n",
    "**Adjacency Matrix** A $n x n$ matrix:\n",
    "\n",
    "        0  1  1        G = [[0, 1, 1],\n",
    "        1  0  1             [1, 0, 1],\n",
    "        1  1  0             [1, 1, 0]]\n",
    "\n",
    "**Adjacency List** A list of neighbors:\n",
    "\n",
    "        A: B, C        G = {'A': ['B', 'C'],\n",
    "        B: A, C             'B': ['A', 'C'],\n",
    "        C: A, B             'C': ['A', 'B']} \n",
    "\n",
    "**Edge List** A list of edges:\n",
    "\n",
    "        A B            G = [['A', 'B'],\n",
    "        A C                 ['A', 'C'],\n",
    "        B C                 ['B', 'C']]\n",
    "\n",
    "NetworkX uses a __dictionary of dictionaries__ based **Adjacency List** format which is fast and lightweight for sparse graphs. \n",
    "\n",
    "This approach allows for natural expressions such as:\n",
    "\n",
    "* **n in G** to test if the graph $G$ contains node $n$\n",
    "* **for n in G** to loop over all nodes\n",
    "* **G[n]** to access all neighbors of $n$ in $G$\n",
    "* **len(G)** to get the number of nodes in $G$\n",
    "\n",
    "Internally the node $n$ is a key in the $G.adj$ dictionary, values are themselves dictionaries with neighbors as keys and another dictionary as value that holds edge attributes.\n",
    "\n",
    "So NetworkX graphs are \"dictionaries all the way down\". "
   ]
  },
  {
   "cell_type": "code",
   "execution_count": 4,
   "metadata": {},
   "outputs": [
    {
     "name": "stdout",
     "output_type": "stream",
     "text": [
      "{'1': {'2': {}, '3': {}}, '2': {'1': {}, '3': {}}, '3': {'1': {}, '2': {}, '4': {}}, '4': {'3': {}}}\n"
     ]
    }
   ],
   "source": [
    "print(G.adj)"
   ]
  },
  {
   "cell_type": "code",
   "execution_count": 5,
   "metadata": {},
   "outputs": [
    {
     "data": {
      "text/plain": [
       "True"
      ]
     },
     "execution_count": 5,
     "metadata": {},
     "output_type": "execute_result"
    }
   ],
   "source": [
    "'1' in G"
   ]
  },
  {
   "cell_type": "code",
   "execution_count": 6,
   "metadata": {},
   "outputs": [
    {
     "name": "stdout",
     "output_type": "stream",
     "text": [
      "1\n",
      "2\n",
      "3\n",
      "4\n"
     ]
    }
   ],
   "source": [
    "for n in G:\n",
    "    print(n)"
   ]
  },
  {
   "cell_type": "code",
   "execution_count": 7,
   "metadata": {},
   "outputs": [
    {
     "data": {
      "text/plain": [
       "AtlasView({'2': {}, '3': {}})"
      ]
     },
     "execution_count": 7,
     "metadata": {},
     "output_type": "execute_result"
    }
   ],
   "source": [
    "G['1']"
   ]
  },
  {
   "cell_type": "code",
   "execution_count": 8,
   "metadata": {},
   "outputs": [
    {
     "data": {
      "text/plain": [
       "4"
      ]
     },
     "execution_count": 8,
     "metadata": {},
     "output_type": "execute_result"
    }
   ],
   "source": [
    "len(G)"
   ]
  },
  {
   "cell_type": "markdown",
   "metadata": {
    "collapsed": true
   },
   "source": [
    "### Creating Graphs and adding and removing Nodes and Edges\n",
    "\n",
    "NetworkX is a node centric package; nodes can be any hashable object.\n",
    "\n",
    "A graph $G$ can be grown in several ways:\n",
    "\n",
    "* Adding nodes with:\n",
    "    - **G.add_node** : One node at a time\n",
    "    - **G.add_nodes_from** : A container of nodes\n",
    "* Adding edges with:\n",
    "    - **G.add_edge**: One edge at a time\n",
    "    - **G.add_edges_from** : A container of edges\n"
   ]
  },
  {
   "cell_type": "code",
   "execution_count": 9,
   "metadata": {},
   "outputs": [],
   "source": [
    "# Create an undirected Graph\n",
    "G = nx.Graph()\n",
    "# One node at a time\n",
    "G.add_node(1)  # \"method\" of G\n",
    "# A list of nodes\n",
    "G.add_nodes_from([2, 3])\n",
    "# A container of nodes\n",
    "H = nx.path_graph(10)\n",
    "G.add_nodes_from(H) # G now contains the nodes of H\n",
    "# In contrast, you could use the graph H as a node in G. \n",
    "G.add_node(H) # G now contains Graph H as a node "
   ]
  },
  {
   "cell_type": "markdown",
   "metadata": {},
   "source": [
    "G can also be grown by adding edges.\n",
    "\n",
    "If the edge added already exists no error is raised.\n",
    "\n",
    "If the nodes referred by edges do not already exist they are automatically added to the graph."
   ]
  },
  {
   "cell_type": "code",
   "execution_count": 10,
   "metadata": {},
   "outputs": [],
   "source": [
    "# Adding a single edge\n",
    "G.add_edge(1, 2)\n",
    "# If you have a tuple representing an edge you have to unpack it\n",
    "e = (2, 3)\n",
    "G.add_edge(*e) # unpack edge tuple with *\n",
    "# Add a list of edges \n",
    "G.add_edges_from([(1, 2), (1, 3)])\n",
    "# Add from a container of edges\n",
    "G.add_edges_from(H.edges())"
   ]
  },
  {
   "cell_type": "markdown",
   "metadata": {},
   "source": [
    "Similarly you can remove nodes and edges\n",
    "\n",
    "* Removing nodes with:\n",
    "    - **G.remove_node** : One node at a time\n",
    "    - **G.remove_nodes_from** : A conteiner of nodes\n",
    "* Adding edges with:\n",
    "    - **G.remove_edge**: One edge at a time\n",
    "    - **G.remove_edges_from** : A container of edges\n"
   ]
  },
  {
   "cell_type": "markdown",
   "metadata": {},
   "source": [
    "### Adding and removing Graph, Node, and Edge Attributes\n",
    "\n",
    "Each graph, node, and edge can hold key/value attribute pairs in an associated attribute dictionary."
   ]
  },
  {
   "cell_type": "code",
   "execution_count": 11,
   "metadata": {},
   "outputs": [
    {
     "data": {
      "text/plain": [
       "{'day': 'Friday', 'name': 'My Graph'}"
      ]
     },
     "execution_count": 11,
     "metadata": {},
     "output_type": "execute_result"
    }
   ],
   "source": [
    "# Assign graph attributes when creating a new graph\n",
    "G = nx.Graph(day='Friday', name='My Graph')\n",
    "G.graph # Access to the dictionary that stores graph attrs"
   ]
  },
  {
   "cell_type": "code",
   "execution_count": 12,
   "metadata": {},
   "outputs": [
    {
     "data": {
      "text/plain": [
       "{'day': 'Monday', 'name': 'My Graph'}"
      ]
     },
     "execution_count": 12,
     "metadata": {},
     "output_type": "execute_result"
    }
   ],
   "source": [
    "# Or you can modify attributes later\n",
    "G.graph['day']='Monday'\n",
    "G.graph"
   ]
  },
  {
   "cell_type": "markdown",
   "metadata": {},
   "source": [
    "#### Node Attributes\n",
    "\n",
    "In order to add node attributes you can use the methods **G.add_node** and **G.add_nodes_from**, or the node attribute dictionary **G.nodes**"
   ]
  },
  {
   "cell_type": "code",
   "execution_count": 13,
   "metadata": {},
   "outputs": [],
   "source": [
    "G.add_node(1, time='5pm')\n",
    "G.add_nodes_from([3], time='2pm') # multiple nodes\n",
    "G.nodes[1]['room'] = 714 # add new attribute"
   ]
  },
  {
   "cell_type": "markdown",
   "metadata": {},
   "source": [
    "Adding a node that is already in the graph does not raise an error, you can add new attributes to an existing node by adding it again with a new attribute:  "
   ]
  },
  {
   "cell_type": "code",
   "execution_count": 14,
   "metadata": {},
   "outputs": [],
   "source": [
    "G.add_node(3, room=715)"
   ]
  },
  {
   "cell_type": "markdown",
   "metadata": {},
   "source": [
    "In order to access node attribute information you can:"
   ]
  },
  {
   "cell_type": "code",
   "execution_count": 15,
   "metadata": {},
   "outputs": [
    {
     "data": {
      "text/plain": [
       "'5pm'"
      ]
     },
     "execution_count": 15,
     "metadata": {},
     "output_type": "execute_result"
    }
   ],
   "source": [
    "# Access the value of the attribute\n",
    "G.nodes[1]['time']"
   ]
  },
  {
   "cell_type": "markdown",
   "metadata": {},
   "source": [
    "In practice it's usually more useful to iterate over nodes with their attributes "
   ]
  },
  {
   "cell_type": "code",
   "execution_count": 16,
   "metadata": {},
   "outputs": [
    {
     "data": {
      "text/plain": [
       "[1, 3]"
      ]
     },
     "execution_count": 16,
     "metadata": {},
     "output_type": "execute_result"
    }
   ],
   "source": [
    "# Nodes without attributes\n",
    "list(G.nodes())"
   ]
  },
  {
   "cell_type": "code",
   "execution_count": 17,
   "metadata": {},
   "outputs": [
    {
     "data": {
      "text/plain": [
       "[(1, {'time': '5pm', 'room': 714}), (3, {'time': '2pm', 'room': 715})]"
      ]
     },
     "execution_count": 17,
     "metadata": {},
     "output_type": "execute_result"
    }
   ],
   "source": [
    "# Tuples of node and attribute dictionary\n",
    "list(G.nodes(data=True))"
   ]
  },
  {
   "cell_type": "code",
   "execution_count": 18,
   "metadata": {},
   "outputs": [
    {
     "name": "stdout",
     "output_type": "stream",
     "text": [
      "[(1, 714), (3, 715)]\n"
     ]
    }
   ],
   "source": [
    "# You can also directly specify the node attribute in the data keyword\n",
    "print(list(G.nodes(data='room')))"
   ]
  },
  {
   "cell_type": "markdown",
   "metadata": {},
   "source": [
    "You can also set node attributes using the function **nx.set_node_attributes**. Its arguments are a graph object, a string with the name of the attribute, and a dictionary keyed by node with the value of the attribute for each node or a single value that will be used for all nodes:"
   ]
  },
  {
   "cell_type": "code",
   "execution_count": 19,
   "metadata": {},
   "outputs": [],
   "source": [
    "nx.set_node_attributes(G, 'year', 2021)"
   ]
  },
  {
   "cell_type": "markdown",
   "metadata": {},
   "source": [
    "You can get a dictionary keyed by node with the value of a node attribute with the function **nx.get_node_attributes**:"
   ]
  },
  {
   "cell_type": "code",
   "execution_count": 20,
   "metadata": {},
   "outputs": [
    {
     "data": {
      "text/plain": [
       "{1: '5pm', 3: '2pm'}"
      ]
     },
     "execution_count": 20,
     "metadata": {},
     "output_type": "execute_result"
    }
   ],
   "source": [
    "nx.get_node_attributes(G, 'time')"
   ]
  },
  {
   "cell_type": "markdown",
   "metadata": {},
   "source": [
    "#### Edge Attributes\n",
    "\n",
    "In order to add edge attributes you can use the methods **G.add_edge** and **G.add_edges_from**; the edge attribute dictionary **G.edges** or subscript notation."
   ]
  },
  {
   "cell_type": "code",
   "execution_count": 21,
   "metadata": {},
   "outputs": [],
   "source": [
    "G.add_edge(1, 2, weight=4.0 )\n",
    "G.add_edges_from([(3, 4),(4, 5)], color='red')\n",
    "G.add_edges_from([(1, 2, {'color':'blue'}), (2, 3, {'weight':8})])\n",
    "# When an edge is already added you can use subscript notation or update the edge attribute dictionary\n",
    "G[1][2]['weight'] = 4.0"
   ]
  },
  {
   "cell_type": "markdown",
   "metadata": {},
   "source": [
    "Adding an edge that is already in the graph does not raise an error, you can add new attributes to an existing edge by adding it again with a new attribute:  "
   ]
  },
  {
   "cell_type": "code",
   "execution_count": 22,
   "metadata": {},
   "outputs": [],
   "source": [
    "G.add_edge(3, 4, weight=12)"
   ]
  },
  {
   "cell_type": "markdown",
   "metadata": {},
   "source": [
    "In order to access edge attribute information you can:"
   ]
  },
  {
   "cell_type": "code",
   "execution_count": 23,
   "metadata": {},
   "outputs": [
    {
     "data": {
      "text/plain": [
       "4.0"
      ]
     },
     "execution_count": 23,
     "metadata": {},
     "output_type": "execute_result"
    }
   ],
   "source": [
    "# Access the value of attribute weight\n",
    "G[1][2]['weight'] # or equivalently G.edges[1][2]['weight']"
   ]
  },
  {
   "cell_type": "code",
   "execution_count": 24,
   "metadata": {},
   "outputs": [
    {
     "data": {
      "text/plain": [
       "{'weight': 4.0, 'color': 'blue'}"
      ]
     },
     "execution_count": 24,
     "metadata": {},
     "output_type": "execute_result"
    }
   ],
   "source": [
    "# Attributes dictionary for edge 1 -- 2\n",
    "G[1][2] "
   ]
  },
  {
   "cell_type": "markdown",
   "metadata": {},
   "source": [
    "In practice it's usually more useful to iterate over edges with their attributes "
   ]
  },
  {
   "cell_type": "code",
   "execution_count": 25,
   "metadata": {},
   "outputs": [
    {
     "data": {
      "text/plain": [
       "[(1, 2), (3, 4), (3, 2), (4, 5)]"
      ]
     },
     "execution_count": 25,
     "metadata": {},
     "output_type": "execute_result"
    }
   ],
   "source": [
    "# Edges without attributes\n",
    "list(G.edges())"
   ]
  },
  {
   "cell_type": "code",
   "execution_count": 26,
   "metadata": {},
   "outputs": [
    {
     "data": {
      "text/plain": [
       "[(1, 2, {'weight': 4.0, 'color': 'blue'}),\n",
       " (3, 4, {'color': 'red', 'weight': 12}),\n",
       " (3, 2, {'weight': 8}),\n",
       " (4, 5, {'color': 'red'})]"
      ]
     },
     "execution_count": 26,
     "metadata": {},
     "output_type": "execute_result"
    }
   ],
   "source": [
    "# Edges as tuples of nodes and edge attributes\n",
    "list(G.edges(data=True))"
   ]
  },
  {
   "cell_type": "code",
   "execution_count": 27,
   "metadata": {},
   "outputs": [
    {
     "name": "stdout",
     "output_type": "stream",
     "text": [
      "[(1, 2, 4.0), (3, 4, 12), (3, 2, 8), (4, 5, None)]\n"
     ]
    }
   ],
   "source": [
    "# You can also directly specify the edge attribute in the data keyword\n",
    "print(list(G.edges(data='weight')))"
   ]
  },
  {
   "cell_type": "markdown",
   "metadata": {},
   "source": [
    "You can also set edge attributes using the function **nx.set_edge_attributes**. Its arguments are a graph object, a string with the name of the attribute, and a dictionary keyed by edge with the value of the attribute for each edge or a single value that will be used for all edges:"
   ]
  },
  {
   "cell_type": "code",
   "execution_count": 28,
   "metadata": {},
   "outputs": [],
   "source": [
    "nx.set_edge_attributes(G, 'capacity', 1)"
   ]
  },
  {
   "cell_type": "markdown",
   "metadata": {},
   "source": [
    "You can get a dictionary keyed by edge with the value of an edge attribute with the function **nx.get_edge_attributes**:"
   ]
  },
  {
   "cell_type": "code",
   "execution_count": 29,
   "metadata": {},
   "outputs": [
    {
     "data": {
      "text/plain": [
       "{}"
      ]
     },
     "execution_count": 29,
     "metadata": {},
     "output_type": "execute_result"
    }
   ],
   "source": [
    "nx.get_edge_attributes(G, 'friendship')"
   ]
  },
  {
   "cell_type": "markdown",
   "metadata": {},
   "source": [
    "A useful method for quickly looking at our graph is **nx.info**"
   ]
  },
  {
   "cell_type": "code",
   "execution_count": 30,
   "metadata": {},
   "outputs": [
    {
     "name": "stdout",
     "output_type": "stream",
     "text": [
      "Name: My Graph\n",
      "Type: Graph\n",
      "Number of nodes: 5\n",
      "Number of edges: 4\n",
      "Average degree:   1.6000\n"
     ]
    }
   ],
   "source": [
    "print(nx.info(G))"
   ]
  },
  {
   "cell_type": "markdown",
   "metadata": {},
   "source": [
    "### Exercise: Building a Graph\n",
    "\n",
    "Build an undirected graph with 50 nodes named as integers from 1 to 50."
   ]
  },
  {
   "cell_type": "code",
   "execution_count": 31,
   "metadata": {},
   "outputs": [],
   "source": [
    "G = nx.Graph()\n",
    "G.add_nodes_from(range(1, 51))"
   ]
  },
  {
   "cell_type": "markdown",
   "metadata": {},
   "source": [
    "Add edges between nodes with consecutive numbers, that is, node 1 should have and edge to node 2, node 2 to node 3, etc ."
   ]
  },
  {
   "cell_type": "code",
   "execution_count": 32,
   "metadata": {},
   "outputs": [],
   "source": [
    "G.add_edges_from(zip(range(1, 51), range(2, 51)))"
   ]
  },
  {
   "cell_type": "markdown",
   "metadata": {},
   "source": [
    "Add a node attribute named **kind** with the value **odd** if the node is odd or **even** if the node is even:"
   ]
  },
  {
   "cell_type": "code",
   "execution_count": 33,
   "metadata": {},
   "outputs": [],
   "source": [
    "for n in G:\n",
    "    G.nodes[n]['kind'] = 'even' if n % 2 == 0 else 'odd'"
   ]
  },
  {
   "cell_type": "markdown",
   "metadata": {},
   "source": [
    "Add an edge attribute named **product** with the value of the product of the two nodes that it links."
   ]
  },
  {
   "cell_type": "code",
   "execution_count": 34,
   "metadata": {},
   "outputs": [
    {
     "name": "stdout",
     "output_type": "stream",
     "text": [
      "[(1, 2, {'product': 2}), (2, 3, {}), (3, 4, {}), (4, 5, {}), (5, 6, {}), (6, 7, {}), (7, 8, {}), (8, 9, {}), (9, 10, {}), (10, 11, {}), (11, 12, {}), (12, 13, {}), (13, 14, {}), (14, 15, {}), (15, 16, {}), (16, 17, {}), (17, 18, {}), (18, 19, {}), (19, 20, {}), (20, 21, {}), (21, 22, {}), (22, 23, {}), (23, 24, {}), (24, 25, {}), (25, 26, {}), (26, 27, {}), (27, 28, {}), (28, 29, {}), (29, 30, {}), (30, 31, {}), (31, 32, {}), (32, 33, {}), (33, 34, {}), (34, 35, {}), (35, 36, {}), (36, 37, {}), (37, 38, {}), (38, 39, {}), (39, 40, {}), (40, 41, {}), (41, 42, {}), (42, 43, {}), (43, 44, {}), (44, 45, {}), (45, 46, {}), (46, 47, {}), (47, 48, {}), (48, 49, {}), (49, 50, {})]\n",
      "[(1, 2, {'product': 2}), (2, 3, {'product': 6}), (3, 4, {}), (4, 5, {}), (5, 6, {}), (6, 7, {}), (7, 8, {}), (8, 9, {}), (9, 10, {}), (10, 11, {}), (11, 12, {}), (12, 13, {}), (13, 14, {}), (14, 15, {}), (15, 16, {}), (16, 17, {}), (17, 18, {}), (18, 19, {}), (19, 20, {}), (20, 21, {}), (21, 22, {}), (22, 23, {}), (23, 24, {}), (24, 25, {}), (25, 26, {}), (26, 27, {}), (27, 28, {}), (28, 29, {}), (29, 30, {}), (30, 31, {}), (31, 32, {}), (32, 33, {}), (33, 34, {}), (34, 35, {}), (35, 36, {}), (36, 37, {}), (37, 38, {}), (38, 39, {}), (39, 40, {}), (40, 41, {}), (41, 42, {}), (42, 43, {}), (43, 44, {}), (44, 45, {}), (45, 46, {}), (46, 47, {}), (47, 48, {}), (48, 49, {}), (49, 50, {})]\n",
      "[(1, 2, {'product': 2}), (2, 3, {'product': 6}), (3, 4, {'product': 12}), (4, 5, {}), (5, 6, {}), (6, 7, {}), (7, 8, {}), (8, 9, {}), (9, 10, {}), (10, 11, {}), (11, 12, {}), (12, 13, {}), (13, 14, {}), (14, 15, {}), (15, 16, {}), (16, 17, {}), (17, 18, {}), (18, 19, {}), (19, 20, {}), (20, 21, {}), (21, 22, {}), (22, 23, {}), (23, 24, {}), (24, 25, {}), (25, 26, {}), (26, 27, {}), (27, 28, {}), (28, 29, {}), (29, 30, {}), (30, 31, {}), (31, 32, {}), (32, 33, {}), (33, 34, {}), (34, 35, {}), (35, 36, {}), (36, 37, {}), (37, 38, {}), (38, 39, {}), (39, 40, {}), (40, 41, {}), (41, 42, {}), (42, 43, {}), (43, 44, {}), (44, 45, {}), (45, 46, {}), (46, 47, {}), (47, 48, {}), (48, 49, {}), (49, 50, {})]\n",
      "[(1, 2, {'product': 2}), (2, 3, {'product': 6}), (3, 4, {'product': 12}), (4, 5, {'product': 20}), (5, 6, {}), (6, 7, {}), (7, 8, {}), (8, 9, {}), (9, 10, {}), (10, 11, {}), (11, 12, {}), (12, 13, {}), (13, 14, {}), (14, 15, {}), (15, 16, {}), (16, 17, {}), (17, 18, {}), (18, 19, {}), (19, 20, {}), (20, 21, {}), (21, 22, {}), (22, 23, {}), (23, 24, {}), (24, 25, {}), (25, 26, {}), (26, 27, {}), (27, 28, {}), (28, 29, {}), (29, 30, {}), (30, 31, {}), (31, 32, {}), (32, 33, {}), (33, 34, {}), (34, 35, {}), (35, 36, {}), (36, 37, {}), (37, 38, {}), (38, 39, {}), (39, 40, {}), (40, 41, {}), (41, 42, {}), (42, 43, {}), (43, 44, {}), (44, 45, {}), (45, 46, {}), (46, 47, {}), (47, 48, {}), (48, 49, {}), (49, 50, {})]\n",
      "[(1, 2, {'product': 2}), (2, 3, {'product': 6}), (3, 4, {'product': 12}), (4, 5, {'product': 20}), (5, 6, {'product': 30}), (6, 7, {}), (7, 8, {}), (8, 9, {}), (9, 10, {}), (10, 11, {}), (11, 12, {}), (12, 13, {}), (13, 14, {}), (14, 15, {}), (15, 16, {}), (16, 17, {}), (17, 18, {}), (18, 19, {}), (19, 20, {}), (20, 21, {}), (21, 22, {}), (22, 23, {}), (23, 24, {}), (24, 25, {}), (25, 26, {}), (26, 27, {}), (27, 28, {}), (28, 29, {}), (29, 30, {}), (30, 31, {}), (31, 32, {}), (32, 33, {}), (33, 34, {}), (34, 35, {}), (35, 36, {}), (36, 37, {}), (37, 38, {}), (38, 39, {}), (39, 40, {}), (40, 41, {}), (41, 42, {}), (42, 43, {}), (43, 44, {}), (44, 45, {}), (45, 46, {}), (46, 47, {}), (47, 48, {}), (48, 49, {}), (49, 50, {})]\n",
      "[(1, 2, {'product': 2}), (2, 3, {'product': 6}), (3, 4, {'product': 12}), (4, 5, {'product': 20}), (5, 6, {'product': 30}), (6, 7, {'product': 42}), (7, 8, {}), (8, 9, {}), (9, 10, {}), (10, 11, {}), (11, 12, {}), (12, 13, {}), (13, 14, {}), (14, 15, {}), (15, 16, {}), (16, 17, {}), (17, 18, {}), (18, 19, {}), (19, 20, {}), (20, 21, {}), (21, 22, {}), (22, 23, {}), (23, 24, {}), (24, 25, {}), (25, 26, {}), (26, 27, {}), (27, 28, {}), (28, 29, {}), (29, 30, {}), (30, 31, {}), (31, 32, {}), (32, 33, {}), (33, 34, {}), (34, 35, {}), (35, 36, {}), (36, 37, {}), (37, 38, {}), (38, 39, {}), (39, 40, {}), (40, 41, {}), (41, 42, {}), (42, 43, {}), (43, 44, {}), (44, 45, {}), (45, 46, {}), (46, 47, {}), (47, 48, {}), (48, 49, {}), (49, 50, {})]\n",
      "[(1, 2, {'product': 2}), (2, 3, {'product': 6}), (3, 4, {'product': 12}), (4, 5, {'product': 20}), (5, 6, {'product': 30}), (6, 7, {'product': 42}), (7, 8, {'product': 56}), (8, 9, {}), (9, 10, {}), (10, 11, {}), (11, 12, {}), (12, 13, {}), (13, 14, {}), (14, 15, {}), (15, 16, {}), (16, 17, {}), (17, 18, {}), (18, 19, {}), (19, 20, {}), (20, 21, {}), (21, 22, {}), (22, 23, {}), (23, 24, {}), (24, 25, {}), (25, 26, {}), (26, 27, {}), (27, 28, {}), (28, 29, {}), (29, 30, {}), (30, 31, {}), (31, 32, {}), (32, 33, {}), (33, 34, {}), (34, 35, {}), (35, 36, {}), (36, 37, {}), (37, 38, {}), (38, 39, {}), (39, 40, {}), (40, 41, {}), (41, 42, {}), (42, 43, {}), (43, 44, {}), (44, 45, {}), (45, 46, {}), (46, 47, {}), (47, 48, {}), (48, 49, {}), (49, 50, {})]\n",
      "[(1, 2, {'product': 2}), (2, 3, {'product': 6}), (3, 4, {'product': 12}), (4, 5, {'product': 20}), (5, 6, {'product': 30}), (6, 7, {'product': 42}), (7, 8, {'product': 56}), (8, 9, {'product': 72}), (9, 10, {}), (10, 11, {}), (11, 12, {}), (12, 13, {}), (13, 14, {}), (14, 15, {}), (15, 16, {}), (16, 17, {}), (17, 18, {}), (18, 19, {}), (19, 20, {}), (20, 21, {}), (21, 22, {}), (22, 23, {}), (23, 24, {}), (24, 25, {}), (25, 26, {}), (26, 27, {}), (27, 28, {}), (28, 29, {}), (29, 30, {}), (30, 31, {}), (31, 32, {}), (32, 33, {}), (33, 34, {}), (34, 35, {}), (35, 36, {}), (36, 37, {}), (37, 38, {}), (38, 39, {}), (39, 40, {}), (40, 41, {}), (41, 42, {}), (42, 43, {}), (43, 44, {}), (44, 45, {}), (45, 46, {}), (46, 47, {}), (47, 48, {}), (48, 49, {}), (49, 50, {})]\n",
      "[(1, 2, {'product': 2}), (2, 3, {'product': 6}), (3, 4, {'product': 12}), (4, 5, {'product': 20}), (5, 6, {'product': 30}), (6, 7, {'product': 42}), (7, 8, {'product': 56}), (8, 9, {'product': 72}), (9, 10, {'product': 90}), (10, 11, {}), (11, 12, {}), (12, 13, {}), (13, 14, {}), (14, 15, {}), (15, 16, {}), (16, 17, {}), (17, 18, {}), (18, 19, {}), (19, 20, {}), (20, 21, {}), (21, 22, {}), (22, 23, {}), (23, 24, {}), (24, 25, {}), (25, 26, {}), (26, 27, {}), (27, 28, {}), (28, 29, {}), (29, 30, {}), (30, 31, {}), (31, 32, {}), (32, 33, {}), (33, 34, {}), (34, 35, {}), (35, 36, {}), (36, 37, {}), (37, 38, {}), (38, 39, {}), (39, 40, {}), (40, 41, {}), (41, 42, {}), (42, 43, {}), (43, 44, {}), (44, 45, {}), (45, 46, {}), (46, 47, {}), (47, 48, {}), (48, 49, {}), (49, 50, {})]\n",
      "[(1, 2, {'product': 2}), (2, 3, {'product': 6}), (3, 4, {'product': 12}), (4, 5, {'product': 20}), (5, 6, {'product': 30}), (6, 7, {'product': 42}), (7, 8, {'product': 56}), (8, 9, {'product': 72}), (9, 10, {'product': 90}), (10, 11, {'product': 110}), (11, 12, {}), (12, 13, {}), (13, 14, {}), (14, 15, {}), (15, 16, {}), (16, 17, {}), (17, 18, {}), (18, 19, {}), (19, 20, {}), (20, 21, {}), (21, 22, {}), (22, 23, {}), (23, 24, {}), (24, 25, {}), (25, 26, {}), (26, 27, {}), (27, 28, {}), (28, 29, {}), (29, 30, {}), (30, 31, {}), (31, 32, {}), (32, 33, {}), (33, 34, {}), (34, 35, {}), (35, 36, {}), (36, 37, {}), (37, 38, {}), (38, 39, {}), (39, 40, {}), (40, 41, {}), (41, 42, {}), (42, 43, {}), (43, 44, {}), (44, 45, {}), (45, 46, {}), (46, 47, {}), (47, 48, {}), (48, 49, {}), (49, 50, {})]\n",
      "[(1, 2, {'product': 2}), (2, 3, {'product': 6}), (3, 4, {'product': 12}), (4, 5, {'product': 20}), (5, 6, {'product': 30}), (6, 7, {'product': 42}), (7, 8, {'product': 56}), (8, 9, {'product': 72}), (9, 10, {'product': 90}), (10, 11, {'product': 110}), (11, 12, {'product': 132}), (12, 13, {}), (13, 14, {}), (14, 15, {}), (15, 16, {}), (16, 17, {}), (17, 18, {}), (18, 19, {}), (19, 20, {}), (20, 21, {}), (21, 22, {}), (22, 23, {}), (23, 24, {}), (24, 25, {}), (25, 26, {}), (26, 27, {}), (27, 28, {}), (28, 29, {}), (29, 30, {}), (30, 31, {}), (31, 32, {}), (32, 33, {}), (33, 34, {}), (34, 35, {}), (35, 36, {}), (36, 37, {}), (37, 38, {}), (38, 39, {}), (39, 40, {}), (40, 41, {}), (41, 42, {}), (42, 43, {}), (43, 44, {}), (44, 45, {}), (45, 46, {}), (46, 47, {}), (47, 48, {}), (48, 49, {}), (49, 50, {})]\n",
      "[(1, 2, {'product': 2}), (2, 3, {'product': 6}), (3, 4, {'product': 12}), (4, 5, {'product': 20}), (5, 6, {'product': 30}), (6, 7, {'product': 42}), (7, 8, {'product': 56}), (8, 9, {'product': 72}), (9, 10, {'product': 90}), (10, 11, {'product': 110}), (11, 12, {'product': 132}), (12, 13, {'product': 156}), (13, 14, {}), (14, 15, {}), (15, 16, {}), (16, 17, {}), (17, 18, {}), (18, 19, {}), (19, 20, {}), (20, 21, {}), (21, 22, {}), (22, 23, {}), (23, 24, {}), (24, 25, {}), (25, 26, {}), (26, 27, {}), (27, 28, {}), (28, 29, {}), (29, 30, {}), (30, 31, {}), (31, 32, {}), (32, 33, {}), (33, 34, {}), (34, 35, {}), (35, 36, {}), (36, 37, {}), (37, 38, {}), (38, 39, {}), (39, 40, {}), (40, 41, {}), (41, 42, {}), (42, 43, {}), (43, 44, {}), (44, 45, {}), (45, 46, {}), (46, 47, {}), (47, 48, {}), (48, 49, {}), (49, 50, {})]\n",
      "[(1, 2, {'product': 2}), (2, 3, {'product': 6}), (3, 4, {'product': 12}), (4, 5, {'product': 20}), (5, 6, {'product': 30}), (6, 7, {'product': 42}), (7, 8, {'product': 56}), (8, 9, {'product': 72}), (9, 10, {'product': 90}), (10, 11, {'product': 110}), (11, 12, {'product': 132}), (12, 13, {'product': 156}), (13, 14, {'product': 182}), (14, 15, {}), (15, 16, {}), (16, 17, {}), (17, 18, {}), (18, 19, {}), (19, 20, {}), (20, 21, {}), (21, 22, {}), (22, 23, {}), (23, 24, {}), (24, 25, {}), (25, 26, {}), (26, 27, {}), (27, 28, {}), (28, 29, {}), (29, 30, {}), (30, 31, {}), (31, 32, {}), (32, 33, {}), (33, 34, {}), (34, 35, {}), (35, 36, {}), (36, 37, {}), (37, 38, {}), (38, 39, {}), (39, 40, {}), (40, 41, {}), (41, 42, {}), (42, 43, {}), (43, 44, {}), (44, 45, {}), (45, 46, {}), (46, 47, {}), (47, 48, {}), (48, 49, {}), (49, 50, {})]\n",
      "[(1, 2, {'product': 2}), (2, 3, {'product': 6}), (3, 4, {'product': 12}), (4, 5, {'product': 20}), (5, 6, {'product': 30}), (6, 7, {'product': 42}), (7, 8, {'product': 56}), (8, 9, {'product': 72}), (9, 10, {'product': 90}), (10, 11, {'product': 110}), (11, 12, {'product': 132}), (12, 13, {'product': 156}), (13, 14, {'product': 182}), (14, 15, {'product': 210}), (15, 16, {}), (16, 17, {}), (17, 18, {}), (18, 19, {}), (19, 20, {}), (20, 21, {}), (21, 22, {}), (22, 23, {}), (23, 24, {}), (24, 25, {}), (25, 26, {}), (26, 27, {}), (27, 28, {}), (28, 29, {}), (29, 30, {}), (30, 31, {}), (31, 32, {}), (32, 33, {}), (33, 34, {}), (34, 35, {}), (35, 36, {}), (36, 37, {}), (37, 38, {}), (38, 39, {}), (39, 40, {}), (40, 41, {}), (41, 42, {}), (42, 43, {}), (43, 44, {}), (44, 45, {}), (45, 46, {}), (46, 47, {}), (47, 48, {}), (48, 49, {}), (49, 50, {})]\n",
      "[(1, 2, {'product': 2}), (2, 3, {'product': 6}), (3, 4, {'product': 12}), (4, 5, {'product': 20}), (5, 6, {'product': 30}), (6, 7, {'product': 42}), (7, 8, {'product': 56}), (8, 9, {'product': 72}), (9, 10, {'product': 90}), (10, 11, {'product': 110}), (11, 12, {'product': 132}), (12, 13, {'product': 156}), (13, 14, {'product': 182}), (14, 15, {'product': 210}), (15, 16, {'product': 240}), (16, 17, {}), (17, 18, {}), (18, 19, {}), (19, 20, {}), (20, 21, {}), (21, 22, {}), (22, 23, {}), (23, 24, {}), (24, 25, {}), (25, 26, {}), (26, 27, {}), (27, 28, {}), (28, 29, {}), (29, 30, {}), (30, 31, {}), (31, 32, {}), (32, 33, {}), (33, 34, {}), (34, 35, {}), (35, 36, {}), (36, 37, {}), (37, 38, {}), (38, 39, {}), (39, 40, {}), (40, 41, {}), (41, 42, {}), (42, 43, {}), (43, 44, {}), (44, 45, {}), (45, 46, {}), (46, 47, {}), (47, 48, {}), (48, 49, {}), (49, 50, {})]\n",
      "[(1, 2, {'product': 2}), (2, 3, {'product': 6}), (3, 4, {'product': 12}), (4, 5, {'product': 20}), (5, 6, {'product': 30}), (6, 7, {'product': 42}), (7, 8, {'product': 56}), (8, 9, {'product': 72}), (9, 10, {'product': 90}), (10, 11, {'product': 110}), (11, 12, {'product': 132}), (12, 13, {'product': 156}), (13, 14, {'product': 182}), (14, 15, {'product': 210}), (15, 16, {'product': 240}), (16, 17, {'product': 272}), (17, 18, {}), (18, 19, {}), (19, 20, {}), (20, 21, {}), (21, 22, {}), (22, 23, {}), (23, 24, {}), (24, 25, {}), (25, 26, {}), (26, 27, {}), (27, 28, {}), (28, 29, {}), (29, 30, {}), (30, 31, {}), (31, 32, {}), (32, 33, {}), (33, 34, {}), (34, 35, {}), (35, 36, {}), (36, 37, {}), (37, 38, {}), (38, 39, {}), (39, 40, {}), (40, 41, {}), (41, 42, {}), (42, 43, {}), (43, 44, {}), (44, 45, {}), (45, 46, {}), (46, 47, {}), (47, 48, {}), (48, 49, {}), (49, 50, {})]\n",
      "[(1, 2, {'product': 2}), (2, 3, {'product': 6}), (3, 4, {'product': 12}), (4, 5, {'product': 20}), (5, 6, {'product': 30}), (6, 7, {'product': 42}), (7, 8, {'product': 56}), (8, 9, {'product': 72}), (9, 10, {'product': 90}), (10, 11, {'product': 110}), (11, 12, {'product': 132}), (12, 13, {'product': 156}), (13, 14, {'product': 182}), (14, 15, {'product': 210}), (15, 16, {'product': 240}), (16, 17, {'product': 272}), (17, 18, {'product': 306}), (18, 19, {}), (19, 20, {}), (20, 21, {}), (21, 22, {}), (22, 23, {}), (23, 24, {}), (24, 25, {}), (25, 26, {}), (26, 27, {}), (27, 28, {}), (28, 29, {}), (29, 30, {}), (30, 31, {}), (31, 32, {}), (32, 33, {}), (33, 34, {}), (34, 35, {}), (35, 36, {}), (36, 37, {}), (37, 38, {}), (38, 39, {}), (39, 40, {}), (40, 41, {}), (41, 42, {}), (42, 43, {}), (43, 44, {}), (44, 45, {}), (45, 46, {}), (46, 47, {}), (47, 48, {}), (48, 49, {}), (49, 50, {})]\n",
      "[(1, 2, {'product': 2}), (2, 3, {'product': 6}), (3, 4, {'product': 12}), (4, 5, {'product': 20}), (5, 6, {'product': 30}), (6, 7, {'product': 42}), (7, 8, {'product': 56}), (8, 9, {'product': 72}), (9, 10, {'product': 90}), (10, 11, {'product': 110}), (11, 12, {'product': 132}), (12, 13, {'product': 156}), (13, 14, {'product': 182}), (14, 15, {'product': 210}), (15, 16, {'product': 240}), (16, 17, {'product': 272}), (17, 18, {'product': 306}), (18, 19, {'product': 342}), (19, 20, {}), (20, 21, {}), (21, 22, {}), (22, 23, {}), (23, 24, {}), (24, 25, {}), (25, 26, {}), (26, 27, {}), (27, 28, {}), (28, 29, {}), (29, 30, {}), (30, 31, {}), (31, 32, {}), (32, 33, {}), (33, 34, {}), (34, 35, {}), (35, 36, {}), (36, 37, {}), (37, 38, {}), (38, 39, {}), (39, 40, {}), (40, 41, {}), (41, 42, {}), (42, 43, {}), (43, 44, {}), (44, 45, {}), (45, 46, {}), (46, 47, {}), (47, 48, {}), (48, 49, {}), (49, 50, {})]\n",
      "[(1, 2, {'product': 2}), (2, 3, {'product': 6}), (3, 4, {'product': 12}), (4, 5, {'product': 20}), (5, 6, {'product': 30}), (6, 7, {'product': 42}), (7, 8, {'product': 56}), (8, 9, {'product': 72}), (9, 10, {'product': 90}), (10, 11, {'product': 110}), (11, 12, {'product': 132}), (12, 13, {'product': 156}), (13, 14, {'product': 182}), (14, 15, {'product': 210}), (15, 16, {'product': 240}), (16, 17, {'product': 272}), (17, 18, {'product': 306}), (18, 19, {'product': 342}), (19, 20, {'product': 380}), (20, 21, {}), (21, 22, {}), (22, 23, {}), (23, 24, {}), (24, 25, {}), (25, 26, {}), (26, 27, {}), (27, 28, {}), (28, 29, {}), (29, 30, {}), (30, 31, {}), (31, 32, {}), (32, 33, {}), (33, 34, {}), (34, 35, {}), (35, 36, {}), (36, 37, {}), (37, 38, {}), (38, 39, {}), (39, 40, {}), (40, 41, {}), (41, 42, {}), (42, 43, {}), (43, 44, {}), (44, 45, {}), (45, 46, {}), (46, 47, {}), (47, 48, {}), (48, 49, {}), (49, 50, {})]\n",
      "[(1, 2, {'product': 2}), (2, 3, {'product': 6}), (3, 4, {'product': 12}), (4, 5, {'product': 20}), (5, 6, {'product': 30}), (6, 7, {'product': 42}), (7, 8, {'product': 56}), (8, 9, {'product': 72}), (9, 10, {'product': 90}), (10, 11, {'product': 110}), (11, 12, {'product': 132}), (12, 13, {'product': 156}), (13, 14, {'product': 182}), (14, 15, {'product': 210}), (15, 16, {'product': 240}), (16, 17, {'product': 272}), (17, 18, {'product': 306}), (18, 19, {'product': 342}), (19, 20, {'product': 380}), (20, 21, {'product': 420}), (21, 22, {}), (22, 23, {}), (23, 24, {}), (24, 25, {}), (25, 26, {}), (26, 27, {}), (27, 28, {}), (28, 29, {}), (29, 30, {}), (30, 31, {}), (31, 32, {}), (32, 33, {}), (33, 34, {}), (34, 35, {}), (35, 36, {}), (36, 37, {}), (37, 38, {}), (38, 39, {}), (39, 40, {}), (40, 41, {}), (41, 42, {}), (42, 43, {}), (43, 44, {}), (44, 45, {}), (45, 46, {}), (46, 47, {}), (47, 48, {}), (48, 49, {}), (49, 50, {})]\n",
      "[(1, 2, {'product': 2}), (2, 3, {'product': 6}), (3, 4, {'product': 12}), (4, 5, {'product': 20}), (5, 6, {'product': 30}), (6, 7, {'product': 42}), (7, 8, {'product': 56}), (8, 9, {'product': 72}), (9, 10, {'product': 90}), (10, 11, {'product': 110}), (11, 12, {'product': 132}), (12, 13, {'product': 156}), (13, 14, {'product': 182}), (14, 15, {'product': 210}), (15, 16, {'product': 240}), (16, 17, {'product': 272}), (17, 18, {'product': 306}), (18, 19, {'product': 342}), (19, 20, {'product': 380}), (20, 21, {'product': 420}), (21, 22, {'product': 462}), (22, 23, {}), (23, 24, {}), (24, 25, {}), (25, 26, {}), (26, 27, {}), (27, 28, {}), (28, 29, {}), (29, 30, {}), (30, 31, {}), (31, 32, {}), (32, 33, {}), (33, 34, {}), (34, 35, {}), (35, 36, {}), (36, 37, {}), (37, 38, {}), (38, 39, {}), (39, 40, {}), (40, 41, {}), (41, 42, {}), (42, 43, {}), (43, 44, {}), (44, 45, {}), (45, 46, {}), (46, 47, {}), (47, 48, {}), (48, 49, {}), (49, 50, {})]\n",
      "[(1, 2, {'product': 2}), (2, 3, {'product': 6}), (3, 4, {'product': 12}), (4, 5, {'product': 20}), (5, 6, {'product': 30}), (6, 7, {'product': 42}), (7, 8, {'product': 56}), (8, 9, {'product': 72}), (9, 10, {'product': 90}), (10, 11, {'product': 110}), (11, 12, {'product': 132}), (12, 13, {'product': 156}), (13, 14, {'product': 182}), (14, 15, {'product': 210}), (15, 16, {'product': 240}), (16, 17, {'product': 272}), (17, 18, {'product': 306}), (18, 19, {'product': 342}), (19, 20, {'product': 380}), (20, 21, {'product': 420}), (21, 22, {'product': 462}), (22, 23, {'product': 506}), (23, 24, {}), (24, 25, {}), (25, 26, {}), (26, 27, {}), (27, 28, {}), (28, 29, {}), (29, 30, {}), (30, 31, {}), (31, 32, {}), (32, 33, {}), (33, 34, {}), (34, 35, {}), (35, 36, {}), (36, 37, {}), (37, 38, {}), (38, 39, {}), (39, 40, {}), (40, 41, {}), (41, 42, {}), (42, 43, {}), (43, 44, {}), (44, 45, {}), (45, 46, {}), (46, 47, {}), (47, 48, {}), (48, 49, {}), (49, 50, {})]\n",
      "[(1, 2, {'product': 2}), (2, 3, {'product': 6}), (3, 4, {'product': 12}), (4, 5, {'product': 20}), (5, 6, {'product': 30}), (6, 7, {'product': 42}), (7, 8, {'product': 56}), (8, 9, {'product': 72}), (9, 10, {'product': 90}), (10, 11, {'product': 110}), (11, 12, {'product': 132}), (12, 13, {'product': 156}), (13, 14, {'product': 182}), (14, 15, {'product': 210}), (15, 16, {'product': 240}), (16, 17, {'product': 272}), (17, 18, {'product': 306}), (18, 19, {'product': 342}), (19, 20, {'product': 380}), (20, 21, {'product': 420}), (21, 22, {'product': 462}), (22, 23, {'product': 506}), (23, 24, {'product': 552}), (24, 25, {}), (25, 26, {}), (26, 27, {}), (27, 28, {}), (28, 29, {}), (29, 30, {}), (30, 31, {}), (31, 32, {}), (32, 33, {}), (33, 34, {}), (34, 35, {}), (35, 36, {}), (36, 37, {}), (37, 38, {}), (38, 39, {}), (39, 40, {}), (40, 41, {}), (41, 42, {}), (42, 43, {}), (43, 44, {}), (44, 45, {}), (45, 46, {}), (46, 47, {}), (47, 48, {}), (48, 49, {}), (49, 50, {})]\n",
      "[(1, 2, {'product': 2}), (2, 3, {'product': 6}), (3, 4, {'product': 12}), (4, 5, {'product': 20}), (5, 6, {'product': 30}), (6, 7, {'product': 42}), (7, 8, {'product': 56}), (8, 9, {'product': 72}), (9, 10, {'product': 90}), (10, 11, {'product': 110}), (11, 12, {'product': 132}), (12, 13, {'product': 156}), (13, 14, {'product': 182}), (14, 15, {'product': 210}), (15, 16, {'product': 240}), (16, 17, {'product': 272}), (17, 18, {'product': 306}), (18, 19, {'product': 342}), (19, 20, {'product': 380}), (20, 21, {'product': 420}), (21, 22, {'product': 462}), (22, 23, {'product': 506}), (23, 24, {'product': 552}), (24, 25, {'product': 600}), (25, 26, {}), (26, 27, {}), (27, 28, {}), (28, 29, {}), (29, 30, {}), (30, 31, {}), (31, 32, {}), (32, 33, {}), (33, 34, {}), (34, 35, {}), (35, 36, {}), (36, 37, {}), (37, 38, {}), (38, 39, {}), (39, 40, {}), (40, 41, {}), (41, 42, {}), (42, 43, {}), (43, 44, {}), (44, 45, {}), (45, 46, {}), (46, 47, {}), (47, 48, {}), (48, 49, {}), (49, 50, {})]\n",
      "[(1, 2, {'product': 2}), (2, 3, {'product': 6}), (3, 4, {'product': 12}), (4, 5, {'product': 20}), (5, 6, {'product': 30}), (6, 7, {'product': 42}), (7, 8, {'product': 56}), (8, 9, {'product': 72}), (9, 10, {'product': 90}), (10, 11, {'product': 110}), (11, 12, {'product': 132}), (12, 13, {'product': 156}), (13, 14, {'product': 182}), (14, 15, {'product': 210}), (15, 16, {'product': 240}), (16, 17, {'product': 272}), (17, 18, {'product': 306}), (18, 19, {'product': 342}), (19, 20, {'product': 380}), (20, 21, {'product': 420}), (21, 22, {'product': 462}), (22, 23, {'product': 506}), (23, 24, {'product': 552}), (24, 25, {'product': 600}), (25, 26, {'product': 650}), (26, 27, {}), (27, 28, {}), (28, 29, {}), (29, 30, {}), (30, 31, {}), (31, 32, {}), (32, 33, {}), (33, 34, {}), (34, 35, {}), (35, 36, {}), (36, 37, {}), (37, 38, {}), (38, 39, {}), (39, 40, {}), (40, 41, {}), (41, 42, {}), (42, 43, {}), (43, 44, {}), (44, 45, {}), (45, 46, {}), (46, 47, {}), (47, 48, {}), (48, 49, {}), (49, 50, {})]\n",
      "[(1, 2, {'product': 2}), (2, 3, {'product': 6}), (3, 4, {'product': 12}), (4, 5, {'product': 20}), (5, 6, {'product': 30}), (6, 7, {'product': 42}), (7, 8, {'product': 56}), (8, 9, {'product': 72}), (9, 10, {'product': 90}), (10, 11, {'product': 110}), (11, 12, {'product': 132}), (12, 13, {'product': 156}), (13, 14, {'product': 182}), (14, 15, {'product': 210}), (15, 16, {'product': 240}), (16, 17, {'product': 272}), (17, 18, {'product': 306}), (18, 19, {'product': 342}), (19, 20, {'product': 380}), (20, 21, {'product': 420}), (21, 22, {'product': 462}), (22, 23, {'product': 506}), (23, 24, {'product': 552}), (24, 25, {'product': 600}), (25, 26, {'product': 650}), (26, 27, {'product': 702}), (27, 28, {}), (28, 29, {}), (29, 30, {}), (30, 31, {}), (31, 32, {}), (32, 33, {}), (33, 34, {}), (34, 35, {}), (35, 36, {}), (36, 37, {}), (37, 38, {}), (38, 39, {}), (39, 40, {}), (40, 41, {}), (41, 42, {}), (42, 43, {}), (43, 44, {}), (44, 45, {}), (45, 46, {}), (46, 47, {}), (47, 48, {}), (48, 49, {}), (49, 50, {})]\n",
      "[(1, 2, {'product': 2}), (2, 3, {'product': 6}), (3, 4, {'product': 12}), (4, 5, {'product': 20}), (5, 6, {'product': 30}), (6, 7, {'product': 42}), (7, 8, {'product': 56}), (8, 9, {'product': 72}), (9, 10, {'product': 90}), (10, 11, {'product': 110}), (11, 12, {'product': 132}), (12, 13, {'product': 156}), (13, 14, {'product': 182}), (14, 15, {'product': 210}), (15, 16, {'product': 240}), (16, 17, {'product': 272}), (17, 18, {'product': 306}), (18, 19, {'product': 342}), (19, 20, {'product': 380}), (20, 21, {'product': 420}), (21, 22, {'product': 462}), (22, 23, {'product': 506}), (23, 24, {'product': 552}), (24, 25, {'product': 600}), (25, 26, {'product': 650}), (26, 27, {'product': 702}), (27, 28, {'product': 756}), (28, 29, {}), (29, 30, {}), (30, 31, {}), (31, 32, {}), (32, 33, {}), (33, 34, {}), (34, 35, {}), (35, 36, {}), (36, 37, {}), (37, 38, {}), (38, 39, {}), (39, 40, {}), (40, 41, {}), (41, 42, {}), (42, 43, {}), (43, 44, {}), (44, 45, {}), (45, 46, {}), (46, 47, {}), (47, 48, {}), (48, 49, {}), (49, 50, {})]\n",
      "[(1, 2, {'product': 2}), (2, 3, {'product': 6}), (3, 4, {'product': 12}), (4, 5, {'product': 20}), (5, 6, {'product': 30}), (6, 7, {'product': 42}), (7, 8, {'product': 56}), (8, 9, {'product': 72}), (9, 10, {'product': 90}), (10, 11, {'product': 110}), (11, 12, {'product': 132}), (12, 13, {'product': 156}), (13, 14, {'product': 182}), (14, 15, {'product': 210}), (15, 16, {'product': 240}), (16, 17, {'product': 272}), (17, 18, {'product': 306}), (18, 19, {'product': 342}), (19, 20, {'product': 380}), (20, 21, {'product': 420}), (21, 22, {'product': 462}), (22, 23, {'product': 506}), (23, 24, {'product': 552}), (24, 25, {'product': 600}), (25, 26, {'product': 650}), (26, 27, {'product': 702}), (27, 28, {'product': 756}), (28, 29, {'product': 812}), (29, 30, {}), (30, 31, {}), (31, 32, {}), (32, 33, {}), (33, 34, {}), (34, 35, {}), (35, 36, {}), (36, 37, {}), (37, 38, {}), (38, 39, {}), (39, 40, {}), (40, 41, {}), (41, 42, {}), (42, 43, {}), (43, 44, {}), (44, 45, {}), (45, 46, {}), (46, 47, {}), (47, 48, {}), (48, 49, {}), (49, 50, {})]\n",
      "[(1, 2, {'product': 2}), (2, 3, {'product': 6}), (3, 4, {'product': 12}), (4, 5, {'product': 20}), (5, 6, {'product': 30}), (6, 7, {'product': 42}), (7, 8, {'product': 56}), (8, 9, {'product': 72}), (9, 10, {'product': 90}), (10, 11, {'product': 110}), (11, 12, {'product': 132}), (12, 13, {'product': 156}), (13, 14, {'product': 182}), (14, 15, {'product': 210}), (15, 16, {'product': 240}), (16, 17, {'product': 272}), (17, 18, {'product': 306}), (18, 19, {'product': 342}), (19, 20, {'product': 380}), (20, 21, {'product': 420}), (21, 22, {'product': 462}), (22, 23, {'product': 506}), (23, 24, {'product': 552}), (24, 25, {'product': 600}), (25, 26, {'product': 650}), (26, 27, {'product': 702}), (27, 28, {'product': 756}), (28, 29, {'product': 812}), (29, 30, {'product': 870}), (30, 31, {}), (31, 32, {}), (32, 33, {}), (33, 34, {}), (34, 35, {}), (35, 36, {}), (36, 37, {}), (37, 38, {}), (38, 39, {}), (39, 40, {}), (40, 41, {}), (41, 42, {}), (42, 43, {}), (43, 44, {}), (44, 45, {}), (45, 46, {}), (46, 47, {}), (47, 48, {}), (48, 49, {}), (49, 50, {})]\n",
      "[(1, 2, {'product': 2}), (2, 3, {'product': 6}), (3, 4, {'product': 12}), (4, 5, {'product': 20}), (5, 6, {'product': 30}), (6, 7, {'product': 42}), (7, 8, {'product': 56}), (8, 9, {'product': 72}), (9, 10, {'product': 90}), (10, 11, {'product': 110}), (11, 12, {'product': 132}), (12, 13, {'product': 156}), (13, 14, {'product': 182}), (14, 15, {'product': 210}), (15, 16, {'product': 240}), (16, 17, {'product': 272}), (17, 18, {'product': 306}), (18, 19, {'product': 342}), (19, 20, {'product': 380}), (20, 21, {'product': 420}), (21, 22, {'product': 462}), (22, 23, {'product': 506}), (23, 24, {'product': 552}), (24, 25, {'product': 600}), (25, 26, {'product': 650}), (26, 27, {'product': 702}), (27, 28, {'product': 756}), (28, 29, {'product': 812}), (29, 30, {'product': 870}), (30, 31, {'product': 930}), (31, 32, {}), (32, 33, {}), (33, 34, {}), (34, 35, {}), (35, 36, {}), (36, 37, {}), (37, 38, {}), (38, 39, {}), (39, 40, {}), (40, 41, {}), (41, 42, {}), (42, 43, {}), (43, 44, {}), (44, 45, {}), (45, 46, {}), (46, 47, {}), (47, 48, {}), (48, 49, {}), (49, 50, {})]\n",
      "[(1, 2, {'product': 2}), (2, 3, {'product': 6}), (3, 4, {'product': 12}), (4, 5, {'product': 20}), (5, 6, {'product': 30}), (6, 7, {'product': 42}), (7, 8, {'product': 56}), (8, 9, {'product': 72}), (9, 10, {'product': 90}), (10, 11, {'product': 110}), (11, 12, {'product': 132}), (12, 13, {'product': 156}), (13, 14, {'product': 182}), (14, 15, {'product': 210}), (15, 16, {'product': 240}), (16, 17, {'product': 272}), (17, 18, {'product': 306}), (18, 19, {'product': 342}), (19, 20, {'product': 380}), (20, 21, {'product': 420}), (21, 22, {'product': 462}), (22, 23, {'product': 506}), (23, 24, {'product': 552}), (24, 25, {'product': 600}), (25, 26, {'product': 650}), (26, 27, {'product': 702}), (27, 28, {'product': 756}), (28, 29, {'product': 812}), (29, 30, {'product': 870}), (30, 31, {'product': 930}), (31, 32, {'product': 992}), (32, 33, {}), (33, 34, {}), (34, 35, {}), (35, 36, {}), (36, 37, {}), (37, 38, {}), (38, 39, {}), (39, 40, {}), (40, 41, {}), (41, 42, {}), (42, 43, {}), (43, 44, {}), (44, 45, {}), (45, 46, {}), (46, 47, {}), (47, 48, {}), (48, 49, {}), (49, 50, {})]\n",
      "[(1, 2, {'product': 2}), (2, 3, {'product': 6}), (3, 4, {'product': 12}), (4, 5, {'product': 20}), (5, 6, {'product': 30}), (6, 7, {'product': 42}), (7, 8, {'product': 56}), (8, 9, {'product': 72}), (9, 10, {'product': 90}), (10, 11, {'product': 110}), (11, 12, {'product': 132}), (12, 13, {'product': 156}), (13, 14, {'product': 182}), (14, 15, {'product': 210}), (15, 16, {'product': 240}), (16, 17, {'product': 272}), (17, 18, {'product': 306}), (18, 19, {'product': 342}), (19, 20, {'product': 380}), (20, 21, {'product': 420}), (21, 22, {'product': 462}), (22, 23, {'product': 506}), (23, 24, {'product': 552}), (24, 25, {'product': 600}), (25, 26, {'product': 650}), (26, 27, {'product': 702}), (27, 28, {'product': 756}), (28, 29, {'product': 812}), (29, 30, {'product': 870}), (30, 31, {'product': 930}), (31, 32, {'product': 992}), (32, 33, {'product': 1056}), (33, 34, {}), (34, 35, {}), (35, 36, {}), (36, 37, {}), (37, 38, {}), (38, 39, {}), (39, 40, {}), (40, 41, {}), (41, 42, {}), (42, 43, {}), (43, 44, {}), (44, 45, {}), (45, 46, {}), (46, 47, {}), (47, 48, {}), (48, 49, {}), (49, 50, {})]\n",
      "[(1, 2, {'product': 2}), (2, 3, {'product': 6}), (3, 4, {'product': 12}), (4, 5, {'product': 20}), (5, 6, {'product': 30}), (6, 7, {'product': 42}), (7, 8, {'product': 56}), (8, 9, {'product': 72}), (9, 10, {'product': 90}), (10, 11, {'product': 110}), (11, 12, {'product': 132}), (12, 13, {'product': 156}), (13, 14, {'product': 182}), (14, 15, {'product': 210}), (15, 16, {'product': 240}), (16, 17, {'product': 272}), (17, 18, {'product': 306}), (18, 19, {'product': 342}), (19, 20, {'product': 380}), (20, 21, {'product': 420}), (21, 22, {'product': 462}), (22, 23, {'product': 506}), (23, 24, {'product': 552}), (24, 25, {'product': 600}), (25, 26, {'product': 650}), (26, 27, {'product': 702}), (27, 28, {'product': 756}), (28, 29, {'product': 812}), (29, 30, {'product': 870}), (30, 31, {'product': 930}), (31, 32, {'product': 992}), (32, 33, {'product': 1056}), (33, 34, {'product': 1122}), (34, 35, {}), (35, 36, {}), (36, 37, {}), (37, 38, {}), (38, 39, {}), (39, 40, {}), (40, 41, {}), (41, 42, {}), (42, 43, {}), (43, 44, {}), (44, 45, {}), (45, 46, {}), (46, 47, {}), (47, 48, {}), (48, 49, {}), (49, 50, {})]\n",
      "[(1, 2, {'product': 2}), (2, 3, {'product': 6}), (3, 4, {'product': 12}), (4, 5, {'product': 20}), (5, 6, {'product': 30}), (6, 7, {'product': 42}), (7, 8, {'product': 56}), (8, 9, {'product': 72}), (9, 10, {'product': 90}), (10, 11, {'product': 110}), (11, 12, {'product': 132}), (12, 13, {'product': 156}), (13, 14, {'product': 182}), (14, 15, {'product': 210}), (15, 16, {'product': 240}), (16, 17, {'product': 272}), (17, 18, {'product': 306}), (18, 19, {'product': 342}), (19, 20, {'product': 380}), (20, 21, {'product': 420}), (21, 22, {'product': 462}), (22, 23, {'product': 506}), (23, 24, {'product': 552}), (24, 25, {'product': 600}), (25, 26, {'product': 650}), (26, 27, {'product': 702}), (27, 28, {'product': 756}), (28, 29, {'product': 812}), (29, 30, {'product': 870}), (30, 31, {'product': 930}), (31, 32, {'product': 992}), (32, 33, {'product': 1056}), (33, 34, {'product': 1122}), (34, 35, {'product': 1190}), (35, 36, {}), (36, 37, {}), (37, 38, {}), (38, 39, {}), (39, 40, {}), (40, 41, {}), (41, 42, {}), (42, 43, {}), (43, 44, {}), (44, 45, {}), (45, 46, {}), (46, 47, {}), (47, 48, {}), (48, 49, {}), (49, 50, {})]\n",
      "[(1, 2, {'product': 2}), (2, 3, {'product': 6}), (3, 4, {'product': 12}), (4, 5, {'product': 20}), (5, 6, {'product': 30}), (6, 7, {'product': 42}), (7, 8, {'product': 56}), (8, 9, {'product': 72}), (9, 10, {'product': 90}), (10, 11, {'product': 110}), (11, 12, {'product': 132}), (12, 13, {'product': 156}), (13, 14, {'product': 182}), (14, 15, {'product': 210}), (15, 16, {'product': 240}), (16, 17, {'product': 272}), (17, 18, {'product': 306}), (18, 19, {'product': 342}), (19, 20, {'product': 380}), (20, 21, {'product': 420}), (21, 22, {'product': 462}), (22, 23, {'product': 506}), (23, 24, {'product': 552}), (24, 25, {'product': 600}), (25, 26, {'product': 650}), (26, 27, {'product': 702}), (27, 28, {'product': 756}), (28, 29, {'product': 812}), (29, 30, {'product': 870}), (30, 31, {'product': 930}), (31, 32, {'product': 992}), (32, 33, {'product': 1056}), (33, 34, {'product': 1122}), (34, 35, {'product': 1190}), (35, 36, {'product': 1260}), (36, 37, {}), (37, 38, {}), (38, 39, {}), (39, 40, {}), (40, 41, {}), (41, 42, {}), (42, 43, {}), (43, 44, {}), (44, 45, {}), (45, 46, {}), (46, 47, {}), (47, 48, {}), (48, 49, {}), (49, 50, {})]\n",
      "[(1, 2, {'product': 2}), (2, 3, {'product': 6}), (3, 4, {'product': 12}), (4, 5, {'product': 20}), (5, 6, {'product': 30}), (6, 7, {'product': 42}), (7, 8, {'product': 56}), (8, 9, {'product': 72}), (9, 10, {'product': 90}), (10, 11, {'product': 110}), (11, 12, {'product': 132}), (12, 13, {'product': 156}), (13, 14, {'product': 182}), (14, 15, {'product': 210}), (15, 16, {'product': 240}), (16, 17, {'product': 272}), (17, 18, {'product': 306}), (18, 19, {'product': 342}), (19, 20, {'product': 380}), (20, 21, {'product': 420}), (21, 22, {'product': 462}), (22, 23, {'product': 506}), (23, 24, {'product': 552}), (24, 25, {'product': 600}), (25, 26, {'product': 650}), (26, 27, {'product': 702}), (27, 28, {'product': 756}), (28, 29, {'product': 812}), (29, 30, {'product': 870}), (30, 31, {'product': 930}), (31, 32, {'product': 992}), (32, 33, {'product': 1056}), (33, 34, {'product': 1122}), (34, 35, {'product': 1190}), (35, 36, {'product': 1260}), (36, 37, {'product': 1332}), (37, 38, {}), (38, 39, {}), (39, 40, {}), (40, 41, {}), (41, 42, {}), (42, 43, {}), (43, 44, {}), (44, 45, {}), (45, 46, {}), (46, 47, {}), (47, 48, {}), (48, 49, {}), (49, 50, {})]\n",
      "[(1, 2, {'product': 2}), (2, 3, {'product': 6}), (3, 4, {'product': 12}), (4, 5, {'product': 20}), (5, 6, {'product': 30}), (6, 7, {'product': 42}), (7, 8, {'product': 56}), (8, 9, {'product': 72}), (9, 10, {'product': 90}), (10, 11, {'product': 110}), (11, 12, {'product': 132}), (12, 13, {'product': 156}), (13, 14, {'product': 182}), (14, 15, {'product': 210}), (15, 16, {'product': 240}), (16, 17, {'product': 272}), (17, 18, {'product': 306}), (18, 19, {'product': 342}), (19, 20, {'product': 380}), (20, 21, {'product': 420}), (21, 22, {'product': 462}), (22, 23, {'product': 506}), (23, 24, {'product': 552}), (24, 25, {'product': 600}), (25, 26, {'product': 650}), (26, 27, {'product': 702}), (27, 28, {'product': 756}), (28, 29, {'product': 812}), (29, 30, {'product': 870}), (30, 31, {'product': 930}), (31, 32, {'product': 992}), (32, 33, {'product': 1056}), (33, 34, {'product': 1122}), (34, 35, {'product': 1190}), (35, 36, {'product': 1260}), (36, 37, {'product': 1332}), (37, 38, {'product': 1406}), (38, 39, {}), (39, 40, {}), (40, 41, {}), (41, 42, {}), (42, 43, {}), (43, 44, {}), (44, 45, {}), (45, 46, {}), (46, 47, {}), (47, 48, {}), (48, 49, {}), (49, 50, {})]\n",
      "[(1, 2, {'product': 2}), (2, 3, {'product': 6}), (3, 4, {'product': 12}), (4, 5, {'product': 20}), (5, 6, {'product': 30}), (6, 7, {'product': 42}), (7, 8, {'product': 56}), (8, 9, {'product': 72}), (9, 10, {'product': 90}), (10, 11, {'product': 110}), (11, 12, {'product': 132}), (12, 13, {'product': 156}), (13, 14, {'product': 182}), (14, 15, {'product': 210}), (15, 16, {'product': 240}), (16, 17, {'product': 272}), (17, 18, {'product': 306}), (18, 19, {'product': 342}), (19, 20, {'product': 380}), (20, 21, {'product': 420}), (21, 22, {'product': 462}), (22, 23, {'product': 506}), (23, 24, {'product': 552}), (24, 25, {'product': 600}), (25, 26, {'product': 650}), (26, 27, {'product': 702}), (27, 28, {'product': 756}), (28, 29, {'product': 812}), (29, 30, {'product': 870}), (30, 31, {'product': 930}), (31, 32, {'product': 992}), (32, 33, {'product': 1056}), (33, 34, {'product': 1122}), (34, 35, {'product': 1190}), (35, 36, {'product': 1260}), (36, 37, {'product': 1332}), (37, 38, {'product': 1406}), (38, 39, {'product': 1482}), (39, 40, {}), (40, 41, {}), (41, 42, {}), (42, 43, {}), (43, 44, {}), (44, 45, {}), (45, 46, {}), (46, 47, {}), (47, 48, {}), (48, 49, {}), (49, 50, {})]\n",
      "[(1, 2, {'product': 2}), (2, 3, {'product': 6}), (3, 4, {'product': 12}), (4, 5, {'product': 20}), (5, 6, {'product': 30}), (6, 7, {'product': 42}), (7, 8, {'product': 56}), (8, 9, {'product': 72}), (9, 10, {'product': 90}), (10, 11, {'product': 110}), (11, 12, {'product': 132}), (12, 13, {'product': 156}), (13, 14, {'product': 182}), (14, 15, {'product': 210}), (15, 16, {'product': 240}), (16, 17, {'product': 272}), (17, 18, {'product': 306}), (18, 19, {'product': 342}), (19, 20, {'product': 380}), (20, 21, {'product': 420}), (21, 22, {'product': 462}), (22, 23, {'product': 506}), (23, 24, {'product': 552}), (24, 25, {'product': 600}), (25, 26, {'product': 650}), (26, 27, {'product': 702}), (27, 28, {'product': 756}), (28, 29, {'product': 812}), (29, 30, {'product': 870}), (30, 31, {'product': 930}), (31, 32, {'product': 992}), (32, 33, {'product': 1056}), (33, 34, {'product': 1122}), (34, 35, {'product': 1190}), (35, 36, {'product': 1260}), (36, 37, {'product': 1332}), (37, 38, {'product': 1406}), (38, 39, {'product': 1482}), (39, 40, {'product': 1560}), (40, 41, {}), (41, 42, {}), (42, 43, {}), (43, 44, {}), (44, 45, {}), (45, 46, {}), (46, 47, {}), (47, 48, {}), (48, 49, {}), (49, 50, {})]\n",
      "[(1, 2, {'product': 2}), (2, 3, {'product': 6}), (3, 4, {'product': 12}), (4, 5, {'product': 20}), (5, 6, {'product': 30}), (6, 7, {'product': 42}), (7, 8, {'product': 56}), (8, 9, {'product': 72}), (9, 10, {'product': 90}), (10, 11, {'product': 110}), (11, 12, {'product': 132}), (12, 13, {'product': 156}), (13, 14, {'product': 182}), (14, 15, {'product': 210}), (15, 16, {'product': 240}), (16, 17, {'product': 272}), (17, 18, {'product': 306}), (18, 19, {'product': 342}), (19, 20, {'product': 380}), (20, 21, {'product': 420}), (21, 22, {'product': 462}), (22, 23, {'product': 506}), (23, 24, {'product': 552}), (24, 25, {'product': 600}), (25, 26, {'product': 650}), (26, 27, {'product': 702}), (27, 28, {'product': 756}), (28, 29, {'product': 812}), (29, 30, {'product': 870}), (30, 31, {'product': 930}), (31, 32, {'product': 992}), (32, 33, {'product': 1056}), (33, 34, {'product': 1122}), (34, 35, {'product': 1190}), (35, 36, {'product': 1260}), (36, 37, {'product': 1332}), (37, 38, {'product': 1406}), (38, 39, {'product': 1482}), (39, 40, {'product': 1560}), (40, 41, {'product': 1640}), (41, 42, {}), (42, 43, {}), (43, 44, {}), (44, 45, {}), (45, 46, {}), (46, 47, {}), (47, 48, {}), (48, 49, {}), (49, 50, {})]\n",
      "[(1, 2, {'product': 2}), (2, 3, {'product': 6}), (3, 4, {'product': 12}), (4, 5, {'product': 20}), (5, 6, {'product': 30}), (6, 7, {'product': 42}), (7, 8, {'product': 56}), (8, 9, {'product': 72}), (9, 10, {'product': 90}), (10, 11, {'product': 110}), (11, 12, {'product': 132}), (12, 13, {'product': 156}), (13, 14, {'product': 182}), (14, 15, {'product': 210}), (15, 16, {'product': 240}), (16, 17, {'product': 272}), (17, 18, {'product': 306}), (18, 19, {'product': 342}), (19, 20, {'product': 380}), (20, 21, {'product': 420}), (21, 22, {'product': 462}), (22, 23, {'product': 506}), (23, 24, {'product': 552}), (24, 25, {'product': 600}), (25, 26, {'product': 650}), (26, 27, {'product': 702}), (27, 28, {'product': 756}), (28, 29, {'product': 812}), (29, 30, {'product': 870}), (30, 31, {'product': 930}), (31, 32, {'product': 992}), (32, 33, {'product': 1056}), (33, 34, {'product': 1122}), (34, 35, {'product': 1190}), (35, 36, {'product': 1260}), (36, 37, {'product': 1332}), (37, 38, {'product': 1406}), (38, 39, {'product': 1482}), (39, 40, {'product': 1560}), (40, 41, {'product': 1640}), (41, 42, {'product': 1722}), (42, 43, {}), (43, 44, {}), (44, 45, {}), (45, 46, {}), (46, 47, {}), (47, 48, {}), (48, 49, {}), (49, 50, {})]\n",
      "[(1, 2, {'product': 2}), (2, 3, {'product': 6}), (3, 4, {'product': 12}), (4, 5, {'product': 20}), (5, 6, {'product': 30}), (6, 7, {'product': 42}), (7, 8, {'product': 56}), (8, 9, {'product': 72}), (9, 10, {'product': 90}), (10, 11, {'product': 110}), (11, 12, {'product': 132}), (12, 13, {'product': 156}), (13, 14, {'product': 182}), (14, 15, {'product': 210}), (15, 16, {'product': 240}), (16, 17, {'product': 272}), (17, 18, {'product': 306}), (18, 19, {'product': 342}), (19, 20, {'product': 380}), (20, 21, {'product': 420}), (21, 22, {'product': 462}), (22, 23, {'product': 506}), (23, 24, {'product': 552}), (24, 25, {'product': 600}), (25, 26, {'product': 650}), (26, 27, {'product': 702}), (27, 28, {'product': 756}), (28, 29, {'product': 812}), (29, 30, {'product': 870}), (30, 31, {'product': 930}), (31, 32, {'product': 992}), (32, 33, {'product': 1056}), (33, 34, {'product': 1122}), (34, 35, {'product': 1190}), (35, 36, {'product': 1260}), (36, 37, {'product': 1332}), (37, 38, {'product': 1406}), (38, 39, {'product': 1482}), (39, 40, {'product': 1560}), (40, 41, {'product': 1640}), (41, 42, {'product': 1722}), (42, 43, {'product': 1806}), (43, 44, {}), (44, 45, {}), (45, 46, {}), (46, 47, {}), (47, 48, {}), (48, 49, {}), (49, 50, {})]\n",
      "[(1, 2, {'product': 2}), (2, 3, {'product': 6}), (3, 4, {'product': 12}), (4, 5, {'product': 20}), (5, 6, {'product': 30}), (6, 7, {'product': 42}), (7, 8, {'product': 56}), (8, 9, {'product': 72}), (9, 10, {'product': 90}), (10, 11, {'product': 110}), (11, 12, {'product': 132}), (12, 13, {'product': 156}), (13, 14, {'product': 182}), (14, 15, {'product': 210}), (15, 16, {'product': 240}), (16, 17, {'product': 272}), (17, 18, {'product': 306}), (18, 19, {'product': 342}), (19, 20, {'product': 380}), (20, 21, {'product': 420}), (21, 22, {'product': 462}), (22, 23, {'product': 506}), (23, 24, {'product': 552}), (24, 25, {'product': 600}), (25, 26, {'product': 650}), (26, 27, {'product': 702}), (27, 28, {'product': 756}), (28, 29, {'product': 812}), (29, 30, {'product': 870}), (30, 31, {'product': 930}), (31, 32, {'product': 992}), (32, 33, {'product': 1056}), (33, 34, {'product': 1122}), (34, 35, {'product': 1190}), (35, 36, {'product': 1260}), (36, 37, {'product': 1332}), (37, 38, {'product': 1406}), (38, 39, {'product': 1482}), (39, 40, {'product': 1560}), (40, 41, {'product': 1640}), (41, 42, {'product': 1722}), (42, 43, {'product': 1806}), (43, 44, {'product': 1892}), (44, 45, {}), (45, 46, {}), (46, 47, {}), (47, 48, {}), (48, 49, {}), (49, 50, {})]\n",
      "[(1, 2, {'product': 2}), (2, 3, {'product': 6}), (3, 4, {'product': 12}), (4, 5, {'product': 20}), (5, 6, {'product': 30}), (6, 7, {'product': 42}), (7, 8, {'product': 56}), (8, 9, {'product': 72}), (9, 10, {'product': 90}), (10, 11, {'product': 110}), (11, 12, {'product': 132}), (12, 13, {'product': 156}), (13, 14, {'product': 182}), (14, 15, {'product': 210}), (15, 16, {'product': 240}), (16, 17, {'product': 272}), (17, 18, {'product': 306}), (18, 19, {'product': 342}), (19, 20, {'product': 380}), (20, 21, {'product': 420}), (21, 22, {'product': 462}), (22, 23, {'product': 506}), (23, 24, {'product': 552}), (24, 25, {'product': 600}), (25, 26, {'product': 650}), (26, 27, {'product': 702}), (27, 28, {'product': 756}), (28, 29, {'product': 812}), (29, 30, {'product': 870}), (30, 31, {'product': 930}), (31, 32, {'product': 992}), (32, 33, {'product': 1056}), (33, 34, {'product': 1122}), (34, 35, {'product': 1190}), (35, 36, {'product': 1260}), (36, 37, {'product': 1332}), (37, 38, {'product': 1406}), (38, 39, {'product': 1482}), (39, 40, {'product': 1560}), (40, 41, {'product': 1640}), (41, 42, {'product': 1722}), (42, 43, {'product': 1806}), (43, 44, {'product': 1892}), (44, 45, {'product': 1980}), (45, 46, {}), (46, 47, {}), (47, 48, {}), (48, 49, {}), (49, 50, {})]\n",
      "[(1, 2, {'product': 2}), (2, 3, {'product': 6}), (3, 4, {'product': 12}), (4, 5, {'product': 20}), (5, 6, {'product': 30}), (6, 7, {'product': 42}), (7, 8, {'product': 56}), (8, 9, {'product': 72}), (9, 10, {'product': 90}), (10, 11, {'product': 110}), (11, 12, {'product': 132}), (12, 13, {'product': 156}), (13, 14, {'product': 182}), (14, 15, {'product': 210}), (15, 16, {'product': 240}), (16, 17, {'product': 272}), (17, 18, {'product': 306}), (18, 19, {'product': 342}), (19, 20, {'product': 380}), (20, 21, {'product': 420}), (21, 22, {'product': 462}), (22, 23, {'product': 506}), (23, 24, {'product': 552}), (24, 25, {'product': 600}), (25, 26, {'product': 650}), (26, 27, {'product': 702}), (27, 28, {'product': 756}), (28, 29, {'product': 812}), (29, 30, {'product': 870}), (30, 31, {'product': 930}), (31, 32, {'product': 992}), (32, 33, {'product': 1056}), (33, 34, {'product': 1122}), (34, 35, {'product': 1190}), (35, 36, {'product': 1260}), (36, 37, {'product': 1332}), (37, 38, {'product': 1406}), (38, 39, {'product': 1482}), (39, 40, {'product': 1560}), (40, 41, {'product': 1640}), (41, 42, {'product': 1722}), (42, 43, {'product': 1806}), (43, 44, {'product': 1892}), (44, 45, {'product': 1980}), (45, 46, {'product': 2070}), (46, 47, {}), (47, 48, {}), (48, 49, {}), (49, 50, {})]\n",
      "[(1, 2, {'product': 2}), (2, 3, {'product': 6}), (3, 4, {'product': 12}), (4, 5, {'product': 20}), (5, 6, {'product': 30}), (6, 7, {'product': 42}), (7, 8, {'product': 56}), (8, 9, {'product': 72}), (9, 10, {'product': 90}), (10, 11, {'product': 110}), (11, 12, {'product': 132}), (12, 13, {'product': 156}), (13, 14, {'product': 182}), (14, 15, {'product': 210}), (15, 16, {'product': 240}), (16, 17, {'product': 272}), (17, 18, {'product': 306}), (18, 19, {'product': 342}), (19, 20, {'product': 380}), (20, 21, {'product': 420}), (21, 22, {'product': 462}), (22, 23, {'product': 506}), (23, 24, {'product': 552}), (24, 25, {'product': 600}), (25, 26, {'product': 650}), (26, 27, {'product': 702}), (27, 28, {'product': 756}), (28, 29, {'product': 812}), (29, 30, {'product': 870}), (30, 31, {'product': 930}), (31, 32, {'product': 992}), (32, 33, {'product': 1056}), (33, 34, {'product': 1122}), (34, 35, {'product': 1190}), (35, 36, {'product': 1260}), (36, 37, {'product': 1332}), (37, 38, {'product': 1406}), (38, 39, {'product': 1482}), (39, 40, {'product': 1560}), (40, 41, {'product': 1640}), (41, 42, {'product': 1722}), (42, 43, {'product': 1806}), (43, 44, {'product': 1892}), (44, 45, {'product': 1980}), (45, 46, {'product': 2070}), (46, 47, {'product': 2162}), (47, 48, {}), (48, 49, {}), (49, 50, {})]\n",
      "[(1, 2, {'product': 2}), (2, 3, {'product': 6}), (3, 4, {'product': 12}), (4, 5, {'product': 20}), (5, 6, {'product': 30}), (6, 7, {'product': 42}), (7, 8, {'product': 56}), (8, 9, {'product': 72}), (9, 10, {'product': 90}), (10, 11, {'product': 110}), (11, 12, {'product': 132}), (12, 13, {'product': 156}), (13, 14, {'product': 182}), (14, 15, {'product': 210}), (15, 16, {'product': 240}), (16, 17, {'product': 272}), (17, 18, {'product': 306}), (18, 19, {'product': 342}), (19, 20, {'product': 380}), (20, 21, {'product': 420}), (21, 22, {'product': 462}), (22, 23, {'product': 506}), (23, 24, {'product': 552}), (24, 25, {'product': 600}), (25, 26, {'product': 650}), (26, 27, {'product': 702}), (27, 28, {'product': 756}), (28, 29, {'product': 812}), (29, 30, {'product': 870}), (30, 31, {'product': 930}), (31, 32, {'product': 992}), (32, 33, {'product': 1056}), (33, 34, {'product': 1122}), (34, 35, {'product': 1190}), (35, 36, {'product': 1260}), (36, 37, {'product': 1332}), (37, 38, {'product': 1406}), (38, 39, {'product': 1482}), (39, 40, {'product': 1560}), (40, 41, {'product': 1640}), (41, 42, {'product': 1722}), (42, 43, {'product': 1806}), (43, 44, {'product': 1892}), (44, 45, {'product': 1980}), (45, 46, {'product': 2070}), (46, 47, {'product': 2162}), (47, 48, {'product': 2256}), (48, 49, {}), (49, 50, {})]\n",
      "[(1, 2, {'product': 2}), (2, 3, {'product': 6}), (3, 4, {'product': 12}), (4, 5, {'product': 20}), (5, 6, {'product': 30}), (6, 7, {'product': 42}), (7, 8, {'product': 56}), (8, 9, {'product': 72}), (9, 10, {'product': 90}), (10, 11, {'product': 110}), (11, 12, {'product': 132}), (12, 13, {'product': 156}), (13, 14, {'product': 182}), (14, 15, {'product': 210}), (15, 16, {'product': 240}), (16, 17, {'product': 272}), (17, 18, {'product': 306}), (18, 19, {'product': 342}), (19, 20, {'product': 380}), (20, 21, {'product': 420}), (21, 22, {'product': 462}), (22, 23, {'product': 506}), (23, 24, {'product': 552}), (24, 25, {'product': 600}), (25, 26, {'product': 650}), (26, 27, {'product': 702}), (27, 28, {'product': 756}), (28, 29, {'product': 812}), (29, 30, {'product': 870}), (30, 31, {'product': 930}), (31, 32, {'product': 992}), (32, 33, {'product': 1056}), (33, 34, {'product': 1122}), (34, 35, {'product': 1190}), (35, 36, {'product': 1260}), (36, 37, {'product': 1332}), (37, 38, {'product': 1406}), (38, 39, {'product': 1482}), (39, 40, {'product': 1560}), (40, 41, {'product': 1640}), (41, 42, {'product': 1722}), (42, 43, {'product': 1806}), (43, 44, {'product': 1892}), (44, 45, {'product': 1980}), (45, 46, {'product': 2070}), (46, 47, {'product': 2162}), (47, 48, {'product': 2256}), (48, 49, {'product': 2352}), (49, 50, {})]\n",
      "[(1, 2, {'product': 2}), (2, 3, {'product': 6}), (3, 4, {'product': 12}), (4, 5, {'product': 20}), (5, 6, {'product': 30}), (6, 7, {'product': 42}), (7, 8, {'product': 56}), (8, 9, {'product': 72}), (9, 10, {'product': 90}), (10, 11, {'product': 110}), (11, 12, {'product': 132}), (12, 13, {'product': 156}), (13, 14, {'product': 182}), (14, 15, {'product': 210}), (15, 16, {'product': 240}), (16, 17, {'product': 272}), (17, 18, {'product': 306}), (18, 19, {'product': 342}), (19, 20, {'product': 380}), (20, 21, {'product': 420}), (21, 22, {'product': 462}), (22, 23, {'product': 506}), (23, 24, {'product': 552}), (24, 25, {'product': 600}), (25, 26, {'product': 650}), (26, 27, {'product': 702}), (27, 28, {'product': 756}), (28, 29, {'product': 812}), (29, 30, {'product': 870}), (30, 31, {'product': 930}), (31, 32, {'product': 992}), (32, 33, {'product': 1056}), (33, 34, {'product': 1122}), (34, 35, {'product': 1190}), (35, 36, {'product': 1260}), (36, 37, {'product': 1332}), (37, 38, {'product': 1406}), (38, 39, {'product': 1482}), (39, 40, {'product': 1560}), (40, 41, {'product': 1640}), (41, 42, {'product': 1722}), (42, 43, {'product': 1806}), (43, 44, {'product': 1892}), (44, 45, {'product': 1980}), (45, 46, {'product': 2070}), (46, 47, {'product': 2162}), (47, 48, {'product': 2256}), (48, 49, {'product': 2352}), (49, 50, {'product': 2450})]\n"
     ]
    }
   ],
   "source": [
    "for u, v in G.edges():\n",
    "    G[u][v]['product'] = u * v\n",
    "    print(G.edges(data=True))"
   ]
  },
  {
   "cell_type": "markdown",
   "metadata": {},
   "source": [
    "Build a set with all nodes that have **odd** as the value of node attribute **kind** "
   ]
  },
  {
   "cell_type": "code",
   "execution_count": 35,
   "metadata": {},
   "outputs": [
    {
     "data": {
      "text/plain": [
       "{1,\n",
       " 3,\n",
       " 5,\n",
       " 7,\n",
       " 9,\n",
       " 11,\n",
       " 13,\n",
       " 15,\n",
       " 17,\n",
       " 19,\n",
       " 21,\n",
       " 23,\n",
       " 25,\n",
       " 27,\n",
       " 29,\n",
       " 31,\n",
       " 33,\n",
       " 35,\n",
       " 37,\n",
       " 39,\n",
       " 41,\n",
       " 43,\n",
       " 45,\n",
       " 47,\n",
       " 49}"
      ]
     },
     "execution_count": 35,
     "metadata": {},
     "output_type": "execute_result"
    }
   ],
   "source": [
    "{n for n, data in G.nodes(data=True) if data['kind'] == 'odd'}"
   ]
  },
  {
   "cell_type": "markdown",
   "metadata": {},
   "source": [
    "Build a set of edges that have a value greater than 2000 for their edge attribute **product**."
   ]
  },
  {
   "cell_type": "code",
   "execution_count": 36,
   "metadata": {},
   "outputs": [
    {
     "data": {
      "text/plain": [
       "{(45, 46), (46, 47), (47, 48), (48, 49), (49, 50)}"
      ]
     },
     "execution_count": 36,
     "metadata": {},
     "output_type": "execute_result"
    }
   ],
   "source": [
    "{(u, v) for u, v, data in G.edges(data=True) if data['product'] > 2000}"
   ]
  },
  {
   "cell_type": "markdown",
   "metadata": {},
   "source": [
    "### Graph generators and graph operations\n",
    "\n",
    "In addition to constructing graphs node-by-node or edge-by-edge, they can also be generated by\n",
    "\n",
    "1. Applying classic graph operations, such as:\n",
    "* **nx.subgraph(G, node_list)** : induce subgraph of G on nodes in node_list\n",
    "* **nx.union(G1,G2)** : graph union\n",
    "* **nx.disjoint_union(G1,G2)** : graph union assuming all nodes are different\n",
    "* **nx.cartesian_product(G1,G2)**: return Cartesian product graph\n",
    "* **nx.compose(G1,G2)**:  combine graphs identifying nodes common to both\n",
    "* **nx.complement(G)**: graph complement\n",
    "* **nx.create_empty_copy(G)**: return an empty copy of the same graph class"
   ]
  },
  {
   "cell_type": "markdown",
   "metadata": {},
   "source": [
    "2. Using a call to one of the classic small graphs, e.g.,"
   ]
  },
  {
   "cell_type": "code",
   "execution_count": 37,
   "metadata": {},
   "outputs": [],
   "source": [
    "#small graphs\n",
    "petersen = nx.petersen_graph()\n",
    "tutte = nx.tutte_graph()\n",
    "maze = nx.sedgewick_maze_graph()\n",
    "tet = nx.tetrahedral_graph()"
   ]
  },
  {
   "cell_type": "markdown",
   "metadata": {},
   "source": [
    "3. Using a (constructive) generator for a classic graph, e.g.,"
   ]
  },
  {
   "cell_type": "code",
   "execution_count": 38,
   "metadata": {},
   "outputs": [],
   "source": [
    "# classic graphs\n",
    "K_5 = nx.complete_graph(5)\n",
    "K_3_5 = nx.complete_bipartite_graph(3, 5)\n",
    "barbell = nx.barbell_graph(10, 10)\n",
    "lollipop = nx.lollipop_graph(10, 20)"
   ]
  },
  {
   "cell_type": "markdown",
   "metadata": {},
   "source": [
    "4. Using a stochastic graph generator, e.g.,"
   ]
  },
  {
   "cell_type": "code",
   "execution_count": 39,
   "metadata": {},
   "outputs": [],
   "source": [
    "#random graphs\n",
    "er = nx.erdos_renyi_graph(100, 0.15)\n",
    "ws = nx.watts_strogatz_graph(30, 3, 0.1)\n",
    "ba = nx.barabasi_albert_graph(100, 5)\n",
    "red = nx.random_lobster(100, 0.9, 0.9)"
   ]
  },
  {
   "cell_type": "markdown",
   "metadata": {},
   "source": [
    "5. Reading a graph stored in a file using common graph formats, such as edge lists, adjacency lists, GML, GraphML, pickle, LEDA etc."
   ]
  },
  {
   "cell_type": "code",
   "execution_count": 40,
   "metadata": {},
   "outputs": [],
   "source": [
    "nx.write_gml(red, \"path.to.file\")\n",
    "mygraph = nx.read_gml(\"path.to.file\")"
   ]
  },
  {
   "cell_type": "markdown",
   "metadata": {},
   "source": [
    "Take a look at all NetworkX [Graph generators](https://networkx.org/documentation/stable/reference/generators.html?highlight=graph%20generators).\n"
   ]
  },
  {
   "cell_type": "markdown",
   "metadata": {},
   "source": [
    "### Drawing graphs with matplotlib\n",
    "\n",
    "NetworkX is not focused on graphic representations of graphs. However it has a pretty decent module for plotting networks with Matplotlib, it does not produce top quality plots but it's useful for simple plots. In the future the plotting module could be separated from NetworkX in a new package in order to facilitate its development.   \n",
    "\n",
    "NetworkX contains a set of graph layout algorithms that position nodes in 2 and 3-dimensions in order to plot them.\n",
    "\n",
    "As we discussed before, plotting graphs, especially if they are big, seldom helps to analyze them. However if graphs are small or if we only want to highlight a few features of nodes, edges, or the whole graph it can be useful.\n",
    "\n",
    "Now we'll see a general view of NetworkX plotting capabilities, and latter we'll also use some plots to highlight some of the more complex network analysis.\n",
    "\n",
    "We'll use as an example the graph of Florentine families"
   ]
  },
  {
   "cell_type": "code",
   "execution_count": 41,
   "metadata": {},
   "outputs": [],
   "source": [
    "G = nx.florentine_families_graph()"
   ]
  },
  {
   "cell_type": "code",
   "execution_count": 42,
   "metadata": {},
   "outputs": [
    {
     "data": {
      "image/png": "[encoded data removed]",
      "text/plain": [
       "<Figure size 432x288 with 1 Axes>"
      ]
     },
     "metadata": {},
     "output_type": "display_data"
    }
   ],
   "source": [
    "# The function nx.draw is main entry point for NetworkX plotting functions\n",
    "nx.draw(G)"
   ]
  },
  {
   "cell_type": "markdown",
   "metadata": {},
   "source": [
    "By default, the layout (that is the position of the nodes in the 2D plane) used is the spring layout. NetworkX, especially in the upcoming 2.0 version, has some more interesting layout algorithms. We can precompute the layout for a given graph and then pass it to the **nx.draw** function"
   ]
  },
  {
   "cell_type": "code",
   "execution_count": 43,
   "metadata": {},
   "outputs": [
    {
     "data": {
      "text/plain": [
       "{'Acciaiuoli': array([ 0.29527046, -0.59052599]),\n",
       " 'Medici': array([ 0.07326026, -0.27722602]),\n",
       " 'Castellani': array([-0.57325289,  0.13894359]),\n",
       " 'Peruzzi': array([-0.51709463,  0.46344986]),\n",
       " 'Strozzi': array([-0.35422875,  0.30071017]),\n",
       " 'Barbadori': array([-0.35323791, -0.18321798]),\n",
       " 'Ridolfi': array([-0.09271246,  0.02654304]),\n",
       " 'Tornabuoni': array([0.16295783, 0.07050109]),\n",
       " 'Albizzi': array([0.46185  , 0.0358998]),\n",
       " 'Salviati': array([-0.14205432, -0.71800872]),\n",
       " 'Pazzi': array([-0.37186995, -1.        ]),\n",
       " 'Bischeri': array([-0.16423291,  0.53250653]),\n",
       " 'Guadagni': array([0.26513008, 0.41645009]),\n",
       " 'Ginori': array([0.84745032, 0.03153535]),\n",
       " 'Lamberteschi': array([0.46276487, 0.75243918])}"
      ]
     },
     "execution_count": 43,
     "metadata": {},
     "output_type": "execute_result"
    }
   ],
   "source": [
    "pos_spring = nx.spring_layout(G)\n",
    "pos_fr = nx.fruchterman_reingold_layout(G)\n",
    "pos_fr"
   ]
  },
  {
   "cell_type": "code",
   "execution_count": 44,
   "metadata": {},
   "outputs": [
    {
     "data": {
      "image/png": "[encoded data removed]",
      "text/plain": [
       "<Figure size 432x288 with 1 Axes>"
      ]
     },
     "metadata": {},
     "output_type": "display_data"
    }
   ],
   "source": [
    "nx.draw(G, pos=pos_fr)"
   ]
  },
  {
   "cell_type": "markdown",
   "metadata": {},
   "source": [
    "We can also control the size and color of the nodes, the with of the edges, the labels of the nodes and their fonts via *kwargs* of **nx.draw**:"
   ]
  },
  {
   "cell_type": "code",
   "execution_count": 194,
   "metadata": {},
   "outputs": [
    {
     "data": {
      "image/png": "[encoded data removed]",
      "text/plain": [
       "<Figure size 864x864 with 1 Axes>"
      ]
     },
     "metadata": {},
     "output_type": "display_data"
    }
   ],
   "source": [
    "plt.figure(figsize=(12,12))\n",
    "nx.draw(G, pos=pos_fr, node_size=3000, node_color='green', with_labels=True)"
   ]
  },
  {
   "cell_type": "markdown",
   "metadata": {},
   "source": [
    "If we want to plot more complex plots, for instance, plot nodes of different colors and sizes, add labels to only some nodes, add edge labels, etc ... We have to use more specialized plot functions such as:\n",
    "\n",
    "* **nx.draw_networkx_nodes**\n",
    "* **nx.draw_networkx_edges**\n",
    "* **nx.draw_networkx_lables**\n",
    "* **nx.draw_networkx_edge_lables**"
   ]
  },
  {
   "cell_type": "code",
   "execution_count": 46,
   "metadata": {},
   "outputs": [
    {
     "data": {
      "image/png": "[encoded data removed]",
      "text/plain": [
       "<Figure size 720x720 with 1 Axes>"
      ]
     },
     "metadata": {},
     "output_type": "display_data"
    }
   ],
   "source": [
    "plt.figure(figsize=(10,10))\n",
    "big_and_green_nodes = {'Medici', 'Albizzi', 'Strozzi'}\n",
    "other_nodes = set(G) - big_and_green_nodes\n",
    "thick_edges = {('Medici', 'Albizzi'), ('Medici', 'Salviati')}\n",
    "other_edges = set(G.edges()) - thick_edges\n",
    "# Plot nodes\n",
    "nx.draw_networkx_nodes(G, pos=pos_fr, nodelist=big_and_green_nodes, node_size=2000, node_color='green')\n",
    "nx.draw_networkx_nodes(G, pos=pos_fr, nodelist=other_nodes, node_size=500, node_color='red')\n",
    "# Plot edges \n",
    "nx.draw_networkx_edges(G, pos=pos_fr, edgelist=thick_edges, width=3, edge_color='blue')\n",
    "nx.draw_networkx_edges(G, pos=pos_fr, edgelist=other_edges)\n",
    "# Plot node labels\n",
    "nx.draw_networkx_labels(G, pos=pos_fr, labels={n: n for n in big_and_green_nodes})\n",
    "# Plot edge labels\n",
    "nx.draw_networkx_edge_labels(G, pos=pos_fr, edge_labels={e: i for i, e in enumerate(thick_edges)})\n",
    "# Remove axes\n",
    "ax = plt.gca()\n",
    "ax.set_axis_off()"
   ]
  },
  {
   "cell_type": "markdown",
   "metadata": {},
   "source": [
    "### Common formats for reading and writing Graphs\n",
    "\n",
    "You can see the complete list of supported formats at [Read and Write documentation](https://networkx.org/documentation/stable/reference/readwrite/index.html)\n",
    "\n",
    "Some examples of the most common formats:\n",
    "\n",
    "* **Adjacency list** Simple format, no attributes\n",
    "    - **nx.read_adjlist**\n",
    "    - **nx.write_adjlist**\n",
    "* **Multiline Adjacency list** Simple edge data can be stored, but node or graph data is not\n",
    "    - **nx.read_multiline_adjlist**\n",
    "    - **nx.write_multiline_adjlist**   \n",
    "* **Edge list** Simple format, no attributes\n",
    "    - **nx.read_edgelist**\n",
    "    - **nx.write_adjlist**\n",
    "* **GEXF** Designed to be a standard exchange format for graphs (Gephi)\n",
    "    - **nx.read_gexf**\n",
    "    - **nx.write_gexf**\n",
    "* **GML** Hierarchical ASCII-based file format for describing graphs\n",
    "    - **nx.read_gml**\n",
    "    - **nx.write_gml**\n",
    "* **Pickle** Python standard persistency module (serialize objects to HD)\n",
    "    - **nx.read_gpickle**\n",
    "    - **nx.write_gpickle**\n",
    "* **GraphML** An XML-based file format for graphs\n",
    "    - **nx.read_graphml**\n",
    "    - **nx.write_graphml**\n",
    "* **JSON** JSON serializable data for graphs (node-link, tree like, adjacency like formats)\n",
    "    - **nx.node_link_data**\n",
    "    - **nx.node_link_graph**\n",
    "    - **nx.adjacency_data**\n",
    "    - **nx.adjacency_graph**\n",
    "    - **nx.cytoscape_data**\n",
    "    - **nx.cytoscape_graph**\n",
    "    - **nx.tree_data**\n",
    "    - **nx.tree_graph**\n",
    "    - **nx.jit_data**\n",
    "    - **nx.jit_graph** \n",
    "* **LEDA** C++ class library for efficient data types and algorithms\n",
    "    - **nx.read_leda**\n",
    "    - **nx.parse_leda**\n",
    "* **SparseGraph6** formats for storing undirected graphs using only printable ASCII characters (one line per graph) \n",
    "    - **nx.from_graph6_bytes** graph6: small graphs / large dense graphs\n",
    "    - **nx.read_graph6**\n",
    "    - **nx.to_graph6_bytes**\n",
    "    - **nx.write_graph6**\n",
    "    - **nx.from_sparse6_bytes** sparse6: space-efficient for large sparse graphs\n",
    "    - **nx.read_sparse6**\n",
    "    - **nx.to_sparse6_bytes**\n",
    "    - **nx.write_sparse6**\n",
    "* **GIS Shapefile** geospatial vector data format for geographic information systems software\n",
    "    - **nx.read_shp**\n",
    "    - **nx.write_shp**\n",
    "* **Pajek** directed and undirected graphs including those with self loops and parallel edges\n",
    "    - **nx.read_pajek**\n",
    "    - **nx.write_pajek**\n",
    "* **Matrix Market** text-based file format (coordinate format for sparse matrices and array format for dense matrices)\n",
    "    - **scipy.io**"
   ]
  },
  {
   "cell_type": "markdown",
   "metadata": {},
   "source": [
    "## Network Analysis\n",
    "\n",
    "Now we'll focus on some key analysis techniques that will allow us to understand the structure of social networks and the importance of its components."
   ]
  },
  {
   "cell_type": "markdown",
   "metadata": {},
   "source": [
    "### Basic concepts: Degree\n",
    "\n",
    "The degree of a node it's the number of incident edges to that node.\n",
    "\n",
    "* **undirected graphs** it'is equal to their number of neighbors.\n",
    "\n",
    "* **directed graphs** we have to distinguish between incoming edges and ougoing edges, and thus we have to distinguish between successors and predecessors.\n",
    "    - **In-degree** Number of predecessors\n",
    "    - **Out-degree** Nuber of successors"
   ]
  },
  {
   "cell_type": "markdown",
   "metadata": {},
   "source": [
    "#### Undirected Graphs"
   ]
  },
  {
   "cell_type": "code",
   "execution_count": 47,
   "metadata": {},
   "outputs": [
    {
     "data": {
      "text/plain": [
       "{0: 3, 1: 2, 2: 2, 3: 2, 4: 2, 5: 1}"
      ]
     },
     "execution_count": 47,
     "metadata": {},
     "output_type": "execute_result"
    },
    {
     "data": {
      "image/png": "[encoded data removed]",
      "text/plain": [
       "<Figure size 432x288 with 1 Axes>"
      ]
     },
     "metadata": {},
     "output_type": "display_data"
    }
   ],
   "source": [
    "G = nx.cycle_graph(5)\n",
    "G.add_edge(0, 5)\n",
    "nx.draw(G, pos=nx.fruchterman_reingold_layout(G), with_labels=True)\n",
    "dict(G.degree())"
   ]
  },
  {
   "cell_type": "code",
   "execution_count": 48,
   "metadata": {},
   "outputs": [
    {
     "data": {
      "text/plain": [
       "1"
      ]
     },
     "execution_count": 48,
     "metadata": {},
     "output_type": "execute_result"
    }
   ],
   "source": [
    "# You can also get the degree for a single node\n",
    "G.degree(5)"
   ]
  },
  {
   "cell_type": "markdown",
   "metadata": {},
   "source": [
    "#### Quick exercise\n",
    "How to select the node with the greatest degree?"
   ]
  },
  {
   "cell_type": "code",
   "execution_count": 49,
   "metadata": {},
   "outputs": [
    {
     "data": {
      "text/plain": [
       "0"
      ]
     },
     "execution_count": 49,
     "metadata": {},
     "output_type": "execute_result"
    }
   ],
   "source": [
    "max(G, key=G.degree)"
   ]
  },
  {
   "cell_type": "code",
   "execution_count": 50,
   "metadata": {},
   "outputs": [
    {
     "data": {
      "text/plain": [
       "[1, 4, 5]"
      ]
     },
     "execution_count": 50,
     "metadata": {},
     "output_type": "execute_result"
    }
   ],
   "source": [
    "# We can get the neighbors of node 0\n",
    "list(G.neighbors(0))"
   ]
  },
  {
   "cell_type": "code",
   "execution_count": 51,
   "metadata": {},
   "outputs": [
    {
     "data": {
      "text/plain": [
       "AtlasView({1: {}, 4: {}, 5: {}})"
      ]
     },
     "execution_count": 51,
     "metadata": {},
     "output_type": "execute_result"
    }
   ],
   "source": [
    "# We can also access the neighbors, along with the edge labels (empty in this example)\n",
    "# using the subscript notation\n",
    "G[0]"
   ]
  },
  {
   "cell_type": "markdown",
   "metadata": {},
   "source": [
    "#### Directed Graphs"
   ]
  },
  {
   "cell_type": "code",
   "execution_count": 52,
   "metadata": {},
   "outputs": [
    {
     "data": {
      "image/png": "[encoded data removed]",
      "text/plain": [
       "<Figure size 432x288 with 1 Axes>"
      ]
     },
     "metadata": {},
     "output_type": "display_data"
    }
   ],
   "source": [
    "D = nx.cycle_graph(5, create_using=nx.DiGraph())\n",
    "D.add_edge(0, 5)\n",
    "nx.draw(D, pos=nx.fruchterman_reingold_layout(D), with_labels=True)"
   ]
  },
  {
   "cell_type": "code",
   "execution_count": 53,
   "metadata": {},
   "outputs": [
    {
     "data": {
      "text/plain": [
       "{0: 1, 1: 1, 2: 1, 3: 1, 4: 1, 5: 1}"
      ]
     },
     "execution_count": 53,
     "metadata": {},
     "output_type": "execute_result"
    }
   ],
   "source": [
    "dict(D.in_degree())"
   ]
  },
  {
   "cell_type": "code",
   "execution_count": 54,
   "metadata": {},
   "outputs": [
    {
     "data": {
      "text/plain": [
       "{0: 2, 1: 1, 2: 1, 3: 1, 4: 1, 5: 0}"
      ]
     },
     "execution_count": 54,
     "metadata": {},
     "output_type": "execute_result"
    }
   ],
   "source": [
    "dict(D.out_degree())"
   ]
  },
  {
   "cell_type": "code",
   "execution_count": 55,
   "metadata": {},
   "outputs": [
    {
     "data": {
      "text/plain": [
       "[1, 5]"
      ]
     },
     "execution_count": 55,
     "metadata": {},
     "output_type": "execute_result"
    }
   ],
   "source": [
    "# We can get the successors of a node\n",
    "list(D.successors(0))"
   ]
  },
  {
   "cell_type": "code",
   "execution_count": 56,
   "metadata": {},
   "outputs": [
    {
     "data": {
      "text/plain": [
       "[4]"
      ]
     },
     "execution_count": 56,
     "metadata": {},
     "output_type": "execute_result"
    }
   ],
   "source": [
    "# And its predecessors\n",
    "list(D.predecessors(0))"
   ]
  },
  {
   "cell_type": "code",
   "execution_count": 57,
   "metadata": {},
   "outputs": [
    {
     "data": {
      "text/plain": [
       "AtlasView({1: {}, 5: {}})"
      ]
     },
     "execution_count": 57,
     "metadata": {},
     "output_type": "execute_result"
    }
   ],
   "source": [
    "# For digraphs the subscript notation yields the successors for a node\n",
    "D[0]"
   ]
  },
  {
   "cell_type": "markdown",
   "metadata": {},
   "source": [
    "#### Weighted Graphs and weighted degree\n",
    "\n",
    "Edges can have attributes, a very common and useful edge attribute is **weight** which is used to model intensity of relations.\n",
    "\n",
    "The weighted degree of a node is the sum of the weights of its incident edges. "
   ]
  },
  {
   "cell_type": "code",
   "execution_count": 58,
   "metadata": {},
   "outputs": [
    {
     "data": {
      "text/plain": [
       "{(0, 1): Text(0.7248688933775022, 0.2513021296611522, '1'),\n",
       " (0, 4): Text(0.43131486807305985, -0.7014570861553335, '2'),\n",
       " (1, 2): Text(-0.05205297756714536, 0.8409079907319876, '3'),\n",
       " (2, 3): Text(-0.6561837614505622, 0.20874621775075541, '4'),\n",
       " (3, 4): Text(-0.4479470224328548, -0.5994992519885611, '5')}"
      ]
     },
     "execution_count": 58,
     "metadata": {},
     "output_type": "execute_result"
    },
    {
     "data": {
      "image/png": "[encoded data removed]",
      "text/plain": [
       "<Figure size 432x288 with 1 Axes>"
      ]
     },
     "metadata": {},
     "output_type": "display_data"
    }
   ],
   "source": [
    "W = nx.cycle_graph(5)\n",
    "for i, (u, v) in enumerate(W.edges(), 1):\n",
    "    W[u][v]['weight'] = i\n",
    "pos = nx.fruchterman_reingold_layout(W)\n",
    "nx.draw(W, pos=pos, with_labels=True)\n",
    "nx.draw_networkx_edge_labels(W, pos, edge_labels=nx.get_edge_attributes(W, 'weight'))"
   ]
  },
  {
   "cell_type": "code",
   "execution_count": 59,
   "metadata": {},
   "outputs": [
    {
     "name": "stdout",
     "output_type": "stream",
     "text": [
      "0 1\n",
      "0 4\n",
      "1 2\n",
      "2 3\n",
      "3 4\n"
     ]
    }
   ],
   "source": [
    "for i, (u, v) in enumerate(W.edges(), 1):\n",
    "    print (u,v)"
   ]
  },
  {
   "cell_type": "code",
   "execution_count": 60,
   "metadata": {},
   "outputs": [
    {
     "data": {
      "text/plain": [
       "{0: 2, 1: 2, 2: 2, 3: 2, 4: 2}"
      ]
     },
     "execution_count": 60,
     "metadata": {},
     "output_type": "execute_result"
    }
   ],
   "source": [
    "dict(W.degree())"
   ]
  },
  {
   "cell_type": "code",
   "execution_count": 61,
   "metadata": {},
   "outputs": [
    {
     "data": {
      "text/plain": [
       "{0: 3, 1: 4, 2: 7, 3: 9, 4: 7}"
      ]
     },
     "execution_count": 61,
     "metadata": {},
     "output_type": "execute_result"
    }
   ],
   "source": [
    "dict(W.degree(weight='weight'))"
   ]
  },
  {
   "cell_type": "markdown",
   "metadata": {},
   "source": [
    "#### Quick exercise\n",
    "How can we get the node with greatest weighted degree using the built-in **max** function?\n",
    "\n",
    "Two possible approaches: use **partial** from the **functools** module or compute first the weighted degree for all nodes. "
   ]
  },
  {
   "cell_type": "code",
   "execution_count": 62,
   "metadata": {},
   "outputs": [
    {
     "data": {
      "text/plain": [
       "3"
      ]
     },
     "execution_count": 62,
     "metadata": {},
     "output_type": "execute_result"
    }
   ],
   "source": [
    "from functools import partial\n",
    "wdeg = partial(W.degree, weight='weight')\n",
    "max(W, key=wdeg)"
   ]
  },
  {
   "cell_type": "code",
   "execution_count": 63,
   "metadata": {},
   "outputs": [
    {
     "data": {
      "text/plain": [
       "3"
      ]
     },
     "execution_count": 63,
     "metadata": {},
     "output_type": "execute_result"
    }
   ],
   "source": [
    "# Or also first computing the weighted degree for all nodes\n",
    "wdegree = dict(W.degree(weight='weight'))\n",
    "max(W, key=wdegree.get)"
   ]
  },
  {
   "cell_type": "markdown",
   "metadata": {},
   "source": [
    "### Paths, simple paths, and shortest paths\n",
    "\n",
    "* A **path** is an alternating sequence of distinct nodes and edges in which each edge is incident with its preceding and following nodes. The length of a path is the number of edges it contains. \n",
    "\n",
    "* A **simple path** is a path with no repeated nodes. See NetworkX documentation for [simple paths](https://networkx.org/documentation/stable/reference/algorithms/simple_paths.html?highlight=simple%20paths).\n",
    "\n",
    "* The **shortest path** between two nodes is a path with the minimum number of edges. The **distance** between any two nodes $u$ and $v$ of $G$, denoted $d_{G}(u,v)$, is the length of the shortest path between them. See NetworkX documentation for [shortest paths](https://networkx.org/documentation/stable/reference/algorithms/shortest_paths.html?highlight=shortest%20paths).\n",
    "\n",
    "NetworkX has high level functions for simple paths and shortest paths that accept directed, undirected and multigraphs and do the right thing. For instance, for directed graphs the paths have to follow the direction of the edges.\n",
    "\n",
    "NetworkX represents the paths as list of nodes, from that it's easy to get the edges that form the path.\n",
    "\n",
    "Using the examples from the degree section:"
   ]
  },
  {
   "cell_type": "markdown",
   "metadata": {},
   "source": [
    "#### Undirected Graphs"
   ]
  },
  {
   "cell_type": "code",
   "execution_count": 64,
   "metadata": {},
   "outputs": [
    {
     "data": {
      "text/plain": [
       "True"
      ]
     },
     "execution_count": 64,
     "metadata": {},
     "output_type": "execute_result"
    }
   ],
   "source": [
    "nx.has_path(G, 0, 3)"
   ]
  },
  {
   "cell_type": "code",
   "execution_count": 65,
   "metadata": {},
   "outputs": [
    {
     "data": {
      "text/plain": [
       "[[0, 1, 2, 3], [0, 4, 3]]"
      ]
     },
     "execution_count": 65,
     "metadata": {},
     "output_type": "execute_result"
    }
   ],
   "source": [
    "list(nx.all_simple_paths(G, 0, 3))"
   ]
  },
  {
   "cell_type": "code",
   "execution_count": 66,
   "metadata": {},
   "outputs": [
    {
     "data": {
      "text/plain": [
       "[0, 4, 3]"
      ]
     },
     "execution_count": 66,
     "metadata": {},
     "output_type": "execute_result"
    }
   ],
   "source": [
    "nx.shortest_path(G, 0, 3)"
   ]
  },
  {
   "cell_type": "code",
   "execution_count": 67,
   "metadata": {},
   "outputs": [
    {
     "data": {
      "text/plain": [
       "2"
      ]
     },
     "execution_count": 67,
     "metadata": {},
     "output_type": "execute_result"
    }
   ],
   "source": [
    "nx.shortest_path_length(G, 0, 3)"
   ]
  },
  {
   "cell_type": "markdown",
   "metadata": {},
   "source": [
    "How to obtain the list of edges of a path from the list of nodes that NetworkX outputs?"
   ]
  },
  {
   "cell_type": "code",
   "execution_count": 68,
   "metadata": {},
   "outputs": [
    {
     "name": "stdout",
     "output_type": "stream",
     "text": [
      "nodes in path: [0, 4, 3]\n",
      "edges in path: [(0, 4), (4, 3)]\n"
     ]
    }
   ],
   "source": [
    "path = nx.shortest_path(G, 0, 3)\n",
    "path_edges = list(zip(path, path[1:]))\n",
    "print(\"nodes in path: {}\".format(path))\n",
    "print(\"edges in path: {}\".format(path_edges))"
   ]
  },
  {
   "cell_type": "code",
   "execution_count": 69,
   "metadata": {},
   "outputs": [
    {
     "data": {
      "text/plain": [
       "{0: [0], 1: [0, 1], 4: [0, 4], 5: [0, 5], 2: [0, 1, 2], 3: [0, 4, 3]}"
      ]
     },
     "execution_count": 69,
     "metadata": {},
     "output_type": "execute_result"
    }
   ],
   "source": [
    "# You can also compute all shortest paths from a single source node\n",
    "nx.single_source_shortest_path(G, 0)"
   ]
  },
  {
   "cell_type": "code",
   "execution_count": 70,
   "metadata": {},
   "outputs": [],
   "source": [
    "# Or the shortest paths between each pair of nodes\n",
    "path_each_pair=dict(nx.all_pairs_shortest_path(G))"
   ]
  },
  {
   "cell_type": "markdown",
   "metadata": {},
   "source": [
    "#### Directed Graphs\n",
    "\n",
    "For directed graphs, paths have to follow the edge directions: "
   ]
  },
  {
   "cell_type": "code",
   "execution_count": 71,
   "metadata": {},
   "outputs": [
    {
     "data": {
      "text/plain": [
       "True"
      ]
     },
     "execution_count": 71,
     "metadata": {},
     "output_type": "execute_result"
    }
   ],
   "source": [
    "nx.has_path(D, 0, 3)"
   ]
  },
  {
   "cell_type": "code",
   "execution_count": 72,
   "metadata": {},
   "outputs": [
    {
     "data": {
      "text/plain": [
       "[[0, 1, 2, 3]]"
      ]
     },
     "execution_count": 72,
     "metadata": {},
     "output_type": "execute_result"
    }
   ],
   "source": [
    "list(nx.all_simple_paths(D, 0, 3))"
   ]
  },
  {
   "cell_type": "code",
   "execution_count": 73,
   "metadata": {},
   "outputs": [
    {
     "data": {
      "text/plain": [
       "[0, 1, 2, 3]"
      ]
     },
     "execution_count": 73,
     "metadata": {},
     "output_type": "execute_result"
    }
   ],
   "source": [
    "nx.shortest_path(D, 0, 3)"
   ]
  },
  {
   "cell_type": "code",
   "execution_count": 74,
   "metadata": {},
   "outputs": [
    {
     "data": {
      "text/plain": [
       "3"
      ]
     },
     "execution_count": 74,
     "metadata": {},
     "output_type": "execute_result"
    }
   ],
   "source": [
    "nx.shortest_path_length(D, 0, 3)"
   ]
  },
  {
   "cell_type": "code",
   "execution_count": 75,
   "metadata": {},
   "outputs": [
    {
     "data": {
      "text/plain": [
       "{0: [0],\n",
       " 1: [0, 1],\n",
       " 5: [0, 5],\n",
       " 2: [0, 1, 2],\n",
       " 3: [0, 1, 2, 3],\n",
       " 4: [0, 1, 2, 3, 4]}"
      ]
     },
     "execution_count": 75,
     "metadata": {},
     "output_type": "execute_result"
    }
   ],
   "source": [
    "nx.single_source_shortest_path(D, 0)"
   ]
  },
  {
   "cell_type": "code",
   "execution_count": 76,
   "metadata": {},
   "outputs": [],
   "source": [
    "path_each_pair=dict(nx.all_pairs_shortest_path(D))"
   ]
  },
  {
   "cell_type": "markdown",
   "metadata": {},
   "source": [
    "#### Weighted Graphs\n",
    "\n",
    "For weighted graphs the definition of shortest path considers edge weights; the shortest path is the path with minium total weight, and the path length is the sum of edge weights. This implies that the shortest weighted path does not necessary has less edges than an alternative path.\n",
    "\n",
    "For computing weighted shortest paths you have to pass a a keyword argument the name of the edge attribute used as weight:"
   ]
  },
  {
   "cell_type": "code",
   "execution_count": 77,
   "metadata": {},
   "outputs": [
    {
     "data": {
      "text/plain": [
       "{('a', 'b'): Text(-0.14828859067362404, -0.5746700188295888, '0.3'),\n",
       " ('a', 'c'): Text(-0.25702091385202375, -0.04569230475490134, '2.0'),\n",
       " ('b', 'c'): Text(0.103109811589365, -0.3796376764155098, '0.5'),\n",
       " ('c', 'd'): Text(0.14828859067362413, 0.5746700188295888, '1.0')}"
      ]
     },
     "execution_count": 77,
     "metadata": {},
     "output_type": "execute_result"
    },
    {
     "data": {
      "image/png": "[encoded data removed]",
      "text/plain": [
       "<Figure size 432x288 with 1 Axes>"
      ]
     },
     "metadata": {},
     "output_type": "display_data"
    }
   ],
   "source": [
    "W = nx.Graph()\n",
    "W.add_edge('a', 'b', weight=0.3)\n",
    "W.add_edge('b', 'c', weight=0.5)\n",
    "W.add_edge('a', 'c', weight=2.0)\n",
    "W.add_edge('c', 'd', weight=1.0)\n",
    "pos = nx.fruchterman_reingold_layout(W)\n",
    "nx.draw(W, pos=pos, with_labels=True)\n",
    "nx.draw_networkx_edge_labels(W, pos, edge_labels=nx.get_edge_attributes(W, 'weight'))"
   ]
  },
  {
   "cell_type": "code",
   "execution_count": 78,
   "metadata": {},
   "outputs": [
    {
     "data": {
      "text/plain": [
       "['a', 'c', 'd']"
      ]
     },
     "execution_count": 78,
     "metadata": {},
     "output_type": "execute_result"
    }
   ],
   "source": [
    "nx.shortest_path(W, 'a', 'd')"
   ]
  },
  {
   "cell_type": "code",
   "execution_count": 79,
   "metadata": {},
   "outputs": [
    {
     "data": {
      "text/plain": [
       "['a', 'b', 'c', 'd']"
      ]
     },
     "execution_count": 79,
     "metadata": {},
     "output_type": "execute_result"
    }
   ],
   "source": [
    "nx.shortest_path(W, 'a', 'd',weight='weight')"
   ]
  },
  {
   "cell_type": "code",
   "execution_count": 80,
   "metadata": {},
   "outputs": [
    {
     "data": {
      "text/plain": [
       "1.8"
      ]
     },
     "execution_count": 80,
     "metadata": {},
     "output_type": "execute_result"
    }
   ],
   "source": [
    "nx.shortest_path_length(W, 'a', 'd',weight='weight')"
   ]
  },
  {
   "cell_type": "markdown",
   "metadata": {},
   "source": [
    "### Illustrate paths in the Florentine families graph\n",
    "\n",
    "Shortest paths are not unique, we can have more of one path with the same length. You can use **nx.all_shortest_paths** to get all shortest paths."
   ]
  },
  {
   "cell_type": "code",
   "execution_count": 81,
   "metadata": {},
   "outputs": [
    {
     "data": {
      "image/png": "[encoded data removed]",
      "text/plain": [
       "<Figure size 864x864 with 1 Axes>"
      ]
     },
     "metadata": {},
     "output_type": "display_data"
    }
   ],
   "source": [
    "G = nx.florentine_families_graph()\n",
    "plt.figure(figsize=(12,12))\n",
    "nx.draw(G, pos=pos_fr, node_size=3000, node_color='green', with_labels=True)"
   ]
  },
  {
   "cell_type": "code",
   "execution_count": 82,
   "metadata": {},
   "outputs": [
    {
     "data": {
      "text/plain": [
       "['Medici', 'Barbadori', 'Castellani', 'Peruzzi']"
      ]
     },
     "execution_count": 82,
     "metadata": {},
     "output_type": "execute_result"
    }
   ],
   "source": [
    "source = 'Medici'\n",
    "target = 'Peruzzi'\n",
    "nx.shortest_path(G, source, target)"
   ]
  },
  {
   "cell_type": "code",
   "execution_count": 83,
   "metadata": {},
   "outputs": [
    {
     "data": {
      "text/plain": [
       "[['Medici', 'Barbadori', 'Castellani', 'Peruzzi'],\n",
       " ['Medici', 'Ridolfi', 'Strozzi', 'Peruzzi']]"
      ]
     },
     "execution_count": 83,
     "metadata": {},
     "output_type": "execute_result"
    }
   ],
   "source": [
    "# Shortest paths are not unique\n",
    "list(nx.all_shortest_paths(G, source, target))"
   ]
  },
  {
   "cell_type": "code",
   "execution_count": 84,
   "metadata": {},
   "outputs": [],
   "source": [
    "def plot_paths(G, paths):\n",
    "    plt.figure(figsize=(12,12))\n",
    "    pos = nx.fruchterman_reingold_layout(G)\n",
    "    nx.draw_networkx_nodes(G, pos=pos, node_size=3000, node_color='green')\n",
    "    nx.draw_networkx_labels(G, pos=pos, labels={n: n for n in G})\n",
    "    # Draw edges\n",
    "    nx.draw_networkx_edges(G, pos=pos)\n",
    "    for path in paths:\n",
    "        edges = list(zip(path, path[1:]))\n",
    "        nx.draw_networkx_edges(G, pos=pos, edgelist=edges, edge_color='red', width=3)\n",
    "    ax = plt.gca()\n",
    "    ax.set_axis_off()\n",
    "    ax.grid(None)"
   ]
  },
  {
   "cell_type": "code",
   "execution_count": 85,
   "metadata": {},
   "outputs": [
    {
     "data": {
      "image/png": "[encoded data removed]",
      "text/plain": [
       "<Figure size 864x864 with 1 Axes>"
      ]
     },
     "metadata": {},
     "output_type": "display_data"
    }
   ],
   "source": [
    "plot_paths(G, [nx.shortest_path(G, source, target)])"
   ]
  },
  {
   "cell_type": "code",
   "execution_count": 140,
   "metadata": {},
   "outputs": [
    {
     "data": {
      "image/png": "[encoded data removed]",
      "text/plain": [
       "<Figure size 864x864 with 1 Axes>"
      ]
     },
     "metadata": {},
     "output_type": "display_data"
    }
   ],
   "source": [
    "plot_paths(G, nx.all_shortest_paths(G, source, target))"
   ]
  },
  {
   "cell_type": "code",
   "execution_count": 141,
   "metadata": {},
   "outputs": [
    {
     "name": "stdout",
     "output_type": "stream",
     "text": [
      "1 ['Medici', 'Barbadori', 'Castellani', 'Peruzzi']\n",
      "2 ['Medici', 'Barbadori', 'Castellani', 'Strozzi', 'Peruzzi']\n",
      "3 ['Medici', 'Barbadori', 'Castellani', 'Strozzi', 'Ridolfi', 'Tornabuoni', 'Guadagni', 'Bischeri', 'Peruzzi']\n",
      "4 ['Medici', 'Barbadori', 'Castellani', 'Strozzi', 'Bischeri', 'Peruzzi']\n",
      "5 ['Medici', 'Ridolfi', 'Strozzi', 'Castellani', 'Peruzzi']\n",
      "6 ['Medici', 'Ridolfi', 'Strozzi', 'Peruzzi']\n",
      "7 ['Medici', 'Ridolfi', 'Strozzi', 'Bischeri', 'Peruzzi']\n",
      "8 ['Medici', 'Ridolfi', 'Tornabuoni', 'Guadagni', 'Bischeri', 'Peruzzi']\n",
      "9 ['Medici', 'Ridolfi', 'Tornabuoni', 'Guadagni', 'Bischeri', 'Strozzi', 'Castellani', 'Peruzzi']\n",
      "10 ['Medici', 'Ridolfi', 'Tornabuoni', 'Guadagni', 'Bischeri', 'Strozzi', 'Peruzzi']\n",
      "11 ['Medici', 'Tornabuoni', 'Ridolfi', 'Strozzi', 'Castellani', 'Peruzzi']\n",
      "12 ['Medici', 'Tornabuoni', 'Ridolfi', 'Strozzi', 'Peruzzi']\n",
      "13 ['Medici', 'Tornabuoni', 'Ridolfi', 'Strozzi', 'Bischeri', 'Peruzzi']\n",
      "14 ['Medici', 'Tornabuoni', 'Guadagni', 'Bischeri', 'Peruzzi']\n",
      "15 ['Medici', 'Tornabuoni', 'Guadagni', 'Bischeri', 'Strozzi', 'Castellani', 'Peruzzi']\n",
      "16 ['Medici', 'Tornabuoni', 'Guadagni', 'Bischeri', 'Strozzi', 'Peruzzi']\n"
     ]
    }
   ],
   "source": [
    "for i, path in enumerate(nx.all_simple_paths(G, source, target), 1):\n",
    "    print(i, path)"
   ]
  },
  {
   "cell_type": "code",
   "execution_count": 142,
   "metadata": {},
   "outputs": [
    {
     "name": "stdout",
     "output_type": "stream",
     "text": [
      "1 ['Medici', 'Barbadori', 'Castellani', 'Peruzzi']\n",
      "2 ['Medici', 'Ridolfi', 'Strozzi', 'Peruzzi']\n",
      "3 ['Medici', 'Barbadori', 'Castellani', 'Strozzi', 'Peruzzi']\n",
      "4 ['Medici', 'Tornabuoni', 'Ridolfi', 'Strozzi', 'Peruzzi']\n",
      "5 ['Medici', 'Ridolfi', 'Strozzi', 'Castellani', 'Peruzzi']\n",
      "6 ['Medici', 'Tornabuoni', 'Guadagni', 'Bischeri', 'Peruzzi']\n",
      "7 ['Medici', 'Ridolfi', 'Strozzi', 'Bischeri', 'Peruzzi']\n",
      "8 ['Medici', 'Ridolfi', 'Tornabuoni', 'Guadagni', 'Bischeri', 'Peruzzi']\n",
      "9 ['Medici', 'Barbadori', 'Castellani', 'Strozzi', 'Bischeri', 'Peruzzi']\n",
      "10 ['Medici', 'Tornabuoni', 'Ridolfi', 'Strozzi', 'Castellani', 'Peruzzi']\n",
      "11 ['Medici', 'Tornabuoni', 'Guadagni', 'Bischeri', 'Strozzi', 'Peruzzi']\n",
      "12 ['Medici', 'Tornabuoni', 'Ridolfi', 'Strozzi', 'Bischeri', 'Peruzzi']\n",
      "13 ['Medici', 'Ridolfi', 'Tornabuoni', 'Guadagni', 'Bischeri', 'Strozzi', 'Peruzzi']\n",
      "14 ['Medici', 'Tornabuoni', 'Guadagni', 'Bischeri', 'Strozzi', 'Castellani', 'Peruzzi']\n",
      "15 ['Medici', 'Ridolfi', 'Tornabuoni', 'Guadagni', 'Bischeri', 'Strozzi', 'Castellani', 'Peruzzi']\n",
      "16 ['Medici', 'Barbadori', 'Castellani', 'Strozzi', 'Ridolfi', 'Tornabuoni', 'Guadagni', 'Bischeri', 'Peruzzi']\n"
     ]
    }
   ],
   "source": [
    "for i, path in enumerate(nx.shortest_simple_paths(G, source, target), 1):\n",
    "    print(i, path)"
   ]
  },
  {
   "cell_type": "markdown",
   "metadata": {},
   "source": [
    "### Node centrality analysis: measures and their relation\n",
    "\n",
    "Centrality analysis allows us to identify the most important nodes (ie actors) of a network. The definition of importance depends on the network that we analyze and the nature of the relations that it models. There are a lot of wellknown centrality measures, and NetworkX provides implementations for most of them (you can see the list of centrality measures at [centrality documentation](https://networkx.org/documentation/stable/reference/algorithms/centrality.html?highlight=centrality)).\n",
    "\n",
    "We'll focus here on four essential measures using as an example the network of relations between elite families in renaissance Florence. In this concrete example relations in the network represent marriage ties between families.\n",
    "\n",
    "In the beginning of the 14 century, the Medici family was not the richest nor the one with more formal political power (seats in the city council) on the city republic of Florence, but their relation to other elite families put them in a position of power that allow them to became the city's leading family, a position they would hold for the next three centuries.\n",
    "\n",
    "Analyzing this network we can see that the Medici family had a central position.\n",
    "\n",
    "NetworkX provides the network of florentine families modeled as an undirected graph:"
   ]
  },
  {
   "cell_type": "code",
   "execution_count": 143,
   "metadata": {},
   "outputs": [],
   "source": [
    "G = nx.florentine_families_graph()"
   ]
  },
  {
   "cell_type": "markdown",
   "metadata": {},
   "source": [
    "### Degree Centrality\n",
    "\n",
    "The degree of a node in an undirected graph is the number of incident edges of the node, that is, the number of neighbors that it has on the graph.\n",
    "\n",
    "The degree centrality mesaure is the the number of neighbors of each node divided by the maximum number of neighbors that it could have. In an undirected graph, this is $n-1$ where $n$ is the total number of nodes of the graph.\n",
    "\n",
    "The output of the function **nx.degree_centrality** is a dictionary whose keys are the nodes and their value is the degree centrality score. Functions that implement node level measures in NetworkX, such as centrality scores, always return their result as a dictionary, with nodes as keys and the concrete score for that node as a value."
   ]
  },
  {
   "cell_type": "code",
   "execution_count": 144,
   "metadata": {},
   "outputs": [],
   "source": [
    "from operator import itemgetter"
   ]
  },
  {
   "cell_type": "code",
   "execution_count": 145,
   "metadata": {},
   "outputs": [
    {
     "data": {
      "text/plain": [
       "[('Medici', 0.42857142857142855),\n",
       " ('Strozzi', 0.2857142857142857),\n",
       " ('Guadagni', 0.2857142857142857),\n",
       " ('Castellani', 0.21428571428571427),\n",
       " ('Peruzzi', 0.21428571428571427),\n",
       " ('Ridolfi', 0.21428571428571427),\n",
       " ('Tornabuoni', 0.21428571428571427),\n",
       " ('Albizzi', 0.21428571428571427),\n",
       " ('Bischeri', 0.21428571428571427),\n",
       " ('Barbadori', 0.14285714285714285),\n",
       " ('Salviati', 0.14285714285714285),\n",
       " ('Acciaiuoli', 0.07142857142857142),\n",
       " ('Pazzi', 0.07142857142857142),\n",
       " ('Ginori', 0.07142857142857142),\n",
       " ('Lamberteschi', 0.07142857142857142)]"
      ]
     },
     "execution_count": 145,
     "metadata": {},
     "output_type": "execute_result"
    }
   ],
   "source": [
    "degc = nx.degree_centrality(G)\n",
    "# let's list the scores\n",
    "sorted(degc.items(), key=itemgetter(1), reverse=True)"
   ]
  },
  {
   "cell_type": "markdown",
   "metadata": {},
   "source": [
    "### Betweenness centrality\n",
    "\n",
    "Betweenness centrality of a node `v` is the sum of the fraction of all-pairs shortest paths that pass through `v`: \n",
    "\n",
    "$$ c_B(v) =\\sum_{s,t \\in V} \\frac{\\sigma(s, t|v)}{\\sigma(s, t)} $$\n",
    "\n",
    "where `V` is the set of nodes, $\\sigma(s, t)$ is the number of shortest `(s, t)`-paths,  and $\\sigma(s, t|v)$ is the number of those paths passing through `v`."
   ]
  },
  {
   "cell_type": "code",
   "execution_count": 146,
   "metadata": {},
   "outputs": [
    {
     "data": {
      "text/plain": [
       "[('Medici', 0.521978021978022),\n",
       " ('Guadagni', 0.2545787545787546),\n",
       " ('Albizzi', 0.21245421245421245),\n",
       " ('Salviati', 0.14285714285714288),\n",
       " ('Ridolfi', 0.11355311355311355),\n",
       " ('Bischeri', 0.1043956043956044),\n",
       " ('Strozzi', 0.10256410256410257),\n",
       " ('Barbadori', 0.09340659340659341),\n",
       " ('Tornabuoni', 0.09157509157509157),\n",
       " ('Castellani', 0.05494505494505495),\n",
       " ('Peruzzi', 0.02197802197802198),\n",
       " ('Acciaiuoli', 0.0),\n",
       " ('Pazzi', 0.0),\n",
       " ('Ginori', 0.0),\n",
       " ('Lamberteschi', 0.0)]"
      ]
     },
     "execution_count": 146,
     "metadata": {},
     "output_type": "execute_result"
    }
   ],
   "source": [
    "bet = nx.betweenness_centrality(G)\n",
    "# let's list the scores\n",
    "sorted(bet.items(), key=itemgetter(1), reverse=True)"
   ]
  },
  {
   "cell_type": "markdown",
   "metadata": {},
   "source": [
    "### Closeness centrality\n",
    "\n",
    "Closeness centrality of a node `u` is the reciprocal of the sum of the shortest path distances from `u` to all `n-1` other nodes. Since the sum of distances depends on the number of nodes in the graph, closeness is normalized by the sum of minimum possible distances `n-1`.\n",
    "\n",
    "$$C(u) = \\frac{n - 1}{\\sum_{v=1}^{n-1} d(v, u)}$$\n",
    "\n",
    "where `d(v, u)` is the shortest-path distance between `v` and `u`, and `n` is the number of nodes in the graph. Notice that higher values of closeness indicate higher centrality.\n"
   ]
  },
  {
   "cell_type": "code",
   "execution_count": 147,
   "metadata": {},
   "outputs": [
    {
     "data": {
      "text/plain": [
       "[('Medici', 0.56),\n",
       " ('Ridolfi', 0.5),\n",
       " ('Tornabuoni', 0.4827586206896552),\n",
       " ('Albizzi', 0.4827586206896552),\n",
       " ('Guadagni', 0.4666666666666667),\n",
       " ('Strozzi', 0.4375),\n",
       " ('Barbadori', 0.4375),\n",
       " ('Bischeri', 0.4),\n",
       " ('Castellani', 0.3888888888888889),\n",
       " ('Salviati', 0.3888888888888889),\n",
       " ('Acciaiuoli', 0.3684210526315789),\n",
       " ('Peruzzi', 0.3684210526315789),\n",
       " ('Ginori', 0.3333333333333333),\n",
       " ('Lamberteschi', 0.32558139534883723),\n",
       " ('Pazzi', 0.2857142857142857)]"
      ]
     },
     "execution_count": 147,
     "metadata": {},
     "output_type": "execute_result"
    }
   ],
   "source": [
    "clos = nx.closeness_centrality(G)\n",
    "# let's list the scores\n",
    "sorted(clos.items(), key=itemgetter(1), reverse=True)"
   ]
  },
  {
   "cell_type": "markdown",
   "metadata": {},
   "source": [
    "### Eigenvector Centrality\n",
    "\n",
    "Eigenvector centrality assigns relative scores to all nodes in the network based on the concept that connections to high-scoring nodes contribute more to the score of the node in question than equal connections to low-scoring nodes.\n",
    "\n",
    "Google's pagerank score is a variant of eigenvector centrality (NetworkX also implements the pagerank algorithm)."
   ]
  },
  {
   "cell_type": "code",
   "execution_count": 148,
   "metadata": {},
   "outputs": [
    {
     "data": {
      "text/plain": [
       "[('Medici', 0.4303154258349923),\n",
       " ('Strozzi', 0.3559730326460451),\n",
       " ('Ridolfi', 0.3415544259074365),\n",
       " ('Tornabuoni', 0.325846704169574),\n",
       " ('Guadagni', 0.2891171573226501),\n",
       " ('Bischeri', 0.2827943958713356),\n",
       " ('Peruzzi', 0.2757224374104833),\n",
       " ('Castellani', 0.2590200378423514),\n",
       " ('Albizzi', 0.2439605296754477),\n",
       " ('Barbadori', 0.2117057470647985),\n",
       " ('Salviati', 0.14592084164171834),\n",
       " ('Acciaiuoli', 0.1321573195285342),\n",
       " ('Lamberteschi', 0.08879253113499548),\n",
       " ('Ginori', 0.0749245316027793),\n",
       " ('Pazzi', 0.044814939703863084)]"
      ]
     },
     "execution_count": 148,
     "metadata": {},
     "output_type": "execute_result"
    }
   ],
   "source": [
    "eig = nx.eigenvector_centrality(G)\n",
    "# let's list the scores\n",
    "sorted(eig.items(), key=itemgetter(1), reverse=True)"
   ]
  },
  {
   "cell_type": "markdown",
   "metadata": {},
   "source": [
    "### Relation between centrality measures \n",
    "\n",
    "As we can see the Medici family is the most important node in the network in all four centrality measures analyzed here. This is not always the case. When analyzing the node centrality of a network is important to think about the kind of realtions that it models, and choose the centrality measure that fits better in our concrete case.\n",
    "\n",
    "In practice it's useful to plot the relations between centrality scores to see their correlation and see up to which point they provide redundant information. We can do this easily using Pandas and seaborn."
   ]
  },
  {
   "cell_type": "code",
   "execution_count": 149,
   "metadata": {},
   "outputs": [],
   "source": [
    "import pandas as pd\n",
    "import seaborn as sns"
   ]
  },
  {
   "cell_type": "code",
   "execution_count": 150,
   "metadata": {},
   "outputs": [
    {
     "data": {
      "text/html": [
       "<div>\n",
       "<style scoped>\n",
       "    .dataframe tbody tr th:only-of-type {\n",
       "        vertical-align: middle;\n",
       "    }\n",
       "\n",
       "    .dataframe tbody tr th {\n",
       "        vertical-align: top;\n",
       "    }\n",
       "\n",
       "    .dataframe thead th {\n",
       "        text-align: right;\n",
       "    }\n",
       "</style>\n",
       "<table border=\"1\" class=\"dataframe\">\n",
       "  <thead>\n",
       "    <tr style=\"text-align: right;\">\n",
       "      <th></th>\n",
       "      <th>degree</th>\n",
       "      <th>betweenness</th>\n",
       "      <th>closeness</th>\n",
       "      <th>eigenvector</th>\n",
       "    </tr>\n",
       "  </thead>\n",
       "  <tbody>\n",
       "    <tr>\n",
       "      <th>Acciaiuoli</th>\n",
       "      <td>0.071429</td>\n",
       "      <td>0.000000</td>\n",
       "      <td>0.368421</td>\n",
       "      <td>0.132157</td>\n",
       "    </tr>\n",
       "    <tr>\n",
       "      <th>Medici</th>\n",
       "      <td>0.428571</td>\n",
       "      <td>0.521978</td>\n",
       "      <td>0.560000</td>\n",
       "      <td>0.430315</td>\n",
       "    </tr>\n",
       "    <tr>\n",
       "      <th>Castellani</th>\n",
       "      <td>0.214286</td>\n",
       "      <td>0.054945</td>\n",
       "      <td>0.388889</td>\n",
       "      <td>0.259020</td>\n",
       "    </tr>\n",
       "    <tr>\n",
       "      <th>Peruzzi</th>\n",
       "      <td>0.214286</td>\n",
       "      <td>0.021978</td>\n",
       "      <td>0.368421</td>\n",
       "      <td>0.275722</td>\n",
       "    </tr>\n",
       "    <tr>\n",
       "      <th>Strozzi</th>\n",
       "      <td>0.285714</td>\n",
       "      <td>0.102564</td>\n",
       "      <td>0.437500</td>\n",
       "      <td>0.355973</td>\n",
       "    </tr>\n",
       "    <tr>\n",
       "      <th>Barbadori</th>\n",
       "      <td>0.142857</td>\n",
       "      <td>0.093407</td>\n",
       "      <td>0.437500</td>\n",
       "      <td>0.211706</td>\n",
       "    </tr>\n",
       "    <tr>\n",
       "      <th>Ridolfi</th>\n",
       "      <td>0.214286</td>\n",
       "      <td>0.113553</td>\n",
       "      <td>0.500000</td>\n",
       "      <td>0.341554</td>\n",
       "    </tr>\n",
       "    <tr>\n",
       "      <th>Tornabuoni</th>\n",
       "      <td>0.214286</td>\n",
       "      <td>0.091575</td>\n",
       "      <td>0.482759</td>\n",
       "      <td>0.325847</td>\n",
       "    </tr>\n",
       "    <tr>\n",
       "      <th>Albizzi</th>\n",
       "      <td>0.214286</td>\n",
       "      <td>0.212454</td>\n",
       "      <td>0.482759</td>\n",
       "      <td>0.243961</td>\n",
       "    </tr>\n",
       "    <tr>\n",
       "      <th>Salviati</th>\n",
       "      <td>0.142857</td>\n",
       "      <td>0.142857</td>\n",
       "      <td>0.388889</td>\n",
       "      <td>0.145921</td>\n",
       "    </tr>\n",
       "    <tr>\n",
       "      <th>Pazzi</th>\n",
       "      <td>0.071429</td>\n",
       "      <td>0.000000</td>\n",
       "      <td>0.285714</td>\n",
       "      <td>0.044815</td>\n",
       "    </tr>\n",
       "    <tr>\n",
       "      <th>Bischeri</th>\n",
       "      <td>0.214286</td>\n",
       "      <td>0.104396</td>\n",
       "      <td>0.400000</td>\n",
       "      <td>0.282794</td>\n",
       "    </tr>\n",
       "    <tr>\n",
       "      <th>Guadagni</th>\n",
       "      <td>0.285714</td>\n",
       "      <td>0.254579</td>\n",
       "      <td>0.466667</td>\n",
       "      <td>0.289117</td>\n",
       "    </tr>\n",
       "    <tr>\n",
       "      <th>Ginori</th>\n",
       "      <td>0.071429</td>\n",
       "      <td>0.000000</td>\n",
       "      <td>0.333333</td>\n",
       "      <td>0.074925</td>\n",
       "    </tr>\n",
       "    <tr>\n",
       "      <th>Lamberteschi</th>\n",
       "      <td>0.071429</td>\n",
       "      <td>0.000000</td>\n",
       "      <td>0.325581</td>\n",
       "      <td>0.088793</td>\n",
       "    </tr>\n",
       "  </tbody>\n",
       "</table>\n",
       "</div>"
      ],
      "text/plain": [
       "                degree  betweenness  closeness  eigenvector\n",
       "Acciaiuoli    0.071429     0.000000   0.368421     0.132157\n",
       "Medici        0.428571     0.521978   0.560000     0.430315\n",
       "Castellani    0.214286     0.054945   0.388889     0.259020\n",
       "Peruzzi       0.214286     0.021978   0.368421     0.275722\n",
       "Strozzi       0.285714     0.102564   0.437500     0.355973\n",
       "Barbadori     0.142857     0.093407   0.437500     0.211706\n",
       "Ridolfi       0.214286     0.113553   0.500000     0.341554\n",
       "Tornabuoni    0.214286     0.091575   0.482759     0.325847\n",
       "Albizzi       0.214286     0.212454   0.482759     0.243961\n",
       "Salviati      0.142857     0.142857   0.388889     0.145921\n",
       "Pazzi         0.071429     0.000000   0.285714     0.044815\n",
       "Bischeri      0.214286     0.104396   0.400000     0.282794\n",
       "Guadagni      0.285714     0.254579   0.466667     0.289117\n",
       "Ginori        0.071429     0.000000   0.333333     0.074925\n",
       "Lamberteschi  0.071429     0.000000   0.325581     0.088793"
      ]
     },
     "execution_count": 150,
     "metadata": {},
     "output_type": "execute_result"
    }
   ],
   "source": [
    "centrality_measures = {\n",
    "    'degree': degc,\n",
    "    'betweenness': bet,\n",
    "    'closeness': clos,\n",
    "    'eigenvector': eig,\n",
    "}\n",
    "centrality = pd.DataFrame(centrality_measures)\n",
    "centrality"
   ]
  },
  {
   "cell_type": "code",
   "execution_count": 151,
   "metadata": {},
   "outputs": [
    {
     "data": {
      "text/plain": [
       "<seaborn.axisgrid.PairGrid at 0x227501aef70>"
      ]
     },
     "execution_count": 151,
     "metadata": {},
     "output_type": "execute_result"
    },
    {
     "data": {
      "image/png": "[encoded data removed]",
      "text/plain": [
       "<Figure size 720x720 with 20 Axes>"
      ]
     },
     "metadata": {
      "needs_background": "light"
     },
     "output_type": "display_data"
    }
   ],
   "source": [
    "sns.pairplot(centrality)"
   ]
  },
  {
   "cell_type": "markdown",
   "metadata": {
    "collapsed": true
   },
   "source": [
    "#### An example of a graph without high correlation between centrality measures\n",
    "\n",
    "As a couterexample, the graph below has low correlation between some of the centrality measures. This graph is composed by two random graphs joined by a node with an edge to one node of each random graph. The node bridging the two random graphs is in the middle of most shortest paths, and is closer to all other nodes than the nodes in the random graphs; but it only has two incident edges. Thus, it has high betweenness and closeness values but low degree and eigenvector centrality.  "
   ]
  },
  {
   "cell_type": "code",
   "execution_count": 152,
   "metadata": {},
   "outputs": [
    {
     "data": {
      "image/png": "[encoded data removed]",
      "text/plain": [
       "<Figure size 432x288 with 1 Axes>"
      ]
     },
     "metadata": {},
     "output_type": "display_data"
    }
   ],
   "source": [
    "#B = nx.barbell_graph(10, 1)\n",
    "done = False\n",
    "while not done:\n",
    "    B = nx.disjoint_union(nx.fast_gnp_random_graph(10, 0.5), nx.fast_gnp_random_graph(10, 0.5))\n",
    "    B.add_edges_from([('A', 0), ('A', 15)])\n",
    "    try:\n",
    "        eig = nx.eigenvector_centrality(B)\n",
    "        if nx.is_connected(B):\n",
    "            done = True\n",
    "    except:\n",
    "        pass\n",
    "nx.draw(B, node_size=400, node_color='green', with_labels=True)"
   ]
  },
  {
   "cell_type": "markdown",
   "metadata": {},
   "source": [
    "#### Exercise\n",
    "\n",
    "Analyze the node centrality metrics for the example graph $B$ defined in the previous cell. List the node centrality scores in reverse order.\n",
    "\n",
    "Then build a pandas DataFrame with nodes as rows and centrality metrics as columns. Plot a pairplot using seaborn to graphically see the correlation between centrality measures. How it's different from the correlations between centrality scores from the florentine families example?"
   ]
  },
  {
   "cell_type": "code",
   "execution_count": 153,
   "metadata": {},
   "outputs": [
    {
     "data": {
      "text/plain": [
       "[(3, 0.4),\n",
       " (13, 0.4),\n",
       " (0, 0.35000000000000003),\n",
       " (6, 0.35000000000000003),\n",
       " (7, 0.35000000000000003),\n",
       " (8, 0.35000000000000003),\n",
       " (4, 0.30000000000000004),\n",
       " (10, 0.30000000000000004),\n",
       " (15, 0.30000000000000004),\n",
       " (5, 0.25),\n",
       " (11, 0.25),\n",
       " (18, 0.25),\n",
       " (19, 0.25),\n",
       " (1, 0.2),\n",
       " (2, 0.2),\n",
       " (9, 0.2),\n",
       " (16, 0.2),\n",
       " (17, 0.2),\n",
       " (12, 0.15000000000000002),\n",
       " (14, 0.15000000000000002),\n",
       " ('A', 0.1)]"
      ]
     },
     "execution_count": 153,
     "metadata": {},
     "output_type": "execute_result"
    }
   ],
   "source": [
    "# Degree Centrality\n",
    "degc = nx.degree_centrality(B)\n",
    "sorted(degc.items(), key=itemgetter(1), reverse=True)"
   ]
  },
  {
   "cell_type": "code",
   "execution_count": 154,
   "metadata": {},
   "outputs": [
    {
     "data": {
      "text/plain": [
       "[(15, 0.5285087719298246),\n",
       " (0, 0.5282456140350877),\n",
       " ('A', 0.5263157894736842),\n",
       " (13, 0.1131578947368421),\n",
       " (11, 0.08070175438596491),\n",
       " (18, 0.07149122807017544),\n",
       " (3, 0.06149122807017542),\n",
       " (6, 0.05517543859649121),\n",
       " (8, 0.050964912280701734),\n",
       " (1, 0.03289473684210526),\n",
       " (10, 0.019736842105263157),\n",
       " (16, 0.017105263157894738),\n",
       " (17, 0.017105263157894738),\n",
       " (7, 0.015087719298245612),\n",
       " (4, 0.013684210526315794),\n",
       " (5, 0.012631578947368424),\n",
       " (19, 0.011403508771929824),\n",
       " (9, 0.005701754385964912),\n",
       " (12, 0.003947368421052632),\n",
       " (2, 0.003070175438596491),\n",
       " (14, 0.0)]"
      ]
     },
     "execution_count": 154,
     "metadata": {},
     "output_type": "execute_result"
    }
   ],
   "source": [
    "# Betweenness Centrality\n",
    "bet = nx.betweenness_centrality(B)\n",
    "sorted(bet.items(), key=itemgetter(1), reverse=True)"
   ]
  },
  {
   "cell_type": "code",
   "execution_count": 155,
   "metadata": {},
   "outputs": [
    {
     "data": {
      "text/plain": [
       "[('A', 0.4444444444444444),\n",
       " (0, 0.43478260869565216),\n",
       " (15, 0.43478260869565216),\n",
       " (13, 0.37037037037037035),\n",
       " (3, 0.36363636363636365),\n",
       " (6, 0.35714285714285715),\n",
       " (8, 0.35714285714285715),\n",
       " (4, 0.3508771929824561),\n",
       " (11, 0.3508771929824561),\n",
       " (18, 0.3508771929824561),\n",
       " (5, 0.3448275862068966),\n",
       " (16, 0.3448275862068966),\n",
       " (17, 0.3448275862068966),\n",
       " (1, 0.3389830508474576),\n",
       " (7, 0.29850746268656714),\n",
       " (10, 0.29850746268656714),\n",
       " (19, 0.29411764705882354),\n",
       " (2, 0.2857142857142857),\n",
       " (9, 0.2857142857142857),\n",
       " (12, 0.2857142857142857),\n",
       " (14, 0.2857142857142857)]"
      ]
     },
     "execution_count": 155,
     "metadata": {},
     "output_type": "execute_result"
    }
   ],
   "source": [
    "# Closeness centrality\n",
    "clos = nx.closeness_centrality(B)\n",
    "sorted(clos.items(), key=itemgetter(1), reverse=True)"
   ]
  },
  {
   "cell_type": "code",
   "execution_count": 156,
   "metadata": {},
   "outputs": [
    {
     "data": {
      "text/plain": [
       "[(12, 0.0022565298953008085),\n",
       " (14, 0.0026668213781549962),\n",
       " (19, 0.0036420733312067283),\n",
       " (10, 0.004705479562868389),\n",
       " (16, 0.0051297808811897275),\n",
       " (17, 0.0051297808811897275),\n",
       " (11, 0.005260871620904124),\n",
       " (18, 0.0055052351077351895),\n",
       " (13, 0.007468930310515409),\n",
       " (15, 0.013817129789682261),\n",
       " ('A', 0.05635815116118087),\n",
       " (9, 0.1909528552111638),\n",
       " (2, 0.20856881099812644),\n",
       " (1, 0.2093947756742795),\n",
       " (5, 0.2940106252335706),\n",
       " (0, 0.3323333016409208),\n",
       " (4, 0.34470503123923296),\n",
       " (7, 0.3541124918535266),\n",
       " (6, 0.36206047808366915),\n",
       " (8, 0.3739080845897065),\n",
       " (3, 0.40076026625776334)]"
      ]
     },
     "execution_count": 156,
     "metadata": {},
     "output_type": "execute_result"
    }
   ],
   "source": [
    "# Eigenvector centrality\n",
    "eig = nx.eigenvector_centrality(B)\n",
    "sorted(eig.items(), key=itemgetter(1), reverse=False)"
   ]
  },
  {
   "cell_type": "code",
   "execution_count": 157,
   "metadata": {},
   "outputs": [
    {
     "data": {
      "text/html": [
       "<div>\n",
       "<style scoped>\n",
       "    .dataframe tbody tr th:only-of-type {\n",
       "        vertical-align: middle;\n",
       "    }\n",
       "\n",
       "    .dataframe tbody tr th {\n",
       "        vertical-align: top;\n",
       "    }\n",
       "\n",
       "    .dataframe thead th {\n",
       "        text-align: right;\n",
       "    }\n",
       "</style>\n",
       "<table border=\"1\" class=\"dataframe\">\n",
       "  <thead>\n",
       "    <tr style=\"text-align: right;\">\n",
       "      <th></th>\n",
       "      <th>degree</th>\n",
       "      <th>betweenness</th>\n",
       "      <th>closeness</th>\n",
       "      <th>eigenvector</th>\n",
       "    </tr>\n",
       "  </thead>\n",
       "  <tbody>\n",
       "    <tr>\n",
       "      <th>0</th>\n",
       "      <td>0.35</td>\n",
       "      <td>0.528246</td>\n",
       "      <td>0.434783</td>\n",
       "      <td>0.332333</td>\n",
       "    </tr>\n",
       "    <tr>\n",
       "      <th>1</th>\n",
       "      <td>0.20</td>\n",
       "      <td>0.032895</td>\n",
       "      <td>0.338983</td>\n",
       "      <td>0.209395</td>\n",
       "    </tr>\n",
       "    <tr>\n",
       "      <th>2</th>\n",
       "      <td>0.20</td>\n",
       "      <td>0.003070</td>\n",
       "      <td>0.285714</td>\n",
       "      <td>0.208569</td>\n",
       "    </tr>\n",
       "    <tr>\n",
       "      <th>3</th>\n",
       "      <td>0.40</td>\n",
       "      <td>0.061491</td>\n",
       "      <td>0.363636</td>\n",
       "      <td>0.400760</td>\n",
       "    </tr>\n",
       "    <tr>\n",
       "      <th>4</th>\n",
       "      <td>0.30</td>\n",
       "      <td>0.013684</td>\n",
       "      <td>0.350877</td>\n",
       "      <td>0.344705</td>\n",
       "    </tr>\n",
       "    <tr>\n",
       "      <th>5</th>\n",
       "      <td>0.25</td>\n",
       "      <td>0.012632</td>\n",
       "      <td>0.344828</td>\n",
       "      <td>0.294011</td>\n",
       "    </tr>\n",
       "    <tr>\n",
       "      <th>6</th>\n",
       "      <td>0.35</td>\n",
       "      <td>0.055175</td>\n",
       "      <td>0.357143</td>\n",
       "      <td>0.362060</td>\n",
       "    </tr>\n",
       "    <tr>\n",
       "      <th>7</th>\n",
       "      <td>0.35</td>\n",
       "      <td>0.015088</td>\n",
       "      <td>0.298507</td>\n",
       "      <td>0.354112</td>\n",
       "    </tr>\n",
       "    <tr>\n",
       "      <th>8</th>\n",
       "      <td>0.35</td>\n",
       "      <td>0.050965</td>\n",
       "      <td>0.357143</td>\n",
       "      <td>0.373908</td>\n",
       "    </tr>\n",
       "    <tr>\n",
       "      <th>9</th>\n",
       "      <td>0.20</td>\n",
       "      <td>0.005702</td>\n",
       "      <td>0.285714</td>\n",
       "      <td>0.190953</td>\n",
       "    </tr>\n",
       "    <tr>\n",
       "      <th>10</th>\n",
       "      <td>0.30</td>\n",
       "      <td>0.019737</td>\n",
       "      <td>0.298507</td>\n",
       "      <td>0.004705</td>\n",
       "    </tr>\n",
       "    <tr>\n",
       "      <th>11</th>\n",
       "      <td>0.25</td>\n",
       "      <td>0.080702</td>\n",
       "      <td>0.350877</td>\n",
       "      <td>0.005261</td>\n",
       "    </tr>\n",
       "    <tr>\n",
       "      <th>12</th>\n",
       "      <td>0.15</td>\n",
       "      <td>0.003947</td>\n",
       "      <td>0.285714</td>\n",
       "      <td>0.002257</td>\n",
       "    </tr>\n",
       "    <tr>\n",
       "      <th>13</th>\n",
       "      <td>0.40</td>\n",
       "      <td>0.113158</td>\n",
       "      <td>0.370370</td>\n",
       "      <td>0.007469</td>\n",
       "    </tr>\n",
       "    <tr>\n",
       "      <th>14</th>\n",
       "      <td>0.15</td>\n",
       "      <td>0.000000</td>\n",
       "      <td>0.285714</td>\n",
       "      <td>0.002667</td>\n",
       "    </tr>\n",
       "    <tr>\n",
       "      <th>15</th>\n",
       "      <td>0.30</td>\n",
       "      <td>0.528509</td>\n",
       "      <td>0.434783</td>\n",
       "      <td>0.013817</td>\n",
       "    </tr>\n",
       "    <tr>\n",
       "      <th>16</th>\n",
       "      <td>0.20</td>\n",
       "      <td>0.017105</td>\n",
       "      <td>0.344828</td>\n",
       "      <td>0.005130</td>\n",
       "    </tr>\n",
       "    <tr>\n",
       "      <th>17</th>\n",
       "      <td>0.20</td>\n",
       "      <td>0.017105</td>\n",
       "      <td>0.344828</td>\n",
       "      <td>0.005130</td>\n",
       "    </tr>\n",
       "    <tr>\n",
       "      <th>18</th>\n",
       "      <td>0.25</td>\n",
       "      <td>0.071491</td>\n",
       "      <td>0.350877</td>\n",
       "      <td>0.005505</td>\n",
       "    </tr>\n",
       "    <tr>\n",
       "      <th>19</th>\n",
       "      <td>0.25</td>\n",
       "      <td>0.011404</td>\n",
       "      <td>0.294118</td>\n",
       "      <td>0.003642</td>\n",
       "    </tr>\n",
       "    <tr>\n",
       "      <th>A</th>\n",
       "      <td>0.10</td>\n",
       "      <td>0.526316</td>\n",
       "      <td>0.444444</td>\n",
       "      <td>0.056358</td>\n",
       "    </tr>\n",
       "  </tbody>\n",
       "</table>\n",
       "</div>"
      ],
      "text/plain": [
       "    degree  betweenness  closeness  eigenvector\n",
       "0     0.35     0.528246   0.434783     0.332333\n",
       "1     0.20     0.032895   0.338983     0.209395\n",
       "2     0.20     0.003070   0.285714     0.208569\n",
       "3     0.40     0.061491   0.363636     0.400760\n",
       "4     0.30     0.013684   0.350877     0.344705\n",
       "5     0.25     0.012632   0.344828     0.294011\n",
       "6     0.35     0.055175   0.357143     0.362060\n",
       "7     0.35     0.015088   0.298507     0.354112\n",
       "8     0.35     0.050965   0.357143     0.373908\n",
       "9     0.20     0.005702   0.285714     0.190953\n",
       "10    0.30     0.019737   0.298507     0.004705\n",
       "11    0.25     0.080702   0.350877     0.005261\n",
       "12    0.15     0.003947   0.285714     0.002257\n",
       "13    0.40     0.113158   0.370370     0.007469\n",
       "14    0.15     0.000000   0.285714     0.002667\n",
       "15    0.30     0.528509   0.434783     0.013817\n",
       "16    0.20     0.017105   0.344828     0.005130\n",
       "17    0.20     0.017105   0.344828     0.005130\n",
       "18    0.25     0.071491   0.350877     0.005505\n",
       "19    0.25     0.011404   0.294118     0.003642\n",
       "A     0.10     0.526316   0.444444     0.056358"
      ]
     },
     "execution_count": 157,
     "metadata": {},
     "output_type": "execute_result"
    }
   ],
   "source": [
    "# Build a pandas DataFrame with nodes as rows and centrality scores as columns\n",
    "centrality_measures = {\n",
    "    'degree': nx.degree_centrality(B),\n",
    "    'betweenness': nx.betweenness_centrality(B),\n",
    "    'closeness': nx.closeness_centrality(B),\n",
    "    'eigenvector': nx.eigenvector_centrality(B),\n",
    "}\n",
    "centrality = pd.DataFrame(centrality_measures)\n",
    "centrality\n"
   ]
  },
  {
   "cell_type": "code",
   "execution_count": 158,
   "metadata": {},
   "outputs": [
    {
     "data": {
      "text/plain": [
       "<seaborn.axisgrid.PairGrid at 0x2274e56e610>"
      ]
     },
     "execution_count": 158,
     "metadata": {},
     "output_type": "execute_result"
    },
    {
     "data": {
      "image/png": "[encoded data removed]",
      "text/plain": [
       "<Figure size 720x720 with 20 Axes>"
      ]
     },
     "metadata": {
      "needs_background": "light"
     },
     "output_type": "display_data"
    }
   ],
   "source": [
    "# Plot a pairplot of the centrality scores to see their correlation\n",
    "sns.pairplot(centrality)"
   ]
  },
  {
   "cell_type": "markdown",
   "metadata": {},
   "source": [
    "### Components, cliques, k-cores, and k-components\n",
    "\n",
    "A **subgraph** of $G$ is a graph whose nodes and edges are all in $G$. An **induced subgraph** $G[U]$ is a subgraph defined by a subset of nodes $U \\subseteq V(G)$ with all the edges in $G$ that link nodes in $U$. A subgraph is **maximal** in respect to some property if the addition of more nodes to the subgraph will cause the loss of that property.\n",
    "\n",
    "#### Connected components\n",
    "For undirected graphs, a **component** is a maximal connected subgraph, which means that there is at least one path between any two nodes in that subgraph.\n",
    "\n",
    "For directed graphs, a **weakly connected component** is a subgraph that is connected if we replace all of its directed edges with undirected edges. A **strongly connected component** is a subgraph where there is a path in each direction between each pair of nodes of the subgraph.\n",
    "\n",
    "You can check NetworkX documentation for the functions that deal with [components](https://networkx.org/documentation/stable/reference/algorithms/component.html?highlight=components).\n"
   ]
  },
  {
   "cell_type": "code",
   "execution_count": 159,
   "metadata": {},
   "outputs": [
    {
     "data": {
      "image/png": "[encoded data removed]",
      "text/plain": [
       "<Figure size 432x288 with 1 Axes>"
      ]
     },
     "metadata": {},
     "output_type": "display_data"
    }
   ],
   "source": [
    "G = nx.disjoint_union(nx.petersen_graph(), nx.tetrahedral_graph())\n",
    "nx.draw(G, with_labels=True)"
   ]
  },
  {
   "cell_type": "markdown",
   "metadata": {},
   "source": [
    "The function **nx.connected_components** yields sets of nodes that form the components of the graph. If you want the induced subgraphs of the components you have to use **nx.connected_component_subgraphs**"
   ]
  },
  {
   "cell_type": "code",
   "execution_count": 160,
   "metadata": {},
   "outputs": [
    {
     "data": {
      "text/plain": [
       "[{0, 1, 2, 3, 4, 5, 6, 7, 8, 9}, {10, 11, 12, 13}]"
      ]
     },
     "execution_count": 160,
     "metadata": {},
     "output_type": "execute_result"
    }
   ],
   "source": [
    "list(nx.connected_components(G))"
   ]
  },
  {
   "cell_type": "markdown",
   "metadata": {},
   "source": [
    "##### Quick execise\n",
    "How to select the largest connected component of a graph?"
   ]
  },
  {
   "cell_type": "code",
   "execution_count": 161,
   "metadata": {},
   "outputs": [
    {
     "data": {
      "text/plain": [
       "10"
      ]
     },
     "execution_count": 161,
     "metadata": {},
     "output_type": "execute_result"
    }
   ],
   "source": [
    "largest = max(nx.connected_components(G), key=len)\n",
    "len(largest)"
   ]
  },
  {
   "cell_type": "markdown",
   "metadata": {},
   "source": [
    "Returning to the florentine families marriage graph, we can analyze the importance of each family in maintaining the graph connected by removing each node, checking if the graph remains connected after the removal, and computing the percentage of nodes in the largest connected component if removing the node disconnects the graph:"
   ]
  },
  {
   "cell_type": "code",
   "execution_count": 162,
   "metadata": {},
   "outputs": [],
   "source": [
    "G = nx.florentine_families_graph()"
   ]
  },
  {
   "cell_type": "code",
   "execution_count": 163,
   "metadata": {},
   "outputs": [
    {
     "data": {
      "text/plain": [
       "[{'Acciaiuoli',\n",
       "  'Albizzi',\n",
       "  'Barbadori',\n",
       "  'Bischeri',\n",
       "  'Castellani',\n",
       "  'Ginori',\n",
       "  'Guadagni',\n",
       "  'Lamberteschi',\n",
       "  'Medici',\n",
       "  'Pazzi',\n",
       "  'Peruzzi',\n",
       "  'Ridolfi',\n",
       "  'Salviati',\n",
       "  'Strozzi',\n",
       "  'Tornabuoni'}]"
      ]
     },
     "execution_count": 163,
     "metadata": {},
     "output_type": "execute_result"
    }
   ],
   "source": [
    "# The florentine families graph is connected, thus all nodes are in the same connected component.\n",
    "list(nx.connected_components(G))"
   ]
  },
  {
   "cell_type": "code",
   "execution_count": 164,
   "metadata": {},
   "outputs": [
    {
     "name": "stdout",
     "output_type": "stream",
     "text": [
      "Medici: size of the largest connected component = 73.3%\n",
      "Albizzi: size of the largest connected component = 86.7%\n",
      "Salviati: size of the largest connected component = 86.7%\n",
      "Guadagni: size of the largest connected component = 86.7%\n"
     ]
    }
   ],
   "source": [
    "for family in G:\n",
    "    H = G.copy()\n",
    "    H.remove_node(family)\n",
    "    if not nx.is_connected(H):\n",
    "        largest = max(nx.connected_components(H), key=len)\n",
    "        percent = len(largest) / len(G) * 100\n",
    "        print('{}: size of the largest connected component = {:.1f}%'.format(family, percent))"
   ]
  },
  {
   "cell_type": "markdown",
   "metadata": {},
   "source": [
    "For directed graphs we have to distinguish between weakly and strongly connected components:"
   ]
  },
  {
   "cell_type": "code",
   "execution_count": 165,
   "metadata": {},
   "outputs": [
    {
     "data": {
      "image/png": "[encoded data removed]",
      "text/plain": [
       "<Figure size 432x288 with 1 Axes>"
      ]
     },
     "metadata": {},
     "output_type": "display_data"
    }
   ],
   "source": [
    "D = nx.disjoint_union(\n",
    "    nx.tetrahedral_graph(create_using=nx.DiGraph()),\n",
    "    nx.tetrahedral_graph(create_using=nx.DiGraph())\n",
    ")\n",
    "D.add_edge(3, 6)\n",
    "nx.draw(D, with_labels=True)"
   ]
  },
  {
   "cell_type": "code",
   "execution_count": 166,
   "metadata": {},
   "outputs": [
    {
     "data": {
      "text/plain": [
       "[{0, 1, 2, 3, 4, 5, 6, 7}]"
      ]
     },
     "execution_count": 166,
     "metadata": {},
     "output_type": "execute_result"
    }
   ],
   "source": [
    "list(nx.weakly_connected_components(D))"
   ]
  },
  {
   "cell_type": "code",
   "execution_count": 167,
   "metadata": {},
   "outputs": [
    {
     "data": {
      "text/plain": [
       "[{4, 5, 6, 7}, {0, 1, 2, 3}]"
      ]
     },
     "execution_count": 167,
     "metadata": {},
     "output_type": "execute_result"
    }
   ],
   "source": [
    "list(nx.strongly_connected_components(D))"
   ]
  },
  {
   "cell_type": "markdown",
   "metadata": {},
   "source": [
    "#### $k$-components\n",
    "\n",
    "* The removal of a node $v$ from $G$ results in a subgraph $G - v$ that does not contain $v$ nor any of its incident edges.\n",
    "\n",
    "* The **node connectivity** of a graph $G$ is denoted $\\kappa(G)$ and is defined as the minimum number of nodes that must be removed in order to disconnect the graph $G$. Those nodes that must be removed to disconnect $G$ form a **node cut-set**. If it is only necessary to remove one node to disconnect $G$, this node is called an **articulation point**.\n",
    "\n",
    "* We can also define the **local node connectivity** for two nodes $u$ and $v$, denoted $\\kappa_{G}(u,v)$, as the minimum number of nodes that must be removed in order to destroy all paths that join $u$ and $v$ in $G$. Then the **node connectivity** of $G$ is equal to $min{\\{\\kappa_{G}(u,v):u,v \\in V(G)\\}}$.\n",
    "\n",
    "* Similarly, the **edge connectivity** of a graph $G$ is denoted $\\lambda(G)$ and is defined as the minimum number of edges that must be removed in order to disconnect the graph $G$. The edges that must be removed to disconnect $G$ form an **edge cut-set**.\n",
    "\n",
    "* A **$k$-component** is a maximal subgraph of a graph $G$ that has, at least, node connectivity $k$: we need to remove at least $k$ nodes to break it into more components. Notice that $k$-components have an inherent hierarchical structure because they are nested in terms of connectivity: a connected graph can contain several 2-components, each of which can contain one or more tricomponents, and so forth. \n",
    "\n",
    "You can check NetworkX documentation for the functions that deal with [node and edge connectivity](https://networkx.org/documentation/stable/reference/algorithms/connectivity.html?highlight=node%20edge%20connectivity)."
   ]
  },
  {
   "cell_type": "markdown",
   "metadata": {},
   "source": [
    "In the previous section we have seen that only 4 nodes in the florentine families graph disconnect the network when removed. By the definitions above, these nodes are **articulation points** and we can complute them faster than removing all nodes, one by one, and see which of them actually disconnect the network."
   ]
  },
  {
   "cell_type": "code",
   "execution_count": 168,
   "metadata": {},
   "outputs": [
    {
     "data": {
      "text/plain": [
       "{'Albizzi', 'Guadagni', 'Medici', 'Salviati'}"
      ]
     },
     "execution_count": 168,
     "metadata": {},
     "output_type": "execute_result"
    }
   ],
   "source": [
    "G = nx.florentine_families_graph()\n",
    "set(nx.articulation_points(G))"
   ]
  },
  {
   "cell_type": "markdown",
   "metadata": {},
   "source": [
    "When we remove the articulation points from a graph we obtain a set of subgraphs for which we need to remove 2 or more nodes to diconnect them. These are the 2-components or biconnected components. Note that, by convention, dyads are considered biconnected components."
   ]
  },
  {
   "cell_type": "code",
   "execution_count": 169,
   "metadata": {},
   "outputs": [],
   "source": [
    "list_bi_comp=list(nx.biconnected_components(G))"
   ]
  },
  {
   "cell_type": "code",
   "execution_count": 170,
   "metadata": {},
   "outputs": [],
   "source": [
    "# Obtain the largest biconnected component\n",
    "B = max(nx.biconnected_components(G), key=len)\n",
    "#To create the components as subgraphs use: (G.subgraph(c).copy() for c in list_bi_comp)"
   ]
  },
  {
   "cell_type": "markdown",
   "metadata": {},
   "source": [
    "Biconnected components, or 2-components, have node connectivity 2 which means that we need to remove two nodes to disconnect them. You can compute the node connectiviy value of a graph using the function **nx.node_connectivity**"
   ]
  },
  {
   "cell_type": "code",
   "execution_count": 171,
   "metadata": {},
   "outputs": [
    {
     "data": {
      "text/plain": [
       "1"
      ]
     },
     "execution_count": 171,
     "metadata": {},
     "output_type": "execute_result"
    }
   ],
   "source": [
    "nx.node_connectivity(G)"
   ]
  },
  {
   "cell_type": "markdown",
   "metadata": {},
   "source": [
    "In order to compute which two nodes actually disconnect the biconnected component you can use the function **nx.minimum_node_cut** the output of this function is a node cut set, a set of nodes of minimum cardinality that if removed will disconnect the graph."
   ]
  },
  {
   "cell_type": "code",
   "execution_count": 172,
   "metadata": {},
   "outputs": [
    {
     "data": {
      "text/plain": [
       "{'Albizzi'}"
      ]
     },
     "execution_count": 172,
     "metadata": {},
     "output_type": "execute_result"
    }
   ],
   "source": [
    "cut_set= nx.minimum_node_cut(G)\n",
    "cut_set"
   ]
  },
  {
   "cell_type": "code",
   "execution_count": 173,
   "metadata": {},
   "outputs": [
    {
     "data": {
      "text/plain": [
       "False"
      ]
     },
     "execution_count": 173,
     "metadata": {},
     "output_type": "execute_result"
    }
   ],
   "source": [
    "G.remove_nodes_from(cut_set)\n",
    "nx.is_connected(G)"
   ]
  },
  {
   "cell_type": "markdown",
   "metadata": {},
   "source": [
    "In order to compute higher order components, that is, 3-components, 4-components, ... You can use the function **nx.k_components** which returns a dictionary with connectivity levels as keys an list of sets of nodes that form a k-components at each connectivity level.\n",
    "\n",
    "To illustrate this function we'll use the karate club graph because the florentine families graphs only have two levels of connectivity and the karate club graph has four."
   ]
  },
  {
   "cell_type": "code",
   "execution_count": 174,
   "metadata": {},
   "outputs": [
    {
     "data": {
      "image/png": "[encoded data removed]",
      "text/plain": [
       "<Figure size 432x288 with 1 Axes>"
      ]
     },
     "metadata": {},
     "output_type": "display_data"
    }
   ],
   "source": [
    "K = nx.karate_club_graph()\n",
    "nx.draw(K, with_labels=True)"
   ]
  },
  {
   "cell_type": "code",
   "execution_count": 175,
   "metadata": {},
   "outputs": [
    {
     "data": {
      "text/plain": [
       "{4: [{0, 1, 2, 3, 7, 8, 13, 30, 32, 33}],\n",
       " 3: [{0, 1, 2, 3, 7, 8, 13, 19, 23, 24, 25, 27, 28, 29, 30, 31, 32, 33},\n",
       "  {0, 4, 5, 6, 10}],\n",
       " 2: [{0,\n",
       "   1,\n",
       "   2,\n",
       "   3,\n",
       "   7,\n",
       "   8,\n",
       "   9,\n",
       "   12,\n",
       "   13,\n",
       "   14,\n",
       "   15,\n",
       "   17,\n",
       "   18,\n",
       "   19,\n",
       "   20,\n",
       "   21,\n",
       "   22,\n",
       "   23,\n",
       "   24,\n",
       "   25,\n",
       "   26,\n",
       "   27,\n",
       "   28,\n",
       "   29,\n",
       "   30,\n",
       "   31,\n",
       "   32,\n",
       "   33},\n",
       "  {0, 4, 5, 6, 10, 16}],\n",
       " 1: [{0,\n",
       "   1,\n",
       "   2,\n",
       "   3,\n",
       "   4,\n",
       "   5,\n",
       "   6,\n",
       "   7,\n",
       "   8,\n",
       "   9,\n",
       "   10,\n",
       "   11,\n",
       "   12,\n",
       "   13,\n",
       "   14,\n",
       "   15,\n",
       "   16,\n",
       "   17,\n",
       "   18,\n",
       "   19,\n",
       "   20,\n",
       "   21,\n",
       "   22,\n",
       "   23,\n",
       "   24,\n",
       "   25,\n",
       "   26,\n",
       "   27,\n",
       "   28,\n",
       "   29,\n",
       "   30,\n",
       "   31,\n",
       "   32,\n",
       "   33}]}"
      ]
     },
     "execution_count": 175,
     "metadata": {},
     "output_type": "execute_result"
    }
   ],
   "source": [
    "k_components = nx.k_components(K)\n",
    "k_components"
   ]
  },
  {
   "cell_type": "code",
   "execution_count": 176,
   "metadata": {},
   "outputs": [],
   "source": [
    "# Build the subgraph of nodes that form a 4-component\n",
    "K4 = K.subgraph(k_components[4][0])"
   ]
  },
  {
   "cell_type": "code",
   "execution_count": 177,
   "metadata": {},
   "outputs": [
    {
     "data": {
      "text/plain": [
       "4"
      ]
     },
     "execution_count": 177,
     "metadata": {},
     "output_type": "execute_result"
    }
   ],
   "source": [
    "nx.node_connectivity(K4)"
   ]
  },
  {
   "cell_type": "code",
   "execution_count": 178,
   "metadata": {},
   "outputs": [],
   "source": [
    "cut_set = nx.minimum_node_cut(K4)\n",
    "cs=list(cut_set)"
   ]
  },
  {
   "cell_type": "code",
   "execution_count": 179,
   "metadata": {},
   "outputs": [
    {
     "data": {
      "text/plain": [
       "False"
      ]
     },
     "execution_count": 179,
     "metadata": {},
     "output_type": "execute_result"
    }
   ],
   "source": [
    "K.remove_nodes_from(cs)\n",
    "nx.is_connected(K4)"
   ]
  },
  {
   "cell_type": "markdown",
   "metadata": {},
   "source": [
    "#### Cliques\n",
    "A **complete graph** is a graph in which all possible edges are present, so its density is 1. A **clique** is an induced subgraph $G[U]$ formed by a subset of nodes $U \\subseteq V(G)$ if, and only if, the induced subgraph $G[U]$ is a complete graph. Thus, there is an edge that links each pair of nodes in a clique.\n",
    "\n",
    "By convention dyads are considered cliques but they are not very interesting so it's safe to filter them out."
   ]
  },
  {
   "cell_type": "code",
   "execution_count": 180,
   "metadata": {},
   "outputs": [
    {
     "data": {
      "text/plain": [
       "[[0, 1, 19],\n",
       " [0, 1, 17],\n",
       " [0, 1, 3, 13],\n",
       " [0, 1, 3, 7],\n",
       " [0, 1, 21],\n",
       " [0, 4, 10],\n",
       " [0, 4, 6],\n",
       " [0, 5, 10],\n",
       " [0, 5, 6],\n",
       " [0, 12, 3],\n",
       " [32, 23, 29],\n",
       " [16, 5, 6],\n",
       " [24, 25, 31]]"
      ]
     },
     "execution_count": 180,
     "metadata": {},
     "output_type": "execute_result"
    }
   ],
   "source": [
    "cliques = list(nx.find_cliques(K))\n",
    "[clique for clique in cliques if len(clique) > 2]"
   ]
  },
  {
   "cell_type": "code",
   "execution_count": 181,
   "metadata": {},
   "outputs": [
    {
     "data": {
      "text/plain": [
       "1.0"
      ]
     },
     "execution_count": 181,
     "metadata": {},
     "output_type": "execute_result"
    }
   ],
   "source": [
    "clique = K.subgraph([0, 1, 2, 3, 13])\n",
    "nx.density(clique)"
   ]
  },
  {
   "cell_type": "markdown",
   "metadata": {},
   "source": [
    "#### $k$-cores\n",
    "A $k$-core of $G$ is a maximal subgraph in which all nodes have degree greater or equal than $k$; which means that a $k$-core is a maximal subgraph with the property $\\delta \\ge k$. The **core number** of a node is the largest value $k$ of a $k$-core containing that node."
   ]
  },
  {
   "cell_type": "code",
   "execution_count": 182,
   "metadata": {},
   "outputs": [
    {
     "data": {
      "text/plain": [
       "{0: 3,\n",
       " 1: 3,\n",
       " 3: 3,\n",
       " 4: 3,\n",
       " 5: 3,\n",
       " 6: 3,\n",
       " 7: 3,\n",
       " 9: 0,\n",
       " 10: 3,\n",
       " 11: 1,\n",
       " 12: 2,\n",
       " 13: 3,\n",
       " 14: 1,\n",
       " 15: 1,\n",
       " 16: 2,\n",
       " 17: 2,\n",
       " 18: 1,\n",
       " 19: 2,\n",
       " 20: 1,\n",
       " 21: 2,\n",
       " 22: 1,\n",
       " 23: 2,\n",
       " 24: 2,\n",
       " 25: 2,\n",
       " 26: 1,\n",
       " 27: 2,\n",
       " 28: 1,\n",
       " 29: 2,\n",
       " 31: 2,\n",
       " 32: 2}"
      ]
     },
     "execution_count": 182,
     "metadata": {},
     "output_type": "execute_result"
    }
   ],
   "source": [
    "nx.core_number(K)"
   ]
  },
  {
   "cell_type": "markdown",
   "metadata": {},
   "source": [
    "We can obtain the subgraph that forms a k-core using the function **nx.kcore**"
   ]
  },
  {
   "cell_type": "code",
   "execution_count": 183,
   "metadata": {},
   "outputs": [],
   "source": [
    "C3 = nx.k_core(K, 3)"
   ]
  },
  {
   "cell_type": "code",
   "execution_count": 184,
   "metadata": {},
   "outputs": [
    {
     "data": {
      "image/png": "[encoded data removed]",
      "text/plain": [
       "<Figure size 432x288 with 1 Axes>"
      ]
     },
     "metadata": {},
     "output_type": "display_data"
    }
   ],
   "source": [
    "nx.draw(C3, with_labels=True)"
   ]
  },
  {
   "cell_type": "markdown",
   "metadata": {},
   "source": [
    "Note that k-cores, even though all nodes have degree at least k, do not have the connectivity properties of k-components. In this example the 3-core can be disconnected by removing only one node: 0."
   ]
  },
  {
   "cell_type": "code",
   "execution_count": 185,
   "metadata": {},
   "outputs": [
    {
     "data": {
      "text/plain": [
       "1"
      ]
     },
     "execution_count": 185,
     "metadata": {},
     "output_type": "execute_result"
    }
   ],
   "source": [
    "nx.node_connectivity(C3)"
   ]
  },
  {
   "cell_type": "markdown",
   "metadata": {},
   "source": [
    "If we look at the k-components that we computed before we can see that in this 3-core there are actually two distinct 3-components:"
   ]
  },
  {
   "cell_type": "code",
   "execution_count": 186,
   "metadata": {},
   "outputs": [
    {
     "data": {
      "text/plain": [
       "[{0, 1, 2, 3, 7, 8, 13, 19, 23, 24, 25, 27, 28, 29, 30, 31, 32, 33},\n",
       " {0, 4, 5, 6, 10}]"
      ]
     },
     "execution_count": 186,
     "metadata": {},
     "output_type": "execute_result"
    }
   ],
   "source": [
    "k_components[3]"
   ]
  },
  {
   "cell_type": "markdown",
   "metadata": {},
   "source": [
    "### Exercise: Analyze the karate club graph\n",
    "\n",
    "The Karate Club graph we used in the previous exercises is a well-known social network of a university karate club described in \"An Information Flow Model for Conflict and Fission in Small Groups\" paper by Wayne W. Zachary. See [wikipedia](https://en.wikipedia.org/wiki/Zachary%27s_karate_club) for more information.\n",
    "\n",
    "The club suffered a split during Zachary's field work which resulted in two new karate clubs, one managed by the instructor named 'Mr Hi' (node 0) and the other by the administrator named 'the Officer' (node 33).\n",
    "\n",
    "Analyze the centrality metrics of nodes in this graph and see which position have both the instructor and the administrator.\n",
    "\n",
    "In this graph nodes have a node attribute named 'club' with values 'Mr. Hi' or 'Officer' to indicate to which club each member went after the split. Plot the graph using different colors for nodes with different values of the node attribute 'club'."
   ]
  },
  {
   "cell_type": "code",
   "execution_count": 187,
   "metadata": {},
   "outputs": [],
   "source": [
    "K = nx.karate_club_graph()"
   ]
  },
  {
   "cell_type": "code",
   "execution_count": 188,
   "metadata": {},
   "outputs": [],
   "source": [
    "degc = nx.degree_centrality(K)\n",
    "bet = nx.betweenness_centrality(K)\n",
    "clos = nx.closeness_centrality(K)\n",
    "eig = nx.eigenvector_centrality(K)"
   ]
  },
  {
   "cell_type": "code",
   "execution_count": 189,
   "metadata": {},
   "outputs": [
    {
     "data": {
      "text/plain": [
       "[(0, 0.43763528138528146),\n",
       " (33, 0.30407497594997596),\n",
       " (32, 0.145247113997114),\n",
       " (2, 0.14365680615680618),\n",
       " (31, 0.13827561327561325),\n",
       " (8, 0.05592682780182781),\n",
       " (1, 0.053936688311688304),\n",
       " (13, 0.04586339586339586),\n",
       " (19, 0.03247504810004811),\n",
       " (5, 0.02998737373737374),\n",
       " (6, 0.029987373737373736),\n",
       " (27, 0.02233345358345358),\n",
       " (23, 0.017613636363636363),\n",
       " (30, 0.014411976911976909),\n",
       " (3, 0.011909271284271283),\n",
       " (25, 0.0038404882154882154),\n",
       " (29, 0.0029220779220779218),\n",
       " (24, 0.0022095959595959595),\n",
       " (28, 0.0017947330447330447),\n",
       " (9, 0.0008477633477633478),\n",
       " (4, 0.0006313131313131313),\n",
       " (10, 0.0006313131313131313),\n",
       " (7, 0.0),\n",
       " (11, 0.0),\n",
       " (12, 0.0),\n",
       " (14, 0.0),\n",
       " (15, 0.0),\n",
       " (16, 0.0),\n",
       " (17, 0.0),\n",
       " (18, 0.0),\n",
       " (20, 0.0),\n",
       " (21, 0.0),\n",
       " (22, 0.0),\n",
       " (26, 0.0)]"
      ]
     },
     "execution_count": 189,
     "metadata": {},
     "output_type": "execute_result"
    }
   ],
   "source": [
    "sorted(bet.items(), key=itemgetter(1), reverse=True)"
   ]
  },
  {
   "cell_type": "markdown",
   "metadata": {},
   "source": [
    "Note that the instructor (node 0) and the administrator (node 33) are at the top of all centrality measures with very close scores."
   ]
  },
  {
   "cell_type": "code",
   "execution_count": 190,
   "metadata": {},
   "outputs": [],
   "source": [
    "def plot_karate_club_graph():\n",
    "    K = nx.karate_club_graph()\n",
    "    nodes_instructor = {n for n, d in K.nodes(data=True) if d['club']=='Mr. Hi'}\n",
    "    nodes_admin = set(K) - nodes_instructor\n",
    "    pos = nx.fruchterman_reingold_layout(K)\n",
    "    #plot edges\n",
    "    nx.draw_networkx_edges(K, pos)\n",
    "    #plot nodes\n",
    "    nx.draw_networkx_nodes(K, pos, nodelist=nodes_instructor, node_size=400, node_color='green')\n",
    "    nx.draw_networkx_nodes(K, pos, nodelist=nodes_admin, node_size=400, node_color='red')\n",
    "    # plot labels\n",
    "    nx.draw_networkx_labels(G, pos=pos, labels={n: n for n in K})\n",
    "    # remove axes and grid\n",
    "    ax = plt.gca()\n",
    "    ax.set_axis_off()\n",
    "    ax.grid(None)"
   ]
  },
  {
   "cell_type": "code",
   "execution_count": 191,
   "metadata": {},
   "outputs": [
    {
     "data": {
      "image/png": "[encoded data removed]",
      "text/plain": [
       "<Figure size 432x288 with 1 Axes>"
      ]
     },
     "metadata": {},
     "output_type": "display_data"
    }
   ],
   "source": [
    "plot_karate_club_graph()"
   ]
  },
  {
   "cell_type": "markdown",
   "metadata": {},
   "source": [
    "### Multigraphs\n",
    "\n",
    "NetworkX provides classes for graphs with multiple edges\n",
    "between node pairs.  The **MultiGraph** and\n",
    "**MultiDiGraph**\n",
    "classes allow addition of the same edge twice, possibly with different\n",
    "edge data. NetworkX provides some functions for well defined results,\n",
    "e.g., **MultiGraph.degree()**."
   ]
  },
  {
   "cell_type": "code",
   "execution_count": 192,
   "metadata": {},
   "outputs": [
    {
     "data": {
      "text/plain": [
       "{1: 1.35, 2: 2.1, 3: 0.75}"
      ]
     },
     "execution_count": 192,
     "metadata": {},
     "output_type": "execute_result"
    }
   ],
   "source": [
    "MG = nx.MultiGraph()\n",
    "MG.add_weighted_edges_from([(1, 2, 0.75), (1, 2, 0.6), (2, 3, 0.75)])\n",
    "dict(MG.degree(weight='weight'))"
   ]
  },
  {
   "cell_type": "code",
   "execution_count": 193,
   "metadata": {},
   "outputs": [
    {
     "data": {
      "text/plain": [
       "[1, 2, 3]"
      ]
     },
     "execution_count": 193,
     "metadata": {},
     "output_type": "execute_result"
    }
   ],
   "source": [
    "GG = nx.Graph()\n",
    "for n, nbrs in MG.adjacency():\n",
    "   for nbr, edict in nbrs.items():\n",
    "       minvalue = min([d['weight'] for d in edict.values()])\n",
    "       GG.add_edge(n, nbr, weight = minvalue)\n",
    "\n",
    "nx.shortest_path(GG, 1, 3)"
   ]
  }
 ],
 "metadata": {
  "kernelspec": {
   "display_name": "Python 3",
   "language": "python",
   "name": "python3"
  },
  "language_info": {
   "codemirror_mode": {
    "name": "ipython",
    "version": 3
   },
   "file_extension": ".py",
   "mimetype": "text/x-python",
   "name": "python",
   "nbconvert_exporter": "python",
   "pygments_lexer": "ipython3",
   "version": "3.8.8"
  }
 },
 "nbformat": 4,
 "nbformat_minor": 1
}
