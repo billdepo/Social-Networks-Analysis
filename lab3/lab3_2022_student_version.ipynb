{
 "cells": [
  {
   "cell_type": "markdown",
   "id": "1f35580e",
   "metadata": {},
   "source": [
    "<html><font size=6><B>3η εργαστηριακή άσκηση</B><BR>\n",
    "    <BR><B>Link prediction - Πρόβλεψη συνδέσμων</B></BR>\n",
    "    </font></html>"
   ]
  },
  {
   "cell_type": "markdown",
   "id": "b30af479",
   "metadata": {},
   "source": [
    "<html><font size=4><B>1. Κατασκευή γράφου και προεργασία για την πρόβλεψη συνδέσμων</B></font>\n",
    "    <li><B>1(i).</B> Χρησιμοποιήστε το dataset <a href=\"http://konect.cc/networks/dbpedia-similar/\"> Similarities (DBpedia)</a>, για να κατασκευάσετε τον μη κατευθυνόμενο (undirected) γράφο $G$ <a href=\"https://dl.acm.org/doi/10.1145/2487788.2488173\">[1]</a>,<a href=\"https://link.springer.com/chapter/10.1007/978-3-540-76298-0_52\">[2]</a>. Οι κόμβοι του γράφου αναπαριστούν σελίδες της Wikipedia και οι ακμές σχέση ομοιότητας μεταξύ τους. Στην σελίδα <a href=\"http://konect.cc/networks/dbpedia-similar/\"> KONECT (DBpedia)</a> μπορείτε να βρείτε πληροφορίες για τις ιδιότητες του γράφου.</a><BR>\n",
    "        <B><U>Υπόδειξη:</U></B> Μπορείτε να ελέγξετε προγραμματιστικά αν το dataset περιέχει διπλότυπα των ακμών με την ίδια ή αντίστροφη σειρά (π.χ. ακμές (a,b) και (b,a)), και να λάβετε υπ' όψιν σας αυτήν σας την παρατήρηση, όπου τυχόν χρειαστεί, στην ερώτηση 2.<BR></html>"
   ]
  },
  {
   "cell_type": "markdown",
   "id": "4bd79bac",
   "metadata": {},
   "source": [
    " <li><B>1(ii).</B> Εμφανίστε τον αριθμό των κόμβων, τον αριθμό των ακμών, τον μέσο βαθμό των κόμβων και τον αριθμό των συνεκτικών συνιστωσών (connected components) για τον γράφο $G$.</li><BR>"
   ]
  },
  {
   "cell_type": "code",
   "execution_count": 4,
   "id": "995aa466",
   "metadata": {},
   "outputs": [],
   "source": [
    "import networkx as nx\n",
    "import pandas as pd\n",
    "import numpy as np"
   ]
  },
  {
   "cell_type": "code",
   "execution_count": 5,
   "id": "38ce043a",
   "metadata": {},
   "outputs": [],
   "source": [
    "G: nx.Graph = nx.read_edgelist('dbpedia-similar/out.dbpedia-similar', comments='%')\n",
    "G.graph['name'] = 'DBpedia Similarities'"
   ]
  },
  {
   "cell_type": "code",
   "execution_count": 6,
   "id": "c050bcf4",
   "metadata": {},
   "outputs": [
    {
     "name": "stdout",
     "output_type": "stream",
     "text": [
      "Number of self loops removed: 1. Edges removed: {('420', '420')}\n"
     ]
    }
   ],
   "source": [
    "# remove self loops\n",
    "self_loops = nx.selfloop_edges(G)\n",
    "self_loops_set = set(self_loops)\n",
    "print(f\"Number of self loops removed: {len(self_loops_set)}. Edges removed: {self_loops_set}\")\n",
    "G.remove_edges_from(self_loops_set)\n"
   ]
  },
  {
   "cell_type": "code",
   "execution_count": 7,
   "id": "9277a4e2",
   "metadata": {},
   "outputs": [
    {
     "name": "stdout",
     "output_type": "stream",
     "text": [
      "Graph: DBpedia Similarities\n",
      "Initial node count: 430\n",
      "Initial edge count: 564\n",
      "Initial average node degree: 2.623\n",
      "Initial number of connected components: 95\n"
     ]
    }
   ],
   "source": [
    "def average_degree(G: nx.Graph):\n",
    "    sum_of_node_degrees = sum([v for k,v in G.degree()])\n",
    "    node_count = G.number_of_nodes()\n",
    "    avg_degree = sum_of_node_degrees/node_count\n",
    "    return avg_degree\n",
    "\n",
    "initial_node_count = G.number_of_nodes()\n",
    "initial_edge_count = nx.number_of_edges(G)\n",
    "initial_avg_node_degree = average_degree(G)\n",
    "initial_connected_components = nx.number_connected_components(G)\n",
    "\n",
    "print(f\"Graph: {G.graph['name']}\")\n",
    "print(f\"Initial node count: {initial_node_count}\")\n",
    "print(f\"Initial edge count: {initial_edge_count}\")\n",
    "print(f\"Initial average node degree: {initial_avg_node_degree:.3f}\")\n",
    "print(f\"Initial number of connected components: {initial_connected_components}\")"
   ]
  },
  {
   "cell_type": "markdown",
   "id": "bf03f6b9",
   "metadata": {},
   "source": [
    "<li><B>1(iii). </B>Υπολογίστε το σύνολο των ασύνδετων ζευγών κόμβων (unconnected pairs) στον γράφο χρησιμοποιώντας τον πίνακα γειτνίασης (adjacency matrix). Δώστε επίσης τον αριθμό τους. Λάβετε υπ' όψιν σας ότι ο γράφος είναι μη κατευθυνόμενος και δεν χρειάζεται να διατρέξετε ολόκληρο τον πίνακα γειτνίασης.</li><BR>"
   ]
  },
  {
   "cell_type": "code",
   "execution_count": 8,
   "id": "68321037",
   "metadata": {},
   "outputs": [],
   "source": [
    "# since graph is undirected, it is symmetrical therefore we just need to check half of the matrix.\n",
    "# also the diagonal has 0s, since there are no self-loops (one existed initially and was removed)\n",
    "\n",
    "adj_matrix: np.matrix = nx.to_numpy_matrix(G)\n",
    "\n",
    "lower_matrix: np.ndarray = np.tril(adj_matrix)"
   ]
  },
  {
   "cell_type": "code",
   "execution_count": 9,
   "id": "dbf99e48",
   "metadata": {},
   "outputs": [
    {
     "name": "stdout",
     "output_type": "stream",
     "text": [
      "Number of unconnected pairs: 91671\n"
     ]
    }
   ],
   "source": [
    "xs_array, ys_array = np.where(lower_matrix == 0)\n",
    "unconnected_pairs_idxs = list(zip(xs_array, ys_array))\n",
    "unconnected_pairs_idxs = [(x,y) for x,y in unconnected_pairs_idxs if (y<x)] # filter out the diagonal elements and everything above the diagonal\n",
    "nodes = np.array(list(G.nodes))\n",
    "unconnected_pairs_u = nodes[[x for x, _ in unconnected_pairs_idxs]]\n",
    "unconnected_pairs_v = nodes[[y for _, y in unconnected_pairs_idxs]]\n",
    "unconnected_pairs = set(zip(unconnected_pairs_u, unconnected_pairs_v))\n",
    "num_of_unconnected_pairs = len(unconnected_pairs)\n",
    "print(f\"Number of unconnected pairs: {num_of_unconnected_pairs}\")\n"
   ]
  },
  {
   "cell_type": "markdown",
   "id": "154c2a8d",
   "metadata": {},
   "source": [
    "<li><B>1(iv).</B> Υπολογίστε το σύνολο των ακμών (removable edges) που μπορούν να αφαιρεθούν από τον γράφο χωρίς να υπάρχει κατάτμηση (splitting) του γράφου (δηλ. ο αριθμός των συνεκτικών συνιστωσών θα πρέπει να παραμένει αμετάβλητος). Υπόδειξη: Ελέγχετε επίσης ότι με αφαίρεση ακμής δεν μειώνεται ο αριθμός των κόμβων (εφόσον δεν υπάρχει ξεχωριστό αρχείο μόνο με κόμβους στο dataset). Δώστε επίσης τον αριθμό των ακμών (removable edges) που μπορούν να αφαιρεθούν υπό αυτές τις προϋποθέσεις.</li><BR>"
   ]
  },
  {
   "cell_type": "code",
   "execution_count": 10,
   "id": "60c25ef1",
   "metadata": {},
   "outputs": [],
   "source": [
    "def graph_edge_remove(G: nx.Graph, edge_to_remove: tuple) -> nx.Graph:\n",
    "    G.remove_edge(*edge_to_remove)\n",
    "    return G\n",
    "\n",
    "def graph_edge_add(G: nx.Graph, edge_to_add: tuple) -> nx.Graph:\n",
    "    G.add_edge(*edge_to_add)\n",
    "    return G"
   ]
  },
  {
   "cell_type": "code",
   "execution_count": 11,
   "id": "d9d39447",
   "metadata": {},
   "outputs": [
    {
     "name": "stdout",
     "output_type": "stream",
     "text": [
      "The number of removable edges of the graph are: 229\n"
     ]
    }
   ],
   "source": [
    "removable_edges = set()\n",
    "\n",
    "G_removed_edges: nx.Graph = G.copy()\n",
    "\n",
    "for edge in G.edges:\n",
    "    graph_edge_remove(G_removed_edges, edge)\n",
    "    new_conn_components = nx.number_connected_components(G_removed_edges)\n",
    "    new_G_nodes = G_removed_edges.number_of_nodes()\n",
    "    if (new_G_nodes == initial_node_count) and (new_conn_components == initial_connected_components):\n",
    "        removable_edges.add(edge)\n",
    "\n",
    "    else:\n",
    "        graph_edge_add(G_removed_edges, edge)\n",
    "\n",
    "print(f\"The number of removable edges of the graph are: {len(removable_edges)}\")    "
   ]
  },
  {
   "cell_type": "markdown",
   "id": "eb03d745",
   "metadata": {},
   "source": [
    "<li><B>1(vα).</B> Κατασκευάστε dataframe που συνενώνει τις απαντήσεις των ερωτημάτων 1(iii) και 1(iv) (unconnected+removables). Χρησιμοποιήστε την μεταβλητή $link$ που θα παίρνει τιμή 1 ή 0 ανάλογα με την ύπαρξη συνδέσμου ή μη. To dataframe αυτό συγκεντρώνει τα θετικά και αρνητικά δείγματα για την πρόβλεψη των μελλοντικών συνδέσεων (link: target variable). <BR>\n",
    "    <li><B>1(vβ).</B> Κατασκευάστε τον γράφο $G'$ που προκύπτει από την αφαίρεση από τον γράφο $G$ των ακμών του ερωτήματος 1(iv). <BR>\n",
    "    <li><B>1(vγ).</B> Εμφανίστε τον αριθμό των κόμβων, τον αριθμό των ακμών, τον μέσο βαθμό των κόμβων και τον αριθμό των συνεκτικών συνιστωσών (connected components) για τον γράφο $G'$.</li><BR>"
   ]
  },
  {
   "cell_type": "code",
   "execution_count": 12,
   "id": "58ad703c",
   "metadata": {},
   "outputs": [],
   "source": [
    "df = pd.DataFrame({\n",
    "    'Edge': list(removable_edges) + list(unconnected_pairs),\n",
    "    'Link': [1] * len(removable_edges) + [0] * len(unconnected_pairs)\n",
    "    }\n",
    ")"
   ]
  },
  {
   "cell_type": "code",
   "execution_count": 13,
   "id": "93d971b8",
   "metadata": {},
   "outputs": [
    {
     "data": {
      "text/html": [
       "<div>\n",
       "<style scoped>\n",
       "    .dataframe tbody tr th:only-of-type {\n",
       "        vertical-align: middle;\n",
       "    }\n",
       "\n",
       "    .dataframe tbody tr th {\n",
       "        vertical-align: top;\n",
       "    }\n",
       "\n",
       "    .dataframe thead th {\n",
       "        text-align: right;\n",
       "    }\n",
       "</style>\n",
       "<table border=\"1\" class=\"dataframe\">\n",
       "  <thead>\n",
       "    <tr style=\"text-align: right;\">\n",
       "      <th></th>\n",
       "      <th>Edge</th>\n",
       "      <th>Link</th>\n",
       "    </tr>\n",
       "  </thead>\n",
       "  <tbody>\n",
       "    <tr>\n",
       "      <th>0</th>\n",
       "      <td>(343, 344)</td>\n",
       "      <td>1</td>\n",
       "    </tr>\n",
       "    <tr>\n",
       "      <th>1</th>\n",
       "      <td>(32, 21)</td>\n",
       "      <td>1</td>\n",
       "    </tr>\n",
       "    <tr>\n",
       "      <th>2</th>\n",
       "      <td>(338, 341)</td>\n",
       "      <td>1</td>\n",
       "    </tr>\n",
       "    <tr>\n",
       "      <th>3</th>\n",
       "      <td>(19, 20)</td>\n",
       "      <td>1</td>\n",
       "    </tr>\n",
       "    <tr>\n",
       "      <th>4</th>\n",
       "      <td>(68, 93)</td>\n",
       "      <td>1</td>\n",
       "    </tr>\n",
       "  </tbody>\n",
       "</table>\n",
       "</div>"
      ],
      "text/plain": [
       "         Edge  Link\n",
       "0  (343, 344)     1\n",
       "1    (32, 21)     1\n",
       "2  (338, 341)     1\n",
       "3    (19, 20)     1\n",
       "4    (68, 93)     1"
      ]
     },
     "execution_count": 13,
     "metadata": {},
     "output_type": "execute_result"
    }
   ],
   "source": [
    "df.head()"
   ]
  },
  {
   "cell_type": "code",
   "execution_count": 14,
   "id": "6ce80076",
   "metadata": {},
   "outputs": [],
   "source": [
    "G_reduced = G.copy()\n",
    "G_reduced.graph['name'] = f\"{G.graph['name']} reduced\"\n",
    "G_reduced.remove_edges_from(removable_edges)"
   ]
  },
  {
   "cell_type": "code",
   "execution_count": 15,
   "id": "b9ba47ea",
   "metadata": {},
   "outputs": [
    {
     "name": "stdout",
     "output_type": "stream",
     "text": [
      "Graph: DBpedia Similarities reduced\n",
      "Node count: 430\n",
      "Edge count: 335\n",
      "Average node degree: 1.558\n",
      "Number of connected components: 95\n"
     ]
    }
   ],
   "source": [
    "G_reduced_node_count = G_reduced.number_of_nodes()\n",
    "G_reduced_edge_count = nx.number_of_edges(G_reduced)\n",
    "G_reduced_avg_node_degree = average_degree(G_reduced)\n",
    "G_reduced_connected_components = nx.number_connected_components(G_reduced)\n",
    "\n",
    "print(f\"Graph: {G_reduced.graph['name']}\")\n",
    "print(f\"Node count: {G_reduced_node_count}\")\n",
    "print(f\"Edge count: {G_reduced_edge_count}\")\n",
    "print(f\"Average node degree: {G_reduced_avg_node_degree:.3f}\")\n",
    "print(f\"Number of connected components: {G_reduced_connected_components}\")"
   ]
  },
  {
   "attachments": {},
   "cell_type": "markdown",
   "id": "184eae57",
   "metadata": {},
   "source": [
    "   # Εισαγωγή σε similarity-based μετρικές για Link prediction\n",
    " - Η μετρική Jaccard Coefficient (JC) των κόμβων $u$ και $v$ ορίζεται ως $\\frac{|\\Gamma(u) \\cap \\Gamma(v)|}{|\\Gamma(u) \\cup \\Gamma(v)|}$, όπου ${\\Gamma(u)}$ είναι το σύνολο των γειτονικών κόμβων του κόμβου ${u}$.  \n",
    "- Η μετρική Preferential Αttachment (PA) των κόμβων $u$ και $v$ ορίζεται ως $|\\Gamma(u)| |\\Gamma(v)|$, όπου $\\Gamma(u)$ είναι το σύνολο των γειτονικών κόμβων του $u$.\n",
    "- Η μετρική Resource Allocation (RA) των κόμβων $u$ και $v$ ορίζεται ως $\\sum_{w \\in \\Gamma(u) \\cap \\Gamma(v)} \\frac{1}{|\\Gamma(w)|}$, όπου $\\Gamma(u)$ είναι το σύνολο των γειτονικών κόμβων του $u$.\n",
    "\n",
    "2(i). Για τον γράφο $G'$, που κατασκευάσατε στο ερώτημα 1(vβ), υπολογίστε την μετρική <B>Jaccard Coefficient (JC)</B>.  <a href=\"https://networkx.org/documentation/stable/reference/algorithms/link_prediction.html?highlight=link%20prediction\">Χρησιμοποιήστε την υλοποιημένη συνάρτηση του λογισμικού NetworkX.</a>\n",
    "\n",
    "2(ii). Δώστε τις $k$ ακμές με την υψηλότερη τιμή μετρικής $JC$, όπου $k$ ο $Α.Μ.$ σας $mod$ $10$. Για $Α.Μ.$ λήγοντα σε $0$ δώστε τις $10$ ακμές με την υψηλότερη τιμή μετρικής.\n",
    "\n",
    "(Για την σύγκριση μεταξύ διαφορετικών μετρικών προτιμάται η εύρεση των $k$ επικρατέστερων συνδέσμων, αφού οι μετρικές επιστρέφουν διαφορετικό εύρος τιμών.)\n",
    "\n",
    "2(iii). Προσδιορίστε για την μέτρηση της απόδοσης της μετρικής $JC$ τα μεγέθη $Precision$, $Recall$ και $Accuracy$ και αναπαραστήστε τα γραφικά για τιμές κατωφλίου: $0.1$, $0.15$, $0.25$, $0.5$, $1.0$.  <BR><BR>\n",
    "    $Precision=\\frac{TP}{TP+FP}$, όπου $TP$: αληθώς θετικά αποτελέσματα, $FP$: ψευδώς θετικά αποτελέσματα <BR>\n",
    "    $Recall=\\frac{TP}{TP+FN}$, όπου $TP$: αληθώς θετικά αποτελέσματα, $FN$: ψευδώς αρνητικά αποτελέσματα</li> \n",
    "    $Accuracy=\\frac{TP+TN}{TP+FN+TN+FP}$, όπου $TP$: αληθώς θετικά αποτελέσματα, $TN$: αληθώς αρνητικά αποτελέσματα, $FN$: ψευδώς αρνητικά αποτελέσματα, $FP$: ψευδώς θετικά αποτελέσματα</li><BR><BR>\n",
    "        <B><U>Υπόδειξη:</U></B>\n",
    "        Θετικό θεωρήστε ένα αποτέλεσμα, αν η μετρική $JC$ υπερβαίνει μια τιμή κατωφλίου (>=). Αρνητικό θεωρήστε το στην αντίθετη περίπτωση.\n",
    "        <li>Αληθώς θετικά είναι τα αποτελέσματα που βγήκαν θετικά (η τιμή της $JC$ υπερβαίνει την τιμή κατωφλίου) και πράγματι θα υπάρξουν οι συνδέσεις που περιγράφουν (ερ. 1(iv)).</li>\n",
    "        <li>Αληθώς αρνητικά είναι τα αποτελέσματα που βγήκαν αρνητικά και πράγματι δεν θα υπάρξουν οι συνδέσεις που περιγράφουν (ερ. 1(iii)).</li>\n",
    "        <li>Ψευδώς θετικά είναι τα αποτελέσματα που βγήκαν θετικά, ενώ δεν θα υπάρξουν οι συνδέσεις που περιγράφουν.</li>\n",
    "        <li>Ψευδώς αρνητικά είναι τα αποτελέσματα που βγήκαν αρνητικά, ενώ θα υπάρξουν οι συνδέσεις που περιγράφουν.</li>\n",
    "        <li>Το άθροισμα $TN+FP$ πρέπει κάθε φορά να σας δίνει όλες τις ασύνδετες ακμές του γράφου $G$.</li>   \n",
    "<li>Από το ερώτημα 1(iii) οι ακμές που υπολογίσατε είναι αυτές για τις οποίες δεν θα υπάρξουν συνδέσεις.</li> <li>Από το ερώτημα 1(iv) οι ακμές που υπολογίσατε είναι αυτές για τις οποίες θα υπάρξουν συνδέσεις.</li><BR></html>"
   ]
  },
  {
   "cell_type": "code",
   "execution_count": 16,
   "id": "97e9b464",
   "metadata": {},
   "outputs": [
    {
     "name": "stdout",
     "output_type": "stream",
     "text": [
      "The 1 edge(s) with the largest jaccard coefficient is/are:\n",
      "Edge: (385,386), JC: 1.0\n"
     ]
    }
   ],
   "source": [
    "k = 3400131 % 10  # k=1 for the selected student number\n",
    "jc = nx.jaccard_coefficient(G_reduced)\n",
    "jc_sorted = sorted(jc, key=lambda x: -x[2])\n",
    "jc_for_k = jc_sorted[:k]\n",
    "print(f\"The {k} edge(s) with the largest jaccard coefficient is/are:\")\n",
    "for item in jc_for_k:\n",
    "    print(f\"Edge: ({item[0]},{item[1]}), JC: {item[-1]}\")"
   ]
  },
  {
   "cell_type": "code",
   "execution_count": 17,
   "id": "01779ac4",
   "metadata": {},
   "outputs": [
    {
     "ename": "KeyError",
     "evalue": "0",
     "output_type": "error",
     "traceback": [
      "\u001B[1;31m---------------------------------------------------------------------------\u001B[0m",
      "\u001B[1;31mKeyError\u001B[0m                                  Traceback (most recent call last)",
      "File \u001B[1;32mc:\\Users\\User\\Downloads\\DSML MsC\\1st semester\\Ανάλυση Κοινωνικών Δικτύων - Social Networks\\Εργαστηριακές Ασκήσεις\\2022\\Social-Networks-Analysis\\venv\\lib\\site-packages\\pandas\\core\\indexes\\base.py:3803\u001B[0m, in \u001B[0;36mIndex.get_loc\u001B[1;34m(self, key, method, tolerance)\u001B[0m\n\u001B[0;32m   3802\u001B[0m \u001B[39mtry\u001B[39;00m:\n\u001B[1;32m-> 3803\u001B[0m     \u001B[39mreturn\u001B[39;00m \u001B[39mself\u001B[39;49m\u001B[39m.\u001B[39;49m_engine\u001B[39m.\u001B[39;49mget_loc(casted_key)\n\u001B[0;32m   3804\u001B[0m \u001B[39mexcept\u001B[39;00m \u001B[39mKeyError\u001B[39;00m \u001B[39mas\u001B[39;00m err:\n",
      "File \u001B[1;32mc:\\Users\\User\\Downloads\\DSML MsC\\1st semester\\Ανάλυση Κοινωνικών Δικτύων - Social Networks\\Εργαστηριακές Ασκήσεις\\2022\\Social-Networks-Analysis\\venv\\lib\\site-packages\\pandas\\_libs\\index.pyx:138\u001B[0m, in \u001B[0;36mpandas._libs.index.IndexEngine.get_loc\u001B[1;34m()\u001B[0m\n",
      "File \u001B[1;32mc:\\Users\\User\\Downloads\\DSML MsC\\1st semester\\Ανάλυση Κοινωνικών Δικτύων - Social Networks\\Εργαστηριακές Ασκήσεις\\2022\\Social-Networks-Analysis\\venv\\lib\\site-packages\\pandas\\_libs\\index.pyx:165\u001B[0m, in \u001B[0;36mpandas._libs.index.IndexEngine.get_loc\u001B[1;34m()\u001B[0m\n",
      "File \u001B[1;32mpandas\\_libs\\hashtable_class_helper.pxi:2263\u001B[0m, in \u001B[0;36mpandas._libs.hashtable.Int64HashTable.get_item\u001B[1;34m()\u001B[0m\n",
      "File \u001B[1;32mpandas\\_libs\\hashtable_class_helper.pxi:2273\u001B[0m, in \u001B[0;36mpandas._libs.hashtable.Int64HashTable.get_item\u001B[1;34m()\u001B[0m\n",
      "\u001B[1;31mKeyError\u001B[0m: 0",
      "\nThe above exception was the direct cause of the following exception:\n",
      "\u001B[1;31mKeyError\u001B[0m                                  Traceback (most recent call last)",
      "Cell \u001B[1;32mIn [17], line 1\u001B[0m\n\u001B[1;32m----> 1\u001B[0m df[df[\u001B[39m'\u001B[39;49m\u001B[39mEdge\u001B[39;49m\u001B[39m'\u001B[39;49m] \u001B[39m==\u001B[39;49m (\u001B[39m'\u001B[39;49m\u001B[39m105\u001B[39;49m\u001B[39m'\u001B[39;49m, \u001B[39m'\u001B[39;49m\u001B[39m110\u001B[39;49m\u001B[39m'\u001B[39;49m)][\u001B[39m'\u001B[39;49m\u001B[39mLink\u001B[39;49m\u001B[39m'\u001B[39;49m][\u001B[39m0\u001B[39;49m] \u001B[39m==\u001B[39m \u001B[39m1\u001B[39m\n",
      "File \u001B[1;32mc:\\Users\\User\\Downloads\\DSML MsC\\1st semester\\Ανάλυση Κοινωνικών Δικτύων - Social Networks\\Εργαστηριακές Ασκήσεις\\2022\\Social-Networks-Analysis\\venv\\lib\\site-packages\\pandas\\core\\series.py:981\u001B[0m, in \u001B[0;36mSeries.__getitem__\u001B[1;34m(self, key)\u001B[0m\n\u001B[0;32m    978\u001B[0m     \u001B[39mreturn\u001B[39;00m \u001B[39mself\u001B[39m\u001B[39m.\u001B[39m_values[key]\n\u001B[0;32m    980\u001B[0m \u001B[39melif\u001B[39;00m key_is_scalar:\n\u001B[1;32m--> 981\u001B[0m     \u001B[39mreturn\u001B[39;00m \u001B[39mself\u001B[39;49m\u001B[39m.\u001B[39;49m_get_value(key)\n\u001B[0;32m    983\u001B[0m \u001B[39mif\u001B[39;00m is_hashable(key):\n\u001B[0;32m    984\u001B[0m     \u001B[39m# Otherwise index.get_value will raise InvalidIndexError\u001B[39;00m\n\u001B[0;32m    985\u001B[0m     \u001B[39mtry\u001B[39;00m:\n\u001B[0;32m    986\u001B[0m         \u001B[39m# For labels that don't resolve as scalars like tuples and frozensets\u001B[39;00m\n",
      "File \u001B[1;32mc:\\Users\\User\\Downloads\\DSML MsC\\1st semester\\Ανάλυση Κοινωνικών Δικτύων - Social Networks\\Εργαστηριακές Ασκήσεις\\2022\\Social-Networks-Analysis\\venv\\lib\\site-packages\\pandas\\core\\series.py:1089\u001B[0m, in \u001B[0;36mSeries._get_value\u001B[1;34m(self, label, takeable)\u001B[0m\n\u001B[0;32m   1086\u001B[0m     \u001B[39mreturn\u001B[39;00m \u001B[39mself\u001B[39m\u001B[39m.\u001B[39m_values[label]\n\u001B[0;32m   1088\u001B[0m \u001B[39m# Similar to Index.get_value, but we do not fall back to positional\u001B[39;00m\n\u001B[1;32m-> 1089\u001B[0m loc \u001B[39m=\u001B[39m \u001B[39mself\u001B[39;49m\u001B[39m.\u001B[39;49mindex\u001B[39m.\u001B[39;49mget_loc(label)\n\u001B[0;32m   1090\u001B[0m \u001B[39mreturn\u001B[39;00m \u001B[39mself\u001B[39m\u001B[39m.\u001B[39mindex\u001B[39m.\u001B[39m_get_values_for_loc(\u001B[39mself\u001B[39m, loc, label)\n",
      "File \u001B[1;32mc:\\Users\\User\\Downloads\\DSML MsC\\1st semester\\Ανάλυση Κοινωνικών Δικτύων - Social Networks\\Εργαστηριακές Ασκήσεις\\2022\\Social-Networks-Analysis\\venv\\lib\\site-packages\\pandas\\core\\indexes\\base.py:3805\u001B[0m, in \u001B[0;36mIndex.get_loc\u001B[1;34m(self, key, method, tolerance)\u001B[0m\n\u001B[0;32m   3803\u001B[0m     \u001B[39mreturn\u001B[39;00m \u001B[39mself\u001B[39m\u001B[39m.\u001B[39m_engine\u001B[39m.\u001B[39mget_loc(casted_key)\n\u001B[0;32m   3804\u001B[0m \u001B[39mexcept\u001B[39;00m \u001B[39mKeyError\u001B[39;00m \u001B[39mas\u001B[39;00m err:\n\u001B[1;32m-> 3805\u001B[0m     \u001B[39mraise\u001B[39;00m \u001B[39mKeyError\u001B[39;00m(key) \u001B[39mfrom\u001B[39;00m \u001B[39merr\u001B[39;00m\n\u001B[0;32m   3806\u001B[0m \u001B[39mexcept\u001B[39;00m \u001B[39mTypeError\u001B[39;00m:\n\u001B[0;32m   3807\u001B[0m     \u001B[39m# If we have a listlike key, _check_indexing_error will raise\u001B[39;00m\n\u001B[0;32m   3808\u001B[0m     \u001B[39m#  InvalidIndexError. Otherwise we fall through and re-raise\u001B[39;00m\n\u001B[0;32m   3809\u001B[0m     \u001B[39m#  the TypeError.\u001B[39;00m\n\u001B[0;32m   3810\u001B[0m     \u001B[39mself\u001B[39m\u001B[39m.\u001B[39m_check_indexing_error(key)\n",
      "\u001B[1;31mKeyError\u001B[0m: 0"
     ]
    }
   ],
   "source": [
    "df[df['Edge'] == ('105', '110')]['Link'][0] == 1"
   ]
  },
  {
   "cell_type": "code",
   "execution_count": null,
   "id": "322f7fc7",
   "metadata": {},
   "outputs": [],
   "source": [
    "\n",
    "def JCfunction(G, threshold_jc):\n",
    "    ebunch_edges = list(map(lambda x: (x[0], x[1]), df['Edge']))\n",
    "    jc = nx.jaccard_coefficient(G, ebunch_edges)\n",
    "\n",
    "    true_links, pred_links = [], []\n",
    "    for u, v, jcoef in jc:\n",
    "        pred_link = jcoef >= threshold_jc\n",
    "        pred_links.append(pred_link)\n",
    "\n",
    "    true_links = list(df['Link'])\n",
    "\n",
    "    TP, TN, FP, FN = 0, 0, 0, 0\n",
    "    \n",
    "    for i, truth in enumerate(true_links):\n",
    "        if truth == 1 and truth == pred_links[i]:\n",
    "            TP += 1\n",
    "        elif truth == 0 and truth == pred_links[i]:\n",
    "            TN += 1\n",
    "        elif truth == 1 and truth != pred_links[i]:\n",
    "            FN += 1\n",
    "        else:\n",
    "            FP += 1\n",
    "\n",
    "    precision_jc = TP / (TP + FP)\n",
    "    recall_jc = TP / (TP + FN)\n",
    "    accuracy_jc = (TP + TN) / (TP + FP + TN + FN)\n",
    "\n",
    "    return recall_jc, precision_jc, accuracy_jc"
   ]
  },
  {
   "cell_type": "code",
   "execution_count": null,
   "id": "7cefd123",
   "metadata": {},
   "outputs": [],
   "source": [
    "thr_range = (0.1, 0.15, 0.25, 0.5, 1.0)\n",
    "pr, rc, acc = [], [], []\n",
    "print('Jaccard coefficients - Link prediction')\n",
    "for jc_threshold in thr_range:\n",
    "    print(f'Threshold: {jc_threshold}')\n",
    "    recall, precision, accuracy = JCfunction(G_reduced, jc_threshold)\n",
    "    pr.append(precision)\n",
    "    rc.append(recall)\n",
    "    acc.append(accuracy)\n",
    "    print(f'\\tPrecision: {round(precision, 3)}\\n\\tRecall: {round(recall, 3)}\\n\\tAccuracy: {round(accuracy, 3)}')"
   ]
  },
  {
   "cell_type": "code",
   "execution_count": null,
   "id": "b37f3410",
   "metadata": {},
   "outputs": [],
   "source": [
    "import matplotlib.pyplot as plt\n",
    "\n",
    "plt.plot(thr_range, pr, label='Precision')\n",
    "plt.plot(thr_range, rc, label='Recall')\n",
    "plt.plot(thr_range, acc, label='Accuracy')\n",
    "plt.legend()\n",
    "plt.show()"
   ]
  },
  {
   "attachments": {},
   "cell_type": "markdown",
   "id": "76b558d0",
   "metadata": {},
   "source": [
    "From the printed results and the plot, we can get to the conclusion that the accuracy metric is close to the value of 1 regardless of the selection of jaccard coefficient threshold. This is largely due to the imbalanced nature of the two classes (linked and no linked), where the majority of the nodes are not linked together (no edge exists). Therefore, precision and recall seem to be a better fit as metrics for the given task. \n",
    "\n",
    "From the plot, the tradeoff between precision and recall can be clearly observed. For low thresholds, precision is low, which means that there are a lot of FP (false positives), i.e. given that the threshold is low, several edges are classified as linked, where in reality they aren't linked. At the same time, recall is larger compared to other threshold values, which means that FN (false negatives) are low, i.e. since most of the edges are classified/predicted as Positive (linked), then the number of wrong predictions of the Negative (no link) class, is lower.\n",
    "\n",
    "The conclusions for higher values of the threshold are similar. "
   ]
  },
  {
   "cell_type": "markdown",
   "id": "d432396f",
   "metadata": {},
   "source": [
    "<html><font size=4><B>3. Πρόβλεψη συνδέσμων βάσει similarity-based μετρικών</B></font>    \n",
    "        <li><B>3(i).</B> Προτείνετε μια τουλάχιστον μέθοδο, για να εξερευνήσουμε και να εκφράσουμε μέσα από τα πακέτα NumPy ή SciPy ή Pandas την συσχέτιση (correlation) μεταξύ των τιμών των μετρικών <B>Jaccard Coefficient</B>, <B>Preferential Attachment</B>, <B>Resource Allocation</B> για τον μειωμένο γράφο $G'$. Σημ.: Δεν χρειάζεται κάποια υλοποίηση, μόνο αναφορά της μεθόδου συσχέτισης και επεξήγηση της επιλογής σας.\n",
    "     <li><B>3(ii).</B> Εργαστείτε πάνω σε <B><U>αντίγραφο</U></B> του dataframe που κατασκευάσατε στο ερώτημα 1(vα) (unconnected+removables). Δημιουργήστε στήλη (column) με τις ακμές του γράφου και θέστε την ως index του dataframe. Στο dataframe θα προσθέσετε ως στήλες τις τιμές των μετρικών (<B>Jaccard Coefficient</B>, <B>Preferential Attachment</B>, <B>Resource Allocation</B>) για τον μειωμένο γράφο $G'$. Οι τιμές των μετρικών μπορούν να υπολογιστούν με τις συναρτήσεις του πακέτου NetworkX.</li>   </font></html>\n",
    "    \n",
    "    |       | link  |Jacc.Coeff.|Pr.Attachment| Resource Allocation|\n",
    "    |-------|-------|-----------|-------------|--------------------|\n",
    "    |(1, 6) |  0    |  0.333333 |     32      |    0.700000        |\n",
    "    |(1, 46)|  0    |  0.200000 |      8      |    0.166667        |"
   ]
  },
  {
   "attachments": {},
   "cell_type": "markdown",
   "id": "b1909048",
   "metadata": {},
   "source": [
    "For the correlation calculation between the metrics of jaccard coefficient, preferential attachment and resource allocation, the numpy method `np.corrcoef()` can be used. The parameters passed to the method are rowvar=False, for taking rows as records and columns as features as well as a transpose of a multidimensional matrix.\n",
    "\n",
    "Also, in the pandas library, the `DataFrame.corr()` method computes pairwise Pearson correlations between rows or columns of a DataFrame. By default, the function calculates the Pearson correlation coefficient between the numeric columns of the DataFrame. We can also specify which columns to include in the calculation by passing a list of column names to the `DataFrame.corr()` method, eg. `correlation_matrix = df[[\"col1\", \"col2\"]].corr()`."
   ]
  },
  {
   "cell_type": "code",
   "execution_count": 18,
   "id": "8d53a983",
   "metadata": {},
   "outputs": [
    {
     "data": {
      "text/html": [
       "<div>\n",
       "<style scoped>\n",
       "    .dataframe tbody tr th:only-of-type {\n",
       "        vertical-align: middle;\n",
       "    }\n",
       "\n",
       "    .dataframe tbody tr th {\n",
       "        vertical-align: top;\n",
       "    }\n",
       "\n",
       "    .dataframe thead th {\n",
       "        text-align: right;\n",
       "    }\n",
       "</style>\n",
       "<table border=\"1\" class=\"dataframe\">\n",
       "  <thead>\n",
       "    <tr style=\"text-align: right;\">\n",
       "      <th></th>\n",
       "      <th>Edge</th>\n",
       "      <th>Link</th>\n",
       "    </tr>\n",
       "  </thead>\n",
       "  <tbody>\n",
       "    <tr>\n",
       "      <th>0</th>\n",
       "      <td>(343, 344)</td>\n",
       "      <td>1</td>\n",
       "    </tr>\n",
       "    <tr>\n",
       "      <th>1</th>\n",
       "      <td>(32, 21)</td>\n",
       "      <td>1</td>\n",
       "    </tr>\n",
       "    <tr>\n",
       "      <th>2</th>\n",
       "      <td>(338, 341)</td>\n",
       "      <td>1</td>\n",
       "    </tr>\n",
       "    <tr>\n",
       "      <th>3</th>\n",
       "      <td>(19, 20)</td>\n",
       "      <td>1</td>\n",
       "    </tr>\n",
       "    <tr>\n",
       "      <th>4</th>\n",
       "      <td>(68, 93)</td>\n",
       "      <td>1</td>\n",
       "    </tr>\n",
       "  </tbody>\n",
       "</table>\n",
       "</div>"
      ],
      "text/plain": [
       "         Edge  Link\n",
       "0  (343, 344)     1\n",
       "1    (32, 21)     1\n",
       "2  (338, 341)     1\n",
       "3    (19, 20)     1\n",
       "4    (68, 93)     1"
      ]
     },
     "execution_count": 18,
     "metadata": {},
     "output_type": "execute_result"
    }
   ],
   "source": [
    "df.head()"
   ]
  },
  {
   "cell_type": "code",
   "execution_count": 19,
   "id": "7c40c8d6",
   "metadata": {},
   "outputs": [
    {
     "data": {
      "text/html": [
       "<div>\n",
       "<style scoped>\n",
       "    .dataframe tbody tr th:only-of-type {\n",
       "        vertical-align: middle;\n",
       "    }\n",
       "\n",
       "    .dataframe tbody tr th {\n",
       "        vertical-align: top;\n",
       "    }\n",
       "\n",
       "    .dataframe thead th {\n",
       "        text-align: right;\n",
       "    }\n",
       "</style>\n",
       "<table border=\"1\" class=\"dataframe\">\n",
       "  <thead>\n",
       "    <tr style=\"text-align: right;\">\n",
       "      <th></th>\n",
       "      <th>Link</th>\n",
       "    </tr>\n",
       "  </thead>\n",
       "  <tbody>\n",
       "    <tr>\n",
       "      <th>(343, 344)</th>\n",
       "      <td>1</td>\n",
       "    </tr>\n",
       "    <tr>\n",
       "      <th>(32, 21)</th>\n",
       "      <td>1</td>\n",
       "    </tr>\n",
       "    <tr>\n",
       "      <th>(338, 341)</th>\n",
       "      <td>1</td>\n",
       "    </tr>\n",
       "    <tr>\n",
       "      <th>(19, 20)</th>\n",
       "      <td>1</td>\n",
       "    </tr>\n",
       "    <tr>\n",
       "      <th>(68, 93)</th>\n",
       "      <td>1</td>\n",
       "    </tr>\n",
       "  </tbody>\n",
       "</table>\n",
       "</div>"
      ],
      "text/plain": [
       "            Link\n",
       "(343, 344)     1\n",
       "(32, 21)       1\n",
       "(338, 341)     1\n",
       "(19, 20)       1\n",
       "(68, 93)       1"
      ]
     },
     "execution_count": 19,
     "metadata": {},
     "output_type": "execute_result"
    }
   ],
   "source": [
    "#replicate of the dataframe \"unconnected+removables\"---dataframe will be used again in (4)\n",
    "import copy\n",
    "\n",
    "df2 = copy.deepcopy(df)\n",
    "df2.set_index(\"Edge\", inplace=True)\n",
    "df2.rename_axis(None, inplace=True)\n",
    "df2.head()"
   ]
  },
  {
   "cell_type": "code",
   "execution_count": 20,
   "id": "f6219155",
   "metadata": {},
   "outputs": [],
   "source": [
    "# df.sort_values(by='Edge', key=lambda col: col.map(lambda x: (int(x[0]), int(x[1]))))"
   ]
  },
  {
   "cell_type": "code",
   "execution_count": 21,
   "id": "cde57848",
   "metadata": {},
   "outputs": [
    {
     "data": {
      "text/html": [
       "<div>\n",
       "<style scoped>\n",
       "    .dataframe tbody tr th:only-of-type {\n",
       "        vertical-align: middle;\n",
       "    }\n",
       "\n",
       "    .dataframe tbody tr th {\n",
       "        vertical-align: top;\n",
       "    }\n",
       "\n",
       "    .dataframe thead th {\n",
       "        text-align: right;\n",
       "    }\n",
       "</style>\n",
       "<table border=\"1\" class=\"dataframe\">\n",
       "  <thead>\n",
       "    <tr style=\"text-align: right;\">\n",
       "      <th></th>\n",
       "      <th>Link</th>\n",
       "      <th>Jacc.Coeff.</th>\n",
       "      <th>Pr.Attachment</th>\n",
       "      <th>Resource Allocation</th>\n",
       "    </tr>\n",
       "  </thead>\n",
       "  <tbody>\n",
       "    <tr>\n",
       "      <th>(343, 344)</th>\n",
       "      <td>1</td>\n",
       "      <td>1.0</td>\n",
       "      <td>1</td>\n",
       "      <td>0.066667</td>\n",
       "    </tr>\n",
       "    <tr>\n",
       "      <th>(32, 21)</th>\n",
       "      <td>1</td>\n",
       "      <td>0.0</td>\n",
       "      <td>18</td>\n",
       "      <td>0.000000</td>\n",
       "    </tr>\n",
       "    <tr>\n",
       "      <th>(338, 341)</th>\n",
       "      <td>1</td>\n",
       "      <td>1.0</td>\n",
       "      <td>1</td>\n",
       "      <td>0.066667</td>\n",
       "    </tr>\n",
       "    <tr>\n",
       "      <th>(19, 20)</th>\n",
       "      <td>1</td>\n",
       "      <td>0.0</td>\n",
       "      <td>12</td>\n",
       "      <td>0.000000</td>\n",
       "    </tr>\n",
       "    <tr>\n",
       "      <th>(68, 93)</th>\n",
       "      <td>1</td>\n",
       "      <td>0.0</td>\n",
       "      <td>2</td>\n",
       "      <td>0.000000</td>\n",
       "    </tr>\n",
       "  </tbody>\n",
       "</table>\n",
       "</div>"
      ],
      "text/plain": [
       "            Link  Jacc.Coeff.  Pr.Attachment  Resource Allocation\n",
       "(343, 344)     1          1.0              1             0.066667\n",
       "(32, 21)       1          0.0             18             0.000000\n",
       "(338, 341)     1          1.0              1             0.066667\n",
       "(19, 20)       1          0.0             12             0.000000\n",
       "(68, 93)       1          0.0              2             0.000000"
      ]
     },
     "execution_count": 21,
     "metadata": {},
     "output_type": "execute_result"
    }
   ],
   "source": [
    "ebunch_edges = list(map(lambda x: (x[0], x[1]), df['Edge']))\n",
    "#dataframe for similarity-based measurement values: df2\n",
    "\n",
    "#Jaccard Coefficient\n",
    "jc = nx.jaccard_coefficient(G_reduced, ebunch_edges)\n",
    "df2['Jacc.Coeff.'] = [x[-1] for x in jc]\n",
    "\n",
    "#Preferential Attachment\n",
    "pa = nx.preferential_attachment(G_reduced, ebunch_edges)\n",
    "df2['Pr.Attachment'] = [x[-1] for x in pa]\n",
    "\n",
    "#Resource Allocation\n",
    "ra = nx.resource_allocation_index(G_reduced, ebunch_edges)\n",
    "df2['Resource Allocation'] = [x[-1] for x in ra]\n",
    "\n",
    "\n",
    "df2.head()"
   ]
  },
  {
   "cell_type": "code",
   "execution_count": 22,
   "id": "4b43a83c",
   "metadata": {},
   "outputs": [
    {
     "data": {
      "text/html": [
       "<div>\n",
       "<style scoped>\n",
       "    .dataframe tbody tr th:only-of-type {\n",
       "        vertical-align: middle;\n",
       "    }\n",
       "\n",
       "    .dataframe tbody tr th {\n",
       "        vertical-align: top;\n",
       "    }\n",
       "\n",
       "    .dataframe thead th {\n",
       "        text-align: right;\n",
       "    }\n",
       "</style>\n",
       "<table border=\"1\" class=\"dataframe\">\n",
       "  <thead>\n",
       "    <tr style=\"text-align: right;\">\n",
       "      <th></th>\n",
       "      <th>Link</th>\n",
       "      <th>Jacc.Coeff.</th>\n",
       "      <th>Pr.Attachment</th>\n",
       "      <th>Resource Allocation</th>\n",
       "    </tr>\n",
       "  </thead>\n",
       "  <tbody>\n",
       "    <tr>\n",
       "      <th>Link</th>\n",
       "      <td>1.000000</td>\n",
       "      <td>0.543554</td>\n",
       "      <td>0.011689</td>\n",
       "      <td>0.254448</td>\n",
       "    </tr>\n",
       "    <tr>\n",
       "      <th>Jacc.Coeff.</th>\n",
       "      <td>0.543554</td>\n",
       "      <td>1.000000</td>\n",
       "      <td>-0.015560</td>\n",
       "      <td>0.630806</td>\n",
       "    </tr>\n",
       "    <tr>\n",
       "      <th>Pr.Attachment</th>\n",
       "      <td>0.011689</td>\n",
       "      <td>-0.015560</td>\n",
       "      <td>1.000000</td>\n",
       "      <td>0.030255</td>\n",
       "    </tr>\n",
       "    <tr>\n",
       "      <th>Resource Allocation</th>\n",
       "      <td>0.254448</td>\n",
       "      <td>0.630806</td>\n",
       "      <td>0.030255</td>\n",
       "      <td>1.000000</td>\n",
       "    </tr>\n",
       "  </tbody>\n",
       "</table>\n",
       "</div>"
      ],
      "text/plain": [
       "                         Link  Jacc.Coeff.  Pr.Attachment  Resource Allocation\n",
       "Link                 1.000000     0.543554       0.011689             0.254448\n",
       "Jacc.Coeff.          0.543554     1.000000      -0.015560             0.630806\n",
       "Pr.Attachment        0.011689    -0.015560       1.000000             0.030255\n",
       "Resource Allocation  0.254448     0.630806       0.030255             1.000000"
      ]
     },
     "execution_count": 22,
     "metadata": {},
     "output_type": "execute_result"
    }
   ],
   "source": [
    "df2.corr()"
   ]
  },
  {
   "attachments": {},
   "cell_type": "markdown",
   "id": "4f17d0ae",
   "metadata": {},
   "source": [
    "It's interesting to notice here that Preferential Attachement has very low correlation with Link, Jaccard Coefficient and Resource Allocation. \n",
    "We might expect, based on this observation, that the contribution of the Preferential Attachement feature to the link prediction task will be limited."
   ]
  },
  {
   "cell_type": "code",
   "execution_count": 23,
   "id": "8c65a3e6",
   "metadata": {},
   "outputs": [],
   "source": [
    "# df2.sort_index(key=lambda col: col.map(lambda x: (int(x[0]), int(x[1]))))"
   ]
  },
  {
   "cell_type": "markdown",
   "id": "76f9318d",
   "metadata": {},
   "source": [
    "<li><B>3(iiiα).</B> Χρησιμοποιήστε τον Random Forest Classifier και το αντίγραφο dataframe που κατασκευάσατε στο ερώτημα 3(ii), για να προβλέψετε συνδέσεις. Συμπληρώστε στον κώδικα: τα features ($X$), την target variable ($y$) και τα ορίσματα της συνάρτησης $fit$ για το training του μοντέλου.</li>\n",
    "<li><B>3(iiiβ).</B> Δώστε τις ($A.M$ $mod$ $10$) πρώτες προβλέψεις και την ακρίβεια ($accuracy$) του μοντέλου. </li>\n",
    "<li><B>3(iiiγ).</B>Υπολογίστε την πιθανότητα να συνδεθούν οι κόμβοι ($1$,$47$) βάσει του μοντέλου σας. </li>  "
   ]
  },
  {
   "cell_type": "code",
   "execution_count": 24,
   "id": "df4a65f5",
   "metadata": {},
   "outputs": [
    {
     "name": "stdout",
     "output_type": "stream",
     "text": [
      "X shape: (91900, 3), type: float64\n",
      "\ttrain: (61573, 3)\n",
      "\ttest : (30327, 3)\n",
      "y shape: (91900,), type: int64\n",
      "\ttrain: (61573,)\n",
      "\ttest : (30327,)\n"
     ]
    }
   ],
   "source": [
    "from sklearn.model_selection import train_test_split\n",
    "from sklearn.ensemble import RandomForestClassifier\n",
    "from sklearn.metrics import accuracy_score\n",
    "from sklearn.model_selection import GridSearchCV\n",
    " \n",
    "X = df2[['Jacc.Coeff.', 'Pr.Attachment', 'Resource Allocation']].to_numpy() # features\n",
    "y = df2['Link'].to_numpy() # target\n",
    "\n",
    "X_train, X_test, y_train, y_test = train_test_split(X, y, test_size=0.33, random_state = 0)\n",
    "\n",
    "print(f'X shape: {X.shape}, type: {X.dtype}')\n",
    "print(f'\\ttrain: {X_train.shape}')\n",
    "print(f'\\ttest : {X_test.shape}')\n",
    "\n",
    "print(f'y shape: {y.shape}, type: {y.dtype}')\n",
    "print(f'\\ttrain: {y_train.shape}')\n",
    "print(f'\\ttest : {y_test.shape}')\n"
   ]
  },
  {
   "cell_type": "code",
   "execution_count": 25,
   "id": "26affc3a",
   "metadata": {},
   "outputs": [],
   "source": [
    "classifier = RandomForestClassifier()   \n",
    "\n",
    "from sklearn.preprocessing import MinMaxScaler \n",
    "mm_scaler = MinMaxScaler() \n",
    "X_train_scaled = mm_scaler.fit_transform(X_train)\n",
    "X_test_scaled = mm_scaler.transform(X_test)\n",
    "\n",
    "parameters = {'n_estimators' : [10,50,100], 'max_depth' : [5,10,15]} \n",
    "model = GridSearchCV(classifier, param_grid = parameters, scoring='f1') "
   ]
  },
  {
   "cell_type": "code",
   "execution_count": 26,
   "id": "431e2d35",
   "metadata": {},
   "outputs": [
    {
     "data": {
      "text/html": [
       "<style>#sk-container-id-1 {color: black;background-color: white;}#sk-container-id-1 pre{padding: 0;}#sk-container-id-1 div.sk-toggleable {background-color: white;}#sk-container-id-1 label.sk-toggleable__label {cursor: pointer;display: block;width: 100%;margin-bottom: 0;padding: 0.3em;box-sizing: border-box;text-align: center;}#sk-container-id-1 label.sk-toggleable__label-arrow:before {content: \"▸\";float: left;margin-right: 0.25em;color: #696969;}#sk-container-id-1 label.sk-toggleable__label-arrow:hover:before {color: black;}#sk-container-id-1 div.sk-estimator:hover label.sk-toggleable__label-arrow:before {color: black;}#sk-container-id-1 div.sk-toggleable__content {max-height: 0;max-width: 0;overflow: hidden;text-align: left;background-color: #f0f8ff;}#sk-container-id-1 div.sk-toggleable__content pre {margin: 0.2em;color: black;border-radius: 0.25em;background-color: #f0f8ff;}#sk-container-id-1 input.sk-toggleable__control:checked~div.sk-toggleable__content {max-height: 200px;max-width: 100%;overflow: auto;}#sk-container-id-1 input.sk-toggleable__control:checked~label.sk-toggleable__label-arrow:before {content: \"▾\";}#sk-container-id-1 div.sk-estimator input.sk-toggleable__control:checked~label.sk-toggleable__label {background-color: #d4ebff;}#sk-container-id-1 div.sk-label input.sk-toggleable__control:checked~label.sk-toggleable__label {background-color: #d4ebff;}#sk-container-id-1 input.sk-hidden--visually {border: 0;clip: rect(1px 1px 1px 1px);clip: rect(1px, 1px, 1px, 1px);height: 1px;margin: -1px;overflow: hidden;padding: 0;position: absolute;width: 1px;}#sk-container-id-1 div.sk-estimator {font-family: monospace;background-color: #f0f8ff;border: 1px dotted black;border-radius: 0.25em;box-sizing: border-box;margin-bottom: 0.5em;}#sk-container-id-1 div.sk-estimator:hover {background-color: #d4ebff;}#sk-container-id-1 div.sk-parallel-item::after {content: \"\";width: 100%;border-bottom: 1px solid gray;flex-grow: 1;}#sk-container-id-1 div.sk-label:hover label.sk-toggleable__label {background-color: #d4ebff;}#sk-container-id-1 div.sk-serial::before {content: \"\";position: absolute;border-left: 1px solid gray;box-sizing: border-box;top: 0;bottom: 0;left: 50%;z-index: 0;}#sk-container-id-1 div.sk-serial {display: flex;flex-direction: column;align-items: center;background-color: white;padding-right: 0.2em;padding-left: 0.2em;position: relative;}#sk-container-id-1 div.sk-item {position: relative;z-index: 1;}#sk-container-id-1 div.sk-parallel {display: flex;align-items: stretch;justify-content: center;background-color: white;position: relative;}#sk-container-id-1 div.sk-item::before, #sk-container-id-1 div.sk-parallel-item::before {content: \"\";position: absolute;border-left: 1px solid gray;box-sizing: border-box;top: 0;bottom: 0;left: 50%;z-index: -1;}#sk-container-id-1 div.sk-parallel-item {display: flex;flex-direction: column;z-index: 1;position: relative;background-color: white;}#sk-container-id-1 div.sk-parallel-item:first-child::after {align-self: flex-end;width: 50%;}#sk-container-id-1 div.sk-parallel-item:last-child::after {align-self: flex-start;width: 50%;}#sk-container-id-1 div.sk-parallel-item:only-child::after {width: 0;}#sk-container-id-1 div.sk-dashed-wrapped {border: 1px dashed gray;margin: 0 0.4em 0.5em 0.4em;box-sizing: border-box;padding-bottom: 0.4em;background-color: white;}#sk-container-id-1 div.sk-label label {font-family: monospace;font-weight: bold;display: inline-block;line-height: 1.2em;}#sk-container-id-1 div.sk-label-container {text-align: center;}#sk-container-id-1 div.sk-container {/* jupyter's `normalize.less` sets `[hidden] { display: none; }` but bootstrap.min.css set `[hidden] { display: none !important; }` so we also need the `!important` here to be able to override the default hidden behavior on the sphinx rendered scikit-learn.org. See: https://github.com/scikit-learn/scikit-learn/issues/21755 */display: inline-block !important;position: relative;}#sk-container-id-1 div.sk-text-repr-fallback {display: none;}</style><div id=\"sk-container-id-1\" class=\"sk-top-container\"><div class=\"sk-text-repr-fallback\"><pre>GridSearchCV(estimator=RandomForestClassifier(),\n",
       "             param_grid={&#x27;max_depth&#x27;: [5, 10, 15],\n",
       "                         &#x27;n_estimators&#x27;: [10, 50, 100]},\n",
       "             scoring=&#x27;f1&#x27;)</pre><b>In a Jupyter environment, please rerun this cell to show the HTML representation or trust the notebook. <br />On GitHub, the HTML representation is unable to render, please try loading this page with nbviewer.org.</b></div><div class=\"sk-container\" hidden><div class=\"sk-item sk-dashed-wrapped\"><div class=\"sk-label-container\"><div class=\"sk-label sk-toggleable\"><input class=\"sk-toggleable__control sk-hidden--visually\" id=\"sk-estimator-id-1\" type=\"checkbox\" ><label for=\"sk-estimator-id-1\" class=\"sk-toggleable__label sk-toggleable__label-arrow\">GridSearchCV</label><div class=\"sk-toggleable__content\"><pre>GridSearchCV(estimator=RandomForestClassifier(),\n",
       "             param_grid={&#x27;max_depth&#x27;: [5, 10, 15],\n",
       "                         &#x27;n_estimators&#x27;: [10, 50, 100]},\n",
       "             scoring=&#x27;f1&#x27;)</pre></div></div></div><div class=\"sk-parallel\"><div class=\"sk-parallel-item\"><div class=\"sk-item\"><div class=\"sk-label-container\"><div class=\"sk-label sk-toggleable\"><input class=\"sk-toggleable__control sk-hidden--visually\" id=\"sk-estimator-id-2\" type=\"checkbox\" ><label for=\"sk-estimator-id-2\" class=\"sk-toggleable__label sk-toggleable__label-arrow\">estimator: RandomForestClassifier</label><div class=\"sk-toggleable__content\"><pre>RandomForestClassifier()</pre></div></div></div><div class=\"sk-serial\"><div class=\"sk-item\"><div class=\"sk-estimator sk-toggleable\"><input class=\"sk-toggleable__control sk-hidden--visually\" id=\"sk-estimator-id-3\" type=\"checkbox\" ><label for=\"sk-estimator-id-3\" class=\"sk-toggleable__label sk-toggleable__label-arrow\">RandomForestClassifier</label><div class=\"sk-toggleable__content\"><pre>RandomForestClassifier()</pre></div></div></div></div></div></div></div></div></div></div>"
      ],
      "text/plain": [
       "GridSearchCV(estimator=RandomForestClassifier(),\n",
       "             param_grid={'max_depth': [5, 10, 15],\n",
       "                         'n_estimators': [10, 50, 100]},\n",
       "             scoring='f1')"
      ]
     },
     "execution_count": 26,
     "metadata": {},
     "output_type": "execute_result"
    }
   ],
   "source": [
    "model.fit(X_train_scaled, y_train) # train the model"
   ]
  },
  {
   "attachments": {},
   "cell_type": "markdown",
   "id": "58fd0f1e",
   "metadata": {},
   "source": [
    "Given that the dataset is imbalanced, we selected the F1-score as an appropriate scoring metric for the classification task instead of accuracy. The accuracy is expected to be close to 1 without being indicative of the predictive power of our model."
   ]
  },
  {
   "cell_type": "code",
   "execution_count": 27,
   "id": "d30a36a7",
   "metadata": {},
   "outputs": [
    {
     "name": "stdout",
     "output_type": "stream",
     "text": [
      "The best estimator found from Grid Search is RandomForestClassifier(max_depth=5, n_estimators=50)\n",
      "Parameters: {'max_depth': 5, 'n_estimators': 50}\n",
      "F1-score = 0.7087168741573409\n"
     ]
    }
   ],
   "source": [
    "print(f'The best estimator found from Grid Search is {model.best_estimator_}')\n",
    "print(f'Parameters: {model.best_params_}')\n",
    "print(f'F1-score = {model.best_score_}')"
   ]
  },
  {
   "cell_type": "code",
   "execution_count": 28,
   "id": "1b075584",
   "metadata": {},
   "outputs": [
    {
     "name": "stdout",
     "output_type": "stream",
     "text": [
      "The first 1 prediction(s) is/are: [0]\n",
      "The first 1 true label(s) is/are: [0]\n",
      "\n",
      "Prediction metrics:\n",
      "Accuracy : 0.9986\n",
      "Precision: 0.9667\n",
      "Recall   : 0.4203\n",
      "F1-score : 0.5859\n"
     ]
    }
   ],
   "source": [
    "from sklearn.metrics import accuracy_score, precision_score, recall_score, f1_score\n",
    "\n",
    "AM = 3400131\n",
    "k = AM % 10 # AM mod 10\n",
    "\n",
    "predictions = model.predict(X_test_scaled)       \n",
    "k_first_preds = predictions[:k] #get (A.M. last digit) first predictions\n",
    "k_first_labels = y_test[:k]\n",
    "\n",
    "print(f'The first {k} prediction(s) is/are: {list(k_first_preds)}\\nThe first {k} true label(s) is/are: {list(k_first_labels)}\\n')\n",
    "\n",
    "acc = accuracy_score(y_test, predictions)\n",
    "pr = precision_score(y_test, predictions)\n",
    "rc = recall_score(y_test, predictions)\n",
    "f1 = f1_score(y_test, predictions)\n",
    "\n",
    "print('Prediction metrics:')\n",
    "print(f'Accuracy : {round(acc, 4)}\\nPrecision: {round(pr, 4)}\\nRecall   : {round(rc, 4)}\\nF1-score : {round(f1, 4)}')"
   ]
  },
  {
   "cell_type": "code",
   "execution_count": 30,
   "id": "b042eca7",
   "metadata": {},
   "outputs": [
    {
     "name": "stdout",
     "output_type": "stream",
     "text": [
      "The probability that nodes 1 and 47 are connected/linked with an edge is predicted by the classifier to be: 0.005522923746997231\n"
     ]
    }
   ],
   "source": [
    "u, v = '1', '47' # nodes for which to make an link prediction (whether an edge exists in graph or no)\n",
    "\n",
    "train_sample = df2[df2.index == (v, u)].iloc[:, 1:].to_numpy()\n",
    "train_sample = np.reshape(train_sample, (1, -1)) # reshape to (3,1) numpy array\n",
    "\n",
    "predict_proba = model.predict_proba(train_sample)\n",
    "\n",
    "print(f'The probability that nodes {u} and {v} are connected/linked with an edge is predicted by the classifier to be: {predict_proba[0, 1]}')"
   ]
  },
  {
   "cell_type": "markdown",
   "id": "f4c43988",
   "metadata": {},
   "source": [
    "<html><font size=4><B>4. Πρόβλεψη συνδέσμων με embedding βασισμένο σε τυχαίους περιπάτους (Random Walks) </B></font><BR><BR>\n",
    "    <li><B>4(i).</B> Εξάγετε τα χαρακτηριστικά (features) του γράφου $G'$, που προέκυψε από την αφαίρεση των ακμών. Για τον σκοπό αυτό χρησιμοποιήστε τον αλγόριθμο <B>Node2vec</B> <a href=\"https://cs.stanford.edu/~jure/pubs/node2vec-kdd16.pdf\">[3]</a>. Ο αλγόριθμος αντιστοιχίζει τους κόμβους του γράφου μέσω τυχαίων περιπάτων (biased 2nd order random walks) σε ένα χώρο μικρού αριθμού διαστάσεων (low dimensional space) διατηρώντας την μεταξύ τους γειτνίαση.\n",
    "        <BR>Για την επιλογή των παραμέτρων: \n",
    "            <li>p - παράμετρος τυχαίων περιπάτων p που καθορίζει την πιθανότητα “1/p” επιστροφής στον κόμβο προέλευσης (source node), </li>\n",
    "                <li>q - παράμετρος τυχαίων περιπάτων q που καθορίζει την πιθανότητα  “1/q” μετακίνησης σε κόμβο μακριά από τον κόμβο προέλευσης (source node), </li>\n",
    "                 <li>dimensions - πλήθος διαστάσεων των Node2Vec embeddings, </li>\n",
    "                     <li>num_walks - αριθμός περιπάτων από κάθε κόμβο, </li>\n",
    "                         <li>walk_length - μήκος τυχαίου περιπάτου, </li>\n",
    "                             <li>window_size - μέγεθος παραθύρου context για τον αλγόριθμο Word2Vec, </li><li>num_iter - αριθμός SGD επαναλήψεων (epochs), </li>\n",
    "            <li>workers - αριθμός workers για τον Word2Vec,</li>\n",
    "            χρησιμοποιήστε τις τιμές:   </html>\n",
    "   \n",
    "                   "
   ]
  },
  {
   "cell_type": "markdown",
   "id": "fdbc5274",
   "metadata": {},
   "source": [
    " |   p   |   q   | dimensions|  num_walks  |walk_length |window_size|        workers            |\n",
    " |-------|-------|-----------|-------------|------------|-----------|---------------------------|\n",
    " |  1.0  |  1.0  |  128      |     10      |    80      |     10    |multiprocessing.cpu_count()|"
   ]
  },
  {
   "cell_type": "code",
   "execution_count": 32,
   "id": "aa8e668d",
   "metadata": {},
   "outputs": [
    {
     "name": "stderr",
     "output_type": "stream",
     "text": [
      "c:\\Users\\User\\Downloads\\DSML MsC\\1st semester\\Ανάλυση Κοινωνικών Δικτύων - Social Networks\\Εργαστηριακές Ασκήσεις\\2022\\Social-Networks-Analysis\\venv\\lib\\site-packages\\tqdm\\auto.py:22: TqdmWarning: IProgress not found. Please update jupyter and ipywidgets. See https://ipywidgets.readthedocs.io/en/stable/user_install.html\n",
      "  from .autonotebook import tqdm as notebook_tqdm\n",
      "Computing transition probabilities: 100%|██████████| 430/430 [00:00<00:00, 5375.12it/s]\n"
     ]
    }
   ],
   "source": [
    "# install node2vec with conda / pip\n",
    "from node2vec import Node2Vec\n",
    "import multiprocessing\n",
    "\n",
    "#generate walks\n",
    "node2vec_walker = Node2Vec(G_reduced, \n",
    "                dimensions=128, \n",
    "                walk_length=80, \n",
    "                num_walks=10, \n",
    "                p=1.0,\n",
    "                q=1.0,\n",
    "                workers=multiprocessing.cpu_count())\n",
    "\n",
    "#train node2vec model\n",
    "window_size=10\n",
    "n2v_model = node2vec_walker.fit(window=window_size, min_count=1)"
   ]
  },
  {
   "cell_type": "markdown",
   "id": "294f0aab",
   "metadata": {},
   "source": [
    "<html><font>\n",
    "    <li><B>4(ii).</B> Εφαρμόστε τον αλγόριθμο Random Forest Classifier, για να προβλέψετε τις συνδέσεις.</li><BR>\n",
    "    <li><B>4(iii).</B> Υπολογίστε την ακρίβεια ($accuracy$) του μοντέλου. </li><BR></font></html>"
   ]
  },
  {
   "cell_type": "code",
   "execution_count": 49,
   "id": "a6e6f5e7",
   "metadata": {},
   "outputs": [
    {
     "data": {
      "text/html": [
       "<div>\n",
       "<style scoped>\n",
       "    .dataframe tbody tr th:only-of-type {\n",
       "        vertical-align: middle;\n",
       "    }\n",
       "\n",
       "    .dataframe tbody tr th {\n",
       "        vertical-align: top;\n",
       "    }\n",
       "\n",
       "    .dataframe thead th {\n",
       "        text-align: right;\n",
       "    }\n",
       "</style>\n",
       "<table border=\"1\" class=\"dataframe\">\n",
       "  <thead>\n",
       "    <tr style=\"text-align: right;\">\n",
       "      <th></th>\n",
       "      <th>Edge</th>\n",
       "      <th>Link</th>\n",
       "    </tr>\n",
       "  </thead>\n",
       "  <tbody>\n",
       "    <tr>\n",
       "      <th>0</th>\n",
       "      <td>(343, 344)</td>\n",
       "      <td>1</td>\n",
       "    </tr>\n",
       "    <tr>\n",
       "      <th>1</th>\n",
       "      <td>(32, 21)</td>\n",
       "      <td>1</td>\n",
       "    </tr>\n",
       "    <tr>\n",
       "      <th>2</th>\n",
       "      <td>(338, 341)</td>\n",
       "      <td>1</td>\n",
       "    </tr>\n",
       "    <tr>\n",
       "      <th>3</th>\n",
       "      <td>(19, 20)</td>\n",
       "      <td>1</td>\n",
       "    </tr>\n",
       "    <tr>\n",
       "      <th>4</th>\n",
       "      <td>(68, 93)</td>\n",
       "      <td>1</td>\n",
       "    </tr>\n",
       "  </tbody>\n",
       "</table>\n",
       "</div>"
      ],
      "text/plain": [
       "         Edge  Link\n",
       "0  (343, 344)     1\n",
       "1    (32, 21)     1\n",
       "2  (338, 341)     1\n",
       "3    (19, 20)     1\n",
       "4    (68, 93)     1"
      ]
     },
     "execution_count": 49,
     "metadata": {},
     "output_type": "execute_result"
    }
   ],
   "source": [
    "df3 = copy.deepcopy(df)\n",
    "df3.head()"
   ]
  },
  {
   "cell_type": "code",
   "execution_count": 50,
   "id": "27ba72d1",
   "metadata": {},
   "outputs": [
    {
     "data": {
      "text/html": [
       "<div>\n",
       "<style scoped>\n",
       "    .dataframe tbody tr th:only-of-type {\n",
       "        vertical-align: middle;\n",
       "    }\n",
       "\n",
       "    .dataframe tbody tr th {\n",
       "        vertical-align: top;\n",
       "    }\n",
       "\n",
       "    .dataframe thead th {\n",
       "        text-align: right;\n",
       "    }\n",
       "</style>\n",
       "<table border=\"1\" class=\"dataframe\">\n",
       "  <thead>\n",
       "    <tr style=\"text-align: right;\">\n",
       "      <th></th>\n",
       "      <th>Edge</th>\n",
       "      <th>Link</th>\n",
       "      <th>node_1</th>\n",
       "      <th>node_2</th>\n",
       "    </tr>\n",
       "  </thead>\n",
       "  <tbody>\n",
       "    <tr>\n",
       "      <th>0</th>\n",
       "      <td>(343, 344)</td>\n",
       "      <td>1</td>\n",
       "      <td>343</td>\n",
       "      <td>344</td>\n",
       "    </tr>\n",
       "    <tr>\n",
       "      <th>1</th>\n",
       "      <td>(32, 21)</td>\n",
       "      <td>1</td>\n",
       "      <td>32</td>\n",
       "      <td>21</td>\n",
       "    </tr>\n",
       "    <tr>\n",
       "      <th>2</th>\n",
       "      <td>(338, 341)</td>\n",
       "      <td>1</td>\n",
       "      <td>338</td>\n",
       "      <td>341</td>\n",
       "    </tr>\n",
       "    <tr>\n",
       "      <th>3</th>\n",
       "      <td>(19, 20)</td>\n",
       "      <td>1</td>\n",
       "      <td>19</td>\n",
       "      <td>20</td>\n",
       "    </tr>\n",
       "    <tr>\n",
       "      <th>4</th>\n",
       "      <td>(68, 93)</td>\n",
       "      <td>1</td>\n",
       "      <td>68</td>\n",
       "      <td>93</td>\n",
       "    </tr>\n",
       "  </tbody>\n",
       "</table>\n",
       "</div>"
      ],
      "text/plain": [
       "         Edge  Link node_1 node_2\n",
       "0  (343, 344)     1    343    344\n",
       "1    (32, 21)     1     32     21\n",
       "2  (338, 341)     1    338    341\n",
       "3    (19, 20)     1     19     20\n",
       "4    (68, 93)     1     68     93"
      ]
     },
     "execution_count": 50,
     "metadata": {},
     "output_type": "execute_result"
    }
   ],
   "source": [
    "node1_list = [x for x,y in df['Edge']]\n",
    "node2_list = [y for x,y in df['Edge']]\n",
    "df3['node_1'] = node1_list\n",
    "df3['node_2'] = node2_list\n",
    "\n",
    "df3.head()\n"
   ]
  },
  {
   "cell_type": "code",
   "execution_count": 51,
   "id": "6269b89a",
   "metadata": {},
   "outputs": [],
   "source": [
    "#apply trained Node2Vec model on each node pair of the dataframe \"unconnected+removables\"\n",
    "x = [(n2v_model.wv[str(i)]+n2v_model.wv[str(j)]) for i,j in zip(df3['node_1'], df3['node_2'])]"
   ]
  },
  {
   "attachments": {},
   "cell_type": "markdown",
   "id": "c8459819",
   "metadata": {},
   "source": [
    "X is now a list of vectors (lists) with 128 elements/features each."
   ]
  },
  {
   "cell_type": "code",
   "execution_count": 59,
   "id": "8afc68cb",
   "metadata": {},
   "outputs": [
    {
     "data": {
      "text/plain": [
       "(list, 91900, numpy.ndarray, 128)"
      ]
     },
     "execution_count": 59,
     "metadata": {},
     "output_type": "execute_result"
    }
   ],
   "source": [
    "type(x), len(x), type(x[0]), len(x[0])"
   ]
  },
  {
   "cell_type": "code",
   "execution_count": 67,
   "id": "9e057ba7",
   "metadata": {},
   "outputs": [],
   "source": [
    "y = df['Link'].to_numpy()"
   ]
  },
  {
   "cell_type": "code",
   "execution_count": 77,
   "id": "b74e7aa7",
   "metadata": {},
   "outputs": [],
   "source": [
    "X_train, X_test, y_train, y_test = train_test_split(np.array(x), y, test_size=0.33, random_state = 0)"
   ]
  },
  {
   "cell_type": "code",
   "execution_count": 79,
   "id": "adefb015",
   "metadata": {},
   "outputs": [
    {
     "name": "stdout",
     "output_type": "stream",
     "text": [
      "Training\n",
      "\ttrain: (61573, 128), type: float32\n",
      "\ttest : (30327, 128), type: float32\n",
      "Testing\n",
      "\ttrain: (61573,), type: int64\n",
      "\ttest : (30327,), type: int64\n"
     ]
    }
   ],
   "source": [
    "print(f'Training')\n",
    "print(f'\\ttrain: {X_train.shape}, type: {X_train.dtype}')\n",
    "print(f'\\ttest : {X_test.shape}, type: {X_test.dtype}')\n",
    "\n",
    "print(f'Testing')\n",
    "print(f'\\ttrain: {y_train.shape}, type: {y_train.dtype}')\n",
    "print(f'\\ttest : {y_test.shape}, type: {y_test.dtype}')"
   ]
  },
  {
   "cell_type": "code",
   "execution_count": 80,
   "id": "e75cfde7",
   "metadata": {},
   "outputs": [
    {
     "data": {
      "text/html": [
       "<style>#sk-container-id-2 {color: black;background-color: white;}#sk-container-id-2 pre{padding: 0;}#sk-container-id-2 div.sk-toggleable {background-color: white;}#sk-container-id-2 label.sk-toggleable__label {cursor: pointer;display: block;width: 100%;margin-bottom: 0;padding: 0.3em;box-sizing: border-box;text-align: center;}#sk-container-id-2 label.sk-toggleable__label-arrow:before {content: \"▸\";float: left;margin-right: 0.25em;color: #696969;}#sk-container-id-2 label.sk-toggleable__label-arrow:hover:before {color: black;}#sk-container-id-2 div.sk-estimator:hover label.sk-toggleable__label-arrow:before {color: black;}#sk-container-id-2 div.sk-toggleable__content {max-height: 0;max-width: 0;overflow: hidden;text-align: left;background-color: #f0f8ff;}#sk-container-id-2 div.sk-toggleable__content pre {margin: 0.2em;color: black;border-radius: 0.25em;background-color: #f0f8ff;}#sk-container-id-2 input.sk-toggleable__control:checked~div.sk-toggleable__content {max-height: 200px;max-width: 100%;overflow: auto;}#sk-container-id-2 input.sk-toggleable__control:checked~label.sk-toggleable__label-arrow:before {content: \"▾\";}#sk-container-id-2 div.sk-estimator input.sk-toggleable__control:checked~label.sk-toggleable__label {background-color: #d4ebff;}#sk-container-id-2 div.sk-label input.sk-toggleable__control:checked~label.sk-toggleable__label {background-color: #d4ebff;}#sk-container-id-2 input.sk-hidden--visually {border: 0;clip: rect(1px 1px 1px 1px);clip: rect(1px, 1px, 1px, 1px);height: 1px;margin: -1px;overflow: hidden;padding: 0;position: absolute;width: 1px;}#sk-container-id-2 div.sk-estimator {font-family: monospace;background-color: #f0f8ff;border: 1px dotted black;border-radius: 0.25em;box-sizing: border-box;margin-bottom: 0.5em;}#sk-container-id-2 div.sk-estimator:hover {background-color: #d4ebff;}#sk-container-id-2 div.sk-parallel-item::after {content: \"\";width: 100%;border-bottom: 1px solid gray;flex-grow: 1;}#sk-container-id-2 div.sk-label:hover label.sk-toggleable__label {background-color: #d4ebff;}#sk-container-id-2 div.sk-serial::before {content: \"\";position: absolute;border-left: 1px solid gray;box-sizing: border-box;top: 0;bottom: 0;left: 50%;z-index: 0;}#sk-container-id-2 div.sk-serial {display: flex;flex-direction: column;align-items: center;background-color: white;padding-right: 0.2em;padding-left: 0.2em;position: relative;}#sk-container-id-2 div.sk-item {position: relative;z-index: 1;}#sk-container-id-2 div.sk-parallel {display: flex;align-items: stretch;justify-content: center;background-color: white;position: relative;}#sk-container-id-2 div.sk-item::before, #sk-container-id-2 div.sk-parallel-item::before {content: \"\";position: absolute;border-left: 1px solid gray;box-sizing: border-box;top: 0;bottom: 0;left: 50%;z-index: -1;}#sk-container-id-2 div.sk-parallel-item {display: flex;flex-direction: column;z-index: 1;position: relative;background-color: white;}#sk-container-id-2 div.sk-parallel-item:first-child::after {align-self: flex-end;width: 50%;}#sk-container-id-2 div.sk-parallel-item:last-child::after {align-self: flex-start;width: 50%;}#sk-container-id-2 div.sk-parallel-item:only-child::after {width: 0;}#sk-container-id-2 div.sk-dashed-wrapped {border: 1px dashed gray;margin: 0 0.4em 0.5em 0.4em;box-sizing: border-box;padding-bottom: 0.4em;background-color: white;}#sk-container-id-2 div.sk-label label {font-family: monospace;font-weight: bold;display: inline-block;line-height: 1.2em;}#sk-container-id-2 div.sk-label-container {text-align: center;}#sk-container-id-2 div.sk-container {/* jupyter's `normalize.less` sets `[hidden] { display: none; }` but bootstrap.min.css set `[hidden] { display: none !important; }` so we also need the `!important` here to be able to override the default hidden behavior on the sphinx rendered scikit-learn.org. See: https://github.com/scikit-learn/scikit-learn/issues/21755 */display: inline-block !important;position: relative;}#sk-container-id-2 div.sk-text-repr-fallback {display: none;}</style><div id=\"sk-container-id-2\" class=\"sk-top-container\"><div class=\"sk-text-repr-fallback\"><pre>RandomForestClassifier(max_depth=2, random_state=0)</pre><b>In a Jupyter environment, please rerun this cell to show the HTML representation or trust the notebook. <br />On GitHub, the HTML representation is unable to render, please try loading this page with nbviewer.org.</b></div><div class=\"sk-container\" hidden><div class=\"sk-item\"><div class=\"sk-estimator sk-toggleable\"><input class=\"sk-toggleable__control sk-hidden--visually\" id=\"sk-estimator-id-4\" type=\"checkbox\" checked><label for=\"sk-estimator-id-4\" class=\"sk-toggleable__label sk-toggleable__label-arrow\">RandomForestClassifier</label><div class=\"sk-toggleable__content\"><pre>RandomForestClassifier(max_depth=2, random_state=0)</pre></div></div></div></div></div>"
      ],
      "text/plain": [
       "RandomForestClassifier(max_depth=2, random_state=0)"
      ]
     },
     "execution_count": 80,
     "metadata": {},
     "output_type": "execute_result"
    }
   ],
   "source": [
    "from sklearn.ensemble import RandomForestClassifier\n",
    "from sklearn.metrics import accuracy_score\n",
    "\n",
    "classifier = RandomForestClassifier(max_depth=2, random_state=0) \n",
    "classifier.fit(X_train, y_train)"
   ]
  },
  {
   "cell_type": "code",
   "execution_count": 81,
   "id": "684bf922",
   "metadata": {},
   "outputs": [],
   "source": [
    "preds = classifier.predict(X_test)"
   ]
  },
  {
   "cell_type": "code",
   "execution_count": 85,
   "id": "44d478fb",
   "metadata": {},
   "outputs": [
    {
     "name": "stdout",
     "output_type": "stream",
     "text": [
      "Prediction metrics:\n",
      "Accuracy : 0.9985\n",
      "Precision: 1.0\n",
      "Recall   : 0.3478\n",
      "F1-score : 0.5161\n"
     ]
    }
   ],
   "source": [
    "acc = accuracy_score(y_test, preds)\n",
    "pr = precision_score(y_test, preds)\n",
    "rc = recall_score(y_test, preds)\n",
    "f1 = f1_score(y_test, preds)\n",
    "\n",
    "print('Prediction metrics:')\n",
    "print(f'Accuracy : {round(acc, 4)}\\nPrecision: {round(pr, 4)}\\nRecall   : {round(rc, 4)}\\nF1-score : {round(f1, 4)}')"
   ]
  },
  {
   "attachments": {},
   "cell_type": "markdown",
   "id": "9cb90365",
   "metadata": {},
   "source": [
    "Here we can see again that the accuracy metric appears to be close to 1 given the imbalance in the two classes. Also, precision, is 1 which means that we have high confidence in our classifier's correctness when it predicts that a sample point belongs to the positive class. However, the recall metric is fairly low, which means that the True Positives over the Positives is low, i.e. out of all the positives, the classifier is able to discover only 34.5% of them and classify them correctly in the positive class. Then, the F1-score, which is the harmonic mean of precision and recall, is found to be around 52%, and provides a better metric for the evaluation of the predictive power of our classifier compared to accuracy in this imbalanced classes scenario. \n",
    "\n",
    "We can conclude here, that the results yieldied by the similarity-based classifier were slighly better (f1-score = 58%) than the embedding random walk approach (f1-score=52%), therefore we would use the first one for the task at hand in a production setup."
   ]
  },
  {
   "cell_type": "markdown",
   "id": "a0c0b3bb",
   "metadata": {},
   "source": [
    "<html><font size=4> <B><U>Ερώτηση bonus (+10/100)</U><B>: </font>Για τους binary operators για learning των edge features με τον αλγόριθμο Node2Vec που αναφέρονται στο <a href=\"https://cs.stanford.edu/~jure/pubs/node2vec-kdd16.pdf\">[3]</a> ((α) Average, (β) Hadamard, (γ) Weighted-L1 και (δ) Weighted-L2) τροποποιήστε τoν κώδικά σας και σημειώστε τις παρατηρήσεις σας ως προς την απόδοση του αλγορίθμου.</font></html>"
   ]
  },
  {
   "cell_type": "code",
   "execution_count": null,
   "id": "52bcaf59",
   "metadata": {},
   "outputs": [],
   "source": [
    "from sklearn.metrics import classification_report\n",
    "\n",
    "\n",
    "def evaluate_n2v(op):\n",
    "    y = df['link']\n",
    "    X = np.stack(list(map(lambda x: op(n2v_model.wv[x[0]], n2v_model.wv[x[1]]), df['edges'])))\n",
    "    X_train, X_test, y_train, y_test = train_test_split(X, y, random_state=42)\n",
    "\n",
    "    clf = RandomForestClassifier(max_depth=2, random_state=42).fit(X_train, y_train)\n",
    "    preds = clf.predict(X_test)\n",
    "    print(op.__name__)\n",
    "    print(classification_report(y_test, preds))\n",
    "\n",
    "\n",
    "def average(x, y):\n",
    "    return (x + y) / 2\n",
    "\n",
    "\n",
    "def hadamard(x, y):\n",
    "    return x * y\n",
    "\n",
    "\n",
    "def weighted_l1(x, y):\n",
    "    return np.abs(x - y)\n",
    "\n",
    "\n",
    "def weighted_l2(x, y):\n",
    "    return (x - y)**2\n",
    "\n",
    "\n",
    "# Kostas\n",
    "\n",
    "def evaluate_rf_n2v(op):\n",
    "    X = [op(word_2_vec.wv[u], word_2_vec.wv[v]) for u, v in df.index]\n",
    "    y = df['is_edge']\n",
    "    X_train, X_test, y_train, y_test = train_test_split(X, y, test_size=0.8, random_state=RANDOM_STATE)\n",
    "\n",
    "    rf = RandomForestClassifier(max_depth=20, n_jobs=-1, random_state=RANDOM_STATE)\n",
    "    rf.fit(X_train, y_train)\n",
    "    preds = rf.predict(X_test)\n",
    "\n",
    "    return classification_report(y_test, preds)\n",
    "\n",
    "\n",
    "def average(x, y):\n",
    "    return (x + y) / 2\n",
    "\n",
    "\n",
    "def hadamard(x, y):\n",
    "    return x * y\n",
    "\n",
    "\n",
    "def l1(x, y):\n",
    "    return np.abs(x - y)\n",
    "\n",
    "\n",
    "def l2(x, y):\n",
    "    return (x - y)**2\n",
    "\n",
    "\n",
    "ops = average, hadamard, l1, l2\n",
    "print(*(f'{op.__name__}\\n{evaluate_rf_n2v(op)}' for op in ops), sep='\\n')\n"
   ]
  },
  {
   "cell_type": "code",
   "execution_count": 91,
   "id": "37152f68",
   "metadata": {},
   "outputs": [
    {
     "data": {
      "text/plain": [
       "<gensim.models.keyedvectors.KeyedVectors at 0x1e3f80326b0>"
      ]
     },
     "execution_count": 91,
     "metadata": {},
     "output_type": "execute_result"
    }
   ],
   "source": [
    "n2v_model.wv"
   ]
  },
  {
   "cell_type": "code",
   "execution_count": 104,
   "id": "1569030c",
   "metadata": {},
   "outputs": [],
   "source": [
    "# binary operators\n",
    "\n",
    "def default_op(u, v):\n",
    "    return u + v\n",
    "\n",
    "def average_op(u, v):\n",
    "    return (u + v) / 2\n",
    "\n",
    "def hadamard_op(u, v):\n",
    "    return u * v\n",
    "\n",
    "def l1_weighted_op(u, v):\n",
    "    return np.abs(u - v)\n",
    "\n",
    "\n",
    "def l2_weighted_op(u, v):\n",
    "    return (u - v)**2"
   ]
  },
  {
   "cell_type": "code",
   "execution_count": 107,
   "id": "d7b63081",
   "metadata": {},
   "outputs": [],
   "source": [
    "from sklearn.metrics import classification_report\n",
    "\n",
    "def n2v_model_operator(bin_operator):\n",
    "\n",
    "    X = [bin_operator(n2v_model.wv[(i)], n2v_model.wv[(j)]) for i,j in zip(df3['node_1'], df3['node_2'])]\n",
    "    y = df['Link'].to_numpy()\n",
    "    X_train, X_test, y_train, y_test = train_test_split(np.array(X), y, test_size=0.33, random_state = 0)\n",
    "\n",
    "    classifier = RandomForestClassifier(max_depth=2, random_state=0) \n",
    "    classifier.fit(X_train, y_train)\n",
    "    \n",
    "    preds = classifier.predict(X_test)\n",
    "    print(classification_report(y_test, preds))  # show classification results"
   ]
  },
  {
   "cell_type": "code",
   "execution_count": 108,
   "id": "6510b9e5",
   "metadata": {},
   "outputs": [
    {
     "name": "stdout",
     "output_type": "stream",
     "text": [
      "Default operator:\n",
      "              precision    recall  f1-score   support\n",
      "\n",
      "           0       1.00      1.00      1.00     30258\n",
      "           1       1.00      0.35      0.52        69\n",
      "\n",
      "    accuracy                           1.00     30327\n",
      "   macro avg       1.00      0.67      0.76     30327\n",
      "weighted avg       1.00      1.00      1.00     30327\n",
      "\n",
      "__________________________________________________\n",
      "\n",
      "Average operator:\n",
      "              precision    recall  f1-score   support\n",
      "\n",
      "           0       1.00      1.00      1.00     30258\n",
      "           1       1.00      0.35      0.52        69\n",
      "\n",
      "    accuracy                           1.00     30327\n",
      "   macro avg       1.00      0.67      0.76     30327\n",
      "weighted avg       1.00      1.00      1.00     30327\n",
      "\n",
      "__________________________________________________\n",
      "\n",
      "Hadamard operator:\n",
      "              precision    recall  f1-score   support\n",
      "\n",
      "           0       1.00      1.00      1.00     30258\n",
      "           1       1.00      0.35      0.52        69\n",
      "\n",
      "    accuracy                           1.00     30327\n",
      "   macro avg       1.00      0.67      0.76     30327\n",
      "weighted avg       1.00      1.00      1.00     30327\n",
      "\n",
      "__________________________________________________\n",
      "\n",
      "L1 weighted operator:\n"
     ]
    },
    {
     "name": "stderr",
     "output_type": "stream",
     "text": [
      "c:\\Users\\User\\Downloads\\DSML MsC\\1st semester\\Ανάλυση Κοινωνικών Δικτύων - Social Networks\\Εργαστηριακές Ασκήσεις\\2022\\Social-Networks-Analysis\\venv\\lib\\site-packages\\sklearn\\metrics\\_classification.py:1334: UndefinedMetricWarning: Precision and F-score are ill-defined and being set to 0.0 in labels with no predicted samples. Use `zero_division` parameter to control this behavior.\n",
      "  _warn_prf(average, modifier, msg_start, len(result))\n",
      "c:\\Users\\User\\Downloads\\DSML MsC\\1st semester\\Ανάλυση Κοινωνικών Δικτύων - Social Networks\\Εργαστηριακές Ασκήσεις\\2022\\Social-Networks-Analysis\\venv\\lib\\site-packages\\sklearn\\metrics\\_classification.py:1334: UndefinedMetricWarning: Precision and F-score are ill-defined and being set to 0.0 in labels with no predicted samples. Use `zero_division` parameter to control this behavior.\n",
      "  _warn_prf(average, modifier, msg_start, len(result))\n",
      "c:\\Users\\User\\Downloads\\DSML MsC\\1st semester\\Ανάλυση Κοινωνικών Δικτύων - Social Networks\\Εργαστηριακές Ασκήσεις\\2022\\Social-Networks-Analysis\\venv\\lib\\site-packages\\sklearn\\metrics\\_classification.py:1334: UndefinedMetricWarning: Precision and F-score are ill-defined and being set to 0.0 in labels with no predicted samples. Use `zero_division` parameter to control this behavior.\n",
      "  _warn_prf(average, modifier, msg_start, len(result))\n"
     ]
    },
    {
     "name": "stdout",
     "output_type": "stream",
     "text": [
      "              precision    recall  f1-score   support\n",
      "\n",
      "           0       1.00      1.00      1.00     30258\n",
      "           1       0.00      0.00      0.00        69\n",
      "\n",
      "    accuracy                           1.00     30327\n",
      "   macro avg       0.50      0.50      0.50     30327\n",
      "weighted avg       1.00      1.00      1.00     30327\n",
      "\n",
      "__________________________________________________\n",
      "\n",
      "L2 weighted operator:\n",
      "              precision    recall  f1-score   support\n",
      "\n",
      "           0       1.00      1.00      1.00     30258\n",
      "           1       0.00      0.00      0.00        69\n",
      "\n",
      "    accuracy                           1.00     30327\n",
      "   macro avg       0.50      0.50      0.50     30327\n",
      "weighted avg       1.00      1.00      1.00     30327\n",
      "\n"
     ]
    },
    {
     "name": "stderr",
     "output_type": "stream",
     "text": [
      "c:\\Users\\User\\Downloads\\DSML MsC\\1st semester\\Ανάλυση Κοινωνικών Δικτύων - Social Networks\\Εργαστηριακές Ασκήσεις\\2022\\Social-Networks-Analysis\\venv\\lib\\site-packages\\sklearn\\metrics\\_classification.py:1334: UndefinedMetricWarning: Precision and F-score are ill-defined and being set to 0.0 in labels with no predicted samples. Use `zero_division` parameter to control this behavior.\n",
      "  _warn_prf(average, modifier, msg_start, len(result))\n",
      "c:\\Users\\User\\Downloads\\DSML MsC\\1st semester\\Ανάλυση Κοινωνικών Δικτύων - Social Networks\\Εργαστηριακές Ασκήσεις\\2022\\Social-Networks-Analysis\\venv\\lib\\site-packages\\sklearn\\metrics\\_classification.py:1334: UndefinedMetricWarning: Precision and F-score are ill-defined and being set to 0.0 in labels with no predicted samples. Use `zero_division` parameter to control this behavior.\n",
      "  _warn_prf(average, modifier, msg_start, len(result))\n",
      "c:\\Users\\User\\Downloads\\DSML MsC\\1st semester\\Ανάλυση Κοινωνικών Δικτύων - Social Networks\\Εργαστηριακές Ασκήσεις\\2022\\Social-Networks-Analysis\\venv\\lib\\site-packages\\sklearn\\metrics\\_classification.py:1334: UndefinedMetricWarning: Precision and F-score are ill-defined and being set to 0.0 in labels with no predicted samples. Use `zero_division` parameter to control this behavior.\n",
      "  _warn_prf(average, modifier, msg_start, len(result))\n"
     ]
    }
   ],
   "source": [
    "print('Default operator:')\n",
    "n2v_model_operator(default_op)\n",
    "print('__________________________________________________\\n')\n",
    "print('Average operator:')\n",
    "n2v_model_operator(average_op)\n",
    "print('__________________________________________________\\n')\n",
    "print('Hadamard operator:')\n",
    "n2v_model_operator(hadamard_op)\n",
    "print('__________________________________________________\\n')\n",
    "print('L1 weighted operator:')\n",
    "n2v_model_operator(l1_weighted_op)\n",
    "print('__________________________________________________\\n')\n",
    "print('L2 weighted operator:')\n",
    "n2v_model_operator(l2_weighted_op)\n"
   ]
  },
  {
   "cell_type": "markdown",
   "id": "8da3a402",
   "metadata": {},
   "source": [
    "<html><font size=4><B><U>Βιβλιογραφία:</U></B><BR></font>\n",
    "<a href=\"https://dl.acm.org/doi/10.1145/2487788.2488173\">[1]\tJérôme Kunegis. KONECT – The Koblenz Network Collection. In Proc. Int. Conf. on World Wide Web Companion, pages 1343–1350, 2013.</a><BR>\n",
    "<a href=\"https://link.springer.com/chapter/10.1007/978-3-540-76298-0_52\">[2]\tSören Auer, Christian Bizer, Georgi Kobilarov, Jens Lehmann, Richard Cyganiak, and Zachary Ives. DBpedia: A nucleus for a web of open data. In Proc. Int. Semant. Web Conf., pages 722–735, 2008.<BR>\n",
    "<a href=\"https://cs.stanford.edu/~jure/pubs/node2vec-kdd16.pdf\">[3] A. Grover, J. Leskovec, Node2vec: Scalable Feature Learning for Networks. ACM KDD, 2016.</a><BR>\n",
    " <a href=\"https://proceedings.neurips.cc/paper/2013/file/9aa42b31882ec039965f3c4923ce901b-Paper.pdf\">[4] T.Mikolov, I.Sutskever, K.Chen, G.S.Corrado and J.Dean, Distributed representations of words and phrases and their compositionality. In NIPS, 2013.</a><BR></font></html>"
   ]
  }
 ],
 "metadata": {
  "kernelspec": {
   "display_name": "venv",
   "language": "python",
   "name": "python3"
  },
  "language_info": {
   "codemirror_mode": {
    "name": "ipython",
    "version": 3
   },
   "file_extension": ".py",
   "mimetype": "text/x-python",
   "name": "python",
   "nbconvert_exporter": "python",
   "pygments_lexer": "ipython3",
   "version": "3.10.1"
  },
  "vscode": {
   "interpreter": {
    "hash": "77f9e94b9c1a0d674a149d48dfaf7f9baf73317a180f1a6f1fbcb642e7f664b1"
   }
  }
 },
 "nbformat": 4,
 "nbformat_minor": 5
}